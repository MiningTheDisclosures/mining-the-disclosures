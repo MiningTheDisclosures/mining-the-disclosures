{
 "cells": [
  {
   "cell_type": "code",
   "execution_count": 16,
   "metadata": {
    "collapsed": true
   },
   "outputs": [],
   "source": [
    "import pandas as pd\n",
    "import os"
   ]
  },
  {
   "cell_type": "code",
   "execution_count": 6,
   "metadata": {
    "collapsed": false
   },
   "outputs": [
    {
     "data": {
      "text/html": [
       "<div>\n",
       "<table border=\"1\" class=\"dataframe\">\n",
       "  <thead>\n",
       "    <tr style=\"text-align: right;\">\n",
       "      <th></th>\n",
       "      <th>orig_id</th>\n",
       "      <th>description</th>\n",
       "      <th>new_id</th>\n",
       "    </tr>\n",
       "  </thead>\n",
       "  <tbody>\n",
       "    <tr>\n",
       "      <th>0</th>\n",
       "      <td>1b</td>\n",
       "      <td>Specifically note that suppliers may continue ...</td>\n",
       "      <td>MA1_1A_2</td>\n",
       "    </tr>\n",
       "    <tr>\n",
       "      <th>1</th>\n",
       "      <td>3C</td>\n",
       "      <td>Indicate which 3TG minerals are used</td>\n",
       "      <td>MA2_3_3</td>\n",
       "    </tr>\n",
       "    <tr>\n",
       "      <th>2</th>\n",
       "      <td>7A</td>\n",
       "      <td>Sort countries of origin by mineral, product, ...</td>\n",
       "      <td>MA2_6_1</td>\n",
       "    </tr>\n",
       "    <tr>\n",
       "      <th>3</th>\n",
       "      <td>14A</td>\n",
       "      <td>Conducted Independent Private Sector Audit</td>\n",
       "      <td>MA4_13_1</td>\n",
       "    </tr>\n",
       "    <tr>\n",
       "      <th>4</th>\n",
       "      <td>19B</td>\n",
       "      <td>Source from an in-region initiative not just i...</td>\n",
       "      <td>MA5_18_2</td>\n",
       "    </tr>\n",
       "  </tbody>\n",
       "</table>\n",
       "</div>"
      ],
      "text/plain": [
       "  orig_id                                        description    new_id\n",
       "0      1b  Specifically note that suppliers may continue ...  MA1_1A_2\n",
       "1      3C               Indicate which 3TG minerals are used   MA2_3_3\n",
       "2      7A  Sort countries of origin by mineral, product, ...   MA2_6_1\n",
       "3     14A        Conducted Independent Private Sector Audit   MA4_13_1\n",
       "4     19B  Source from an in-region initiative not just i...  MA5_18_2"
      ]
     },
     "execution_count": 6,
     "metadata": {},
     "output_type": "execute_result"
    }
   ],
   "source": [
    "promising = pd.read_csv('/Users/caged/Dropbox/RSN Mining/promising indicators.csv')\n",
    "promising.head()"
   ]
  },
  {
   "cell_type": "code",
   "execution_count": 21,
   "metadata": {
    "collapsed": false
   },
   "outputs": [
    {
     "data": {
      "text/html": [
       "<div>\n",
       "<table border=\"1\" class=\"dataframe\">\n",
       "  <thead>\n",
       "    <tr style=\"text-align: right;\">\n",
       "      <th></th>\n",
       "      <th>label</th>\n",
       "      <th>cik</th>\n",
       "      <th>primarysymbol</th>\n",
       "      <th>dir_name</th>\n",
       "      <th>dir_path</th>\n",
       "    </tr>\n",
       "  </thead>\n",
       "  <tbody>\n",
       "    <tr>\n",
       "      <th>0</th>\n",
       "      <td>1</td>\n",
       "      <td>66740</td>\n",
       "      <td>MMM</td>\n",
       "      <td>MMM -- 66740</td>\n",
       "      <td>supporting_docs_2015/MMM -- 66740</td>\n",
       "    </tr>\n",
       "    <tr>\n",
       "      <th>1</th>\n",
       "      <td>1</td>\n",
       "      <td>937966</td>\n",
       "      <td>ASML</td>\n",
       "      <td>ASML -- 937966</td>\n",
       "      <td>supporting_docs_2015/ASML -- 937966</td>\n",
       "    </tr>\n",
       "    <tr>\n",
       "      <th>2</th>\n",
       "      <td>0</td>\n",
       "      <td>1800</td>\n",
       "      <td>ABT</td>\n",
       "      <td>ABT -- 1800</td>\n",
       "      <td>supporting_docs_2015/ABT -- 1800</td>\n",
       "    </tr>\n",
       "    <tr>\n",
       "      <th>3</th>\n",
       "      <td>0</td>\n",
       "      <td>1144215</td>\n",
       "      <td>AYI</td>\n",
       "      <td>AYI -- 1144215</td>\n",
       "      <td>supporting_docs_2015/AYI -- 1144215</td>\n",
       "    </tr>\n",
       "    <tr>\n",
       "      <th>4</th>\n",
       "      <td>1</td>\n",
       "      <td>886125</td>\n",
       "      <td>ALU</td>\n",
       "      <td>ALU -- 886125</td>\n",
       "      <td>supporting_docs_2015/ALU -- 886125</td>\n",
       "    </tr>\n",
       "  </tbody>\n",
       "</table>\n",
       "</div>"
      ],
      "text/plain": [
       "  label      cik primarysymbol        dir_name  \\\n",
       "0     1    66740           MMM    MMM -- 66740   \n",
       "1     1   937966          ASML  ASML -- 937966   \n",
       "2     0     1800           ABT     ABT -- 1800   \n",
       "3     0  1144215           AYI  AYI -- 1144215   \n",
       "4     1   886125           ALU   ALU -- 886125   \n",
       "\n",
       "                              dir_path  \n",
       "0    supporting_docs_2015/MMM -- 66740  \n",
       "1  supporting_docs_2015/ASML -- 937966  \n",
       "2     supporting_docs_2015/ABT -- 1800  \n",
       "3  supporting_docs_2015/AYI -- 1144215  \n",
       "4   supporting_docs_2015/ALU -- 886125  "
      ]
     },
     "execution_count": 21,
     "metadata": {},
     "output_type": "execute_result"
    }
   ],
   "source": [
    "ind_ma1 = pd.read_csv('/Users/caged/Dropbox/RSN Mining/indicator_data_matched_with_cik_data.csv', dtype='str', usecols=['MA1_1A_2', 'cik', 'primarysymbol'])\n",
    "ind_ma1 = ind_ma1.rename(columns={'MA1_1A_2': 'label'})\n",
    "ind_ma1['dir_name'] = ind_ma1.apply(lambda row: ' '.join([row.primarysymbol, '--', row.cik]), axis=1)\n",
    "ind_ma1['dir_path'] = ind_ma1.dir_name.apply(lambda x: os.path.join('supporting_docs_2015', x))\n",
    "ind_ma1.head()"
   ]
  },
  {
   "cell_type": "code",
   "execution_count": 28,
   "metadata": {
    "collapsed": false
   },
   "outputs": [
    {
     "name": "stdout",
     "output_type": "stream",
     "text": [
      "supporting_docs_2015/MMM -- 66740/0001104659-15-042396.txt\n",
      "supporting_docs_2015/MMM -- 66740/a15-12384_1ex1d01.htm\n",
      "supporting_docs_2015/MMM -- 66740/a15-12384_1sd.htm\n"
     ]
    }
   ],
   "source": [
    "# How to walk a folder\n",
    "row_1 = ind_ma1.ix[0]\n",
    "for file_name in os.listdir(row_1.dir_path):\n",
    "    file_path = os.path.join(row_1.dir_path, file_name)\n",
    "    print(file_path)"
   ]
  },
  {
   "cell_type": "code",
   "execution_count": 37,
   "metadata": {
    "collapsed": false
   },
   "outputs": [
    {
     "data": {
      "text/html": [
       "<div>\n",
       "<table border=\"1\" class=\"dataframe\">\n",
       "  <thead>\n",
       "    <tr style=\"text-align: right;\">\n",
       "      <th></th>\n",
       "      <th>req_company_name</th>\n",
       "      <th>req_cik</th>\n",
       "      <th>req_url</th>\n",
       "      <th>ret_cik</th>\n",
       "      <th>ret_company_name</th>\n",
       "      <th>ret_description</th>\n",
       "      <th>ret_filing_date</th>\n",
       "      <th>ret_sec_accession_number</th>\n",
       "      <th>ret_title</th>\n",
       "      <th>ret_url</th>\n",
       "    </tr>\n",
       "  </thead>\n",
       "  <tbody>\n",
       "    <tr>\n",
       "      <th>2</th>\n",
       "      <td>AARON'S INC</td>\n",
       "      <td>706688</td>\n",
       "      <td>http://www.sec.gov/Archives/edgar/data/706688/...</td>\n",
       "      <td>0000706688</td>\n",
       "      <td>AARON'S INC</td>\n",
       "      <td>sdconflictminerals2014.htm</td>\n",
       "      <td>2015-05-22 12:06:05</td>\n",
       "      <td>0000706688-15-000148</td>\n",
       "      <td>SD_CONFLICT_MINERALS_2014</td>\n",
       "      <td>https://www.sec.gov/Archives/edgar/data/706688...</td>\n",
       "    </tr>\n",
       "    <tr>\n",
       "      <th>3</th>\n",
       "      <td>AARON'S INC</td>\n",
       "      <td>706688</td>\n",
       "      <td>http://www.sec.gov/Archives/edgar/data/706688/...</td>\n",
       "      <td>0000706688</td>\n",
       "      <td>AARON'S INC</td>\n",
       "      <td>0000706688-15-000148.txt</td>\n",
       "      <td>2015-05-22 12:06:05</td>\n",
       "      <td>0000706688-15-000148</td>\n",
       "      <td>Complete submission text file</td>\n",
       "      <td>https://www.sec.gov/Archives/edgar/data/706688...</td>\n",
       "    </tr>\n",
       "    <tr>\n",
       "      <th>7</th>\n",
       "      <td>AAON INC</td>\n",
       "      <td>824142</td>\n",
       "      <td>http://www.sec.gov/Archives/edgar/data/824142/...</td>\n",
       "      <td>0000824142</td>\n",
       "      <td>AAON INC</td>\n",
       "      <td>a2014formsd.htm</td>\n",
       "      <td>2015-05-29 11:36:18</td>\n",
       "      <td>0000824142-15-000071</td>\n",
       "      <td>SD</td>\n",
       "      <td>https://www.sec.gov/Archives/edgar/data/824142...</td>\n",
       "    </tr>\n",
       "    <tr>\n",
       "      <th>8</th>\n",
       "      <td>AAON INC</td>\n",
       "      <td>824142</td>\n",
       "      <td>http://www.sec.gov/Archives/edgar/data/824142/...</td>\n",
       "      <td>0000824142</td>\n",
       "      <td>AAON INC</td>\n",
       "      <td>exhibit101.htm</td>\n",
       "      <td>2015-05-29 11:36:18</td>\n",
       "      <td>0000824142-15-000071</td>\n",
       "      <td>EXHIBIT 1.01</td>\n",
       "      <td>https://www.sec.gov/Archives/edgar/data/824142...</td>\n",
       "    </tr>\n",
       "    <tr>\n",
       "      <th>9</th>\n",
       "      <td>AAON INC</td>\n",
       "      <td>824142</td>\n",
       "      <td>http://www.sec.gov/Archives/edgar/data/824142/...</td>\n",
       "      <td>0000824142</td>\n",
       "      <td>AAON INC</td>\n",
       "      <td>0000824142-15-000071.txt</td>\n",
       "      <td>2015-05-29 11:36:18</td>\n",
       "      <td>0000824142-15-000071</td>\n",
       "      <td>Complete submission text file</td>\n",
       "      <td>https://www.sec.gov/Archives/edgar/data/824142...</td>\n",
       "    </tr>\n",
       "  </tbody>\n",
       "</table>\n",
       "</div>"
      ],
      "text/plain": [
       "  req_company_name req_cik                                            req_url  \\\n",
       "2      AARON'S INC  706688  http://www.sec.gov/Archives/edgar/data/706688/...   \n",
       "3      AARON'S INC  706688  http://www.sec.gov/Archives/edgar/data/706688/...   \n",
       "7         AAON INC  824142  http://www.sec.gov/Archives/edgar/data/824142/...   \n",
       "8         AAON INC  824142  http://www.sec.gov/Archives/edgar/data/824142/...   \n",
       "9         AAON INC  824142  http://www.sec.gov/Archives/edgar/data/824142/...   \n",
       "\n",
       "      ret_cik ret_company_name             ret_description  \\\n",
       "2  0000706688      AARON'S INC  sdconflictminerals2014.htm   \n",
       "3  0000706688      AARON'S INC    0000706688-15-000148.txt   \n",
       "7  0000824142         AAON INC             a2014formsd.htm   \n",
       "8  0000824142         AAON INC              exhibit101.htm   \n",
       "9  0000824142         AAON INC    0000824142-15-000071.txt   \n",
       "\n",
       "      ret_filing_date ret_sec_accession_number                      ret_title  \\\n",
       "2 2015-05-22 12:06:05     0000706688-15-000148      SD_CONFLICT_MINERALS_2014   \n",
       "3 2015-05-22 12:06:05     0000706688-15-000148  Complete submission text file   \n",
       "7 2015-05-29 11:36:18     0000824142-15-000071                             SD   \n",
       "8 2015-05-29 11:36:18     0000824142-15-000071                   EXHIBIT 1.01   \n",
       "9 2015-05-29 11:36:18     0000824142-15-000071  Complete submission text file   \n",
       "\n",
       "                                             ret_url  \n",
       "2  https://www.sec.gov/Archives/edgar/data/706688...  \n",
       "3  https://www.sec.gov/Archives/edgar/data/706688...  \n",
       "7  https://www.sec.gov/Archives/edgar/data/824142...  \n",
       "8  https://www.sec.gov/Archives/edgar/data/824142...  \n",
       "9  https://www.sec.gov/Archives/edgar/data/824142...  "
      ]
     },
     "execution_count": 37,
     "metadata": {},
     "output_type": "execute_result"
    }
   ],
   "source": [
    "dd = pd.read_csv('disclosure_docs_list.csv', dtype='str')\n",
    "dd = dd.drop('Unnamed: 0', axis=1)\n",
    "dd = dd.rename(columns={'req_cik': 'req_company_name', 'req_company_name': 'req_cik'})\n",
    "dd.ret_filing_date = pd.to_datetime(dd.ret_filing_date)\n",
    "dd_2015 = dd[dd.ret_filing_date.dt.year == 2015]\n",
    "dd_2015.head()"
   ]
  },
  {
   "cell_type": "code",
   "execution_count": 38,
   "metadata": {
    "collapsed": true
   },
   "outputs": [],
   "source": [
    "row_1 = ind_ma1.ix[0]"
   ]
  },
  {
   "cell_type": "code",
   "execution_count": 41,
   "metadata": {
    "collapsed": false
   },
   "outputs": [
    {
     "data": {
      "text/html": [
       "<div>\n",
       "<table border=\"1\" class=\"dataframe\">\n",
       "  <thead>\n",
       "    <tr style=\"text-align: right;\">\n",
       "      <th></th>\n",
       "      <th>req_company_name</th>\n",
       "      <th>req_cik</th>\n",
       "      <th>req_url</th>\n",
       "      <th>ret_cik</th>\n",
       "      <th>ret_company_name</th>\n",
       "      <th>ret_description</th>\n",
       "      <th>ret_filing_date</th>\n",
       "      <th>ret_sec_accession_number</th>\n",
       "      <th>ret_title</th>\n",
       "      <th>ret_url</th>\n",
       "    </tr>\n",
       "  </thead>\n",
       "  <tbody>\n",
       "    <tr>\n",
       "      <th>50</th>\n",
       "      <td>3M CO</td>\n",
       "      <td>66740</td>\n",
       "      <td>http://www.sec.gov/Archives/edgar/data/66740/0...</td>\n",
       "      <td>0000066740</td>\n",
       "      <td>3M CO</td>\n",
       "      <td>0001104659-15-042396.txt</td>\n",
       "      <td>2015-06-01 15:06:30</td>\n",
       "      <td>0001104659-15-042396</td>\n",
       "      <td>Complete submission text file</td>\n",
       "      <td>https://www.sec.gov/Archives/edgar/data/66740/...</td>\n",
       "    </tr>\n",
       "  </tbody>\n",
       "</table>\n",
       "</div>"
      ],
      "text/plain": [
       "   req_company_name req_cik  \\\n",
       "50            3M CO   66740   \n",
       "\n",
       "                                              req_url     ret_cik  \\\n",
       "50  http://www.sec.gov/Archives/edgar/data/66740/0...  0000066740   \n",
       "\n",
       "   ret_company_name           ret_description     ret_filing_date  \\\n",
       "50            3M CO  0001104659-15-042396.txt 2015-06-01 15:06:30   \n",
       "\n",
       "   ret_sec_accession_number                      ret_title  \\\n",
       "50     0001104659-15-042396  Complete submission text file   \n",
       "\n",
       "                                              ret_url  \n",
       "50  https://www.sec.gov/Archives/edgar/data/66740/...  "
      ]
     },
     "execution_count": 41,
     "metadata": {},
     "output_type": "execute_result"
    }
   ],
   "source": [
    "# Get just the text file\n",
    "dd_2015[(dd_2015.req_cik == row_1.cik) & (dd_2015.ret_title == 'Complete submission text file')]"
   ]
  },
  {
   "cell_type": "code",
   "execution_count": 56,
   "metadata": {
    "collapsed": false
   },
   "outputs": [
    {
     "data": {
      "text/plain": [
       "'0001104659-15-042396.txt'"
      ]
     },
     "execution_count": 56,
     "metadata": {},
     "output_type": "execute_result"
    }
   ],
   "source": [
    "results = dd_2015[(dd_2015.req_cik == row_1.cik) & (dd_2015.ret_title == 'Complete submission text file')].reset_index()\n",
    "assert len(results) == 1\n",
    "text_file_name = results['ret_description'][0]\n",
    "text_file_name"
   ]
  },
  {
   "cell_type": "code",
   "execution_count": 60,
   "metadata": {
    "collapsed": false
   },
   "outputs": [],
   "source": [
    "file_path = os.path.join(row_1.dir_path, text_file_name)\n",
    "with open(file_path, 'r') as f:\n",
    "    text = f.read()"
   ]
  },
  {
   "cell_type": "code",
   "execution_count": 62,
   "metadata": {
    "collapsed": false,
    "scrolled": true
   },
   "outputs": [],
   "source": [
    "from bs4 import BeautifulSoup\n",
    "soup = BeautifulSoup(text)"
   ]
  },
  {
   "cell_type": "code",
   "execution_count": 73,
   "metadata": {
    "collapsed": false
   },
   "outputs": [
    {
     "data": {
      "text/plain": [
       "'\\nSD\\n1\\na15-12384_1sd.htm\\nSD\\n\\n\\n\\n\\n\\n\\n\\xa0\\n\\n\\xa0\\n\\n\\xa0\\nUNITED STATES\\nSECURITIES AND EXCHANGE COMMISSION\\nWASHINGTON, DC 20549\\n\\xa0\\nFORM\\xa0SD\\n\\xa0\\nSpecialized Disclosure Report\\n\\xa0\\n3M COMPANY\\n(Exact Name of Registrant as Specified in Its Charter)\\n\\xa0\\nDelaware\\n(State or Other Jurisdiction of Incorporation)\\n\\xa0\\n\\n\\n\\n\\nFile No.\\xa01-3285 \\n\\n\\xa0 \\n\\n41-0417775  \\n\\n\\n(Commission File Number) \\n\\n\\xa0 \\n\\n(IRS Employer Identification No.)  \\n\\n\\n\\xa0 \\n\\n\\xa0 \\n\\n\\xa0  \\n\\n\\n3M Center, St. Paul,   Minnesota \\n\\n\\xa0 \\n\\n55144-1000  \\n\\n\\n(Address of Principal Executive   Offices) \\n\\n\\xa0 \\n\\n(Zip Code)   \\n\\n\\xa0\\nMark Copman, Vice President\\n3M Sourcing Operations\\n(651) 733-1110\\n(Name and telephone number, including area code, of the person to contact in connection with this report)\\n\\xa0\\nCheck the appropriate box to indicate the rule\\xa0pursuant to which this form is being filed, and provide the period to which the information in this form applies:\\n\\xa0\\nx\\xa0\\xa0 Rule\\xa013p-1 under the Securities Exchange Act (17 CFR 240.13p-1) for the reporting period from January\\xa01 to December\\xa031, 2014.\\n\\xa0\\n\\n\\xa0\\n\\n\\xa0\\n\\n\\n\\n\\n\\n\\xa0\\nSection\\xa01 \\x97 Conflict Minerals Disclosures\\n\\xa0\\nItem 1.01 Conflict Minerals Disclosure and Report\\n\\xa0\\nThis Specialized Disclosure Report (Form\\xa0SD) for 3M Company (\\x933M,\\x94 \\x93Company,\\x94 \\x93we,\\x94 \\x93our\\x94) is provided in accordance with Rule\\xa013p-1 under the Securities Exchange Act of 1934 (\\x93Rule\\xa013p-1\\x94) for the reporting period from January\\xa01 to December\\xa031, 2014.\\n\\xa0\\nConflict Minerals are defined by the Securities and Exchange Commission (SEC) as cassiterite, columbite-tantalite, wolframite and gold, and their derivatives, which are limited to tin, tantalum and tungsten (collectively \\x933TG\\x94).\\xa0 During calendar year 2014, 3M manufactured and contracted to manufacture products in which 3TG were necessary to the functionality or production of those products.\\n\\xa0\\n3M therefore conducted a \\x93reasonable country of origin inquiry\\x94 (RCOI) to determine whether any of those minerals: (1)\\xa0originated in the Democratic Republic of Congo (DRC), the Republic of the Congo, the Central African Republic, South Sudan, Uganda, Rwanda, Burundi, Tanzania, Zambia and Angola (together, the \\x93Covered Countries\\x94); or (2)\\xa0are from recycled or scrap sources.\\n\\xa0\\nA.\\xa0\\xa0\\xa0\\xa0\\xa0\\xa0\\xa0\\xa0\\xa0\\xa0\\xa0 Introduction:\\n\\xa0\\n1.\\xa0\\xa0\\xa0\\xa0\\xa0\\xa0\\xa0\\xa0\\xa0\\xa0\\xa0\\xa0\\xa0\\xa0 3M\\x92s Business: 3M is a diversified technology company with a global presence in the following five businesses:\\xa0 Industrial; Safety and Graphics; Electronics and Energy; Health Care; and Consumer.\\xa0 3M is among the leading manufacturers of products for many of the markets it serves.\\xa0 These businesses have worldwide responsibility for virtually all 3M product lines.\\n\\xa0\\n2.\\xa0\\xa0\\xa0\\xa0\\xa0\\xa0\\xa0\\xa0\\xa0\\xa0\\xa0\\xa0\\xa0\\xa0 3M Supply Chains:\\xa0 3M supply chains are complex, including thousands of suppliers spread over different tiers in those chains.\\xa0 Supplied materials are used in products serving numerous industry sectors.\\xa0 3M is typically many tiers from smelters or refiners that would have information on mines supplying 3TG.\\xa0 Moreover, to the extent 3TG are present in 3M products the content may be at trace levels.\\xa0 Supply chains are improving their capacity to obtain and transmit smelter identities, but there can be long delays, incomplete data and extensive supplier follow-up. Obtaining information regarding smelters, refiners and mine location is therefore challenging.\\n\\xa0\\n3.\\xa0\\xa0\\xa0\\xa0\\xa0\\xa0\\xa0\\xa0\\xa0\\xa0\\xa0\\xa0\\xa0\\xa0 3M\\x92s Conflict Minerals Policy: As disclosed in our Form\\xa0SD filed on June\\xa02, 2014, 3M adopted a Conflict Minerals Policy (\\x93Policy\\x94) in July, 2011.\\xa0 The Policy applies to all 3M suppliers.\\xa0 It was updated in November\\xa02012 following the SEC\\x92s adoption of the final conflict minerals rule\\xa0(\\x93Final Rule\\x94), and is available on our website along with other information on 3M\\x92s conflict minerals program.\\xa0\\xa0 3M expects its suppliers to: (a)\\xa0supply materials that are \\x93DRC conflict free\\x94; (b)\\xa0adopt a conflict minerals policy consistent with 3M\\x92s; (c)\\xa0implement management systems to support compliance with their conflict minerals policy; and (d)\\xa0require their suppliers to take the same steps.\\n\\xa0\\n4.\\xa0\\xa0\\xa0\\xa0\\xa0\\xa0\\xa0\\xa0\\xa0\\xa0\\xa0\\xa0\\xa0\\xa0 3M\\x92s Commitment to Industry Participation in the Conflict Free Sourcing Initiative (CFSI): As a downstream company that does not typically contract directly with 3TG smelters or refiners, 3M actively collaborated with others in the industry through participation in the Conflict Free Sourcing Initiative (CFSI), which evolved from the Electronic Industry \\n\\xa0\\n2\\n\\n\\n\\n\\n\\n\\xa0\\nCitizenship Coalition-Global e-Sustainability Initiative (EICC-GeSI).\\xa0 The CFSI is a broad-based initiative to develop control systems regarding smelters and refiners through independently validated audits under CFSI\\x92s Conflict Free Smelter (CFS) program.\\xa0 Over 200 companies and associations across seven different industries participate in the CFSI.\\xa0 In furtherance of our commitment to industry collaborative controls and the CFS program in particular, in January\\xa02014 3M made a donation to the CFSI Initial Audit Fund to provide financial assistance to smelters for their first-year audit.\\xa0 The Fund is intended to eliminate barriers to smelter participation in the CFS program.\\xa0 In addition, 3M was a member of CFSI throughout 2014.\\xa0 In 2014 we encouraged supplier and other company membership and participation in CFSI.\\n\\xa0\\nB.\\xa0\\xa0\\xa0\\xa0\\xa0\\xa0\\xa0\\xa0\\xa0\\xa0\\xa0 Description of RCOI:\\n\\xa0\\n1.\\xa0\\xa0\\xa0\\xa0\\xa0\\xa0\\xa0\\xa0\\xa0\\xa0\\xa0\\xa0\\xa0\\xa0 RCOI Elements:\\xa0 The elements of 3M\\x92s RCOI were identification and prioritization of suppliers, supplier data collection and an assessment of supplier data to determine whether further due diligence was required.\\xa0 These basic elements did not change from the previous year\\x92s inquiry.\\n\\xa0\\n2.\\xa0\\xa0\\xa0\\xa0\\xa0\\xa0\\xa0\\xa0\\xa0\\xa0\\xa0\\xa0\\xa0\\xa0 Prioritized Supplier Inquiry:\\xa0 In view of 3M\\x92s extensive supply chains, 3M determined that a reasonably designed and good faith inquiry should focus on higher priority suppliers consistent with the Conflict Free Smelter Initiative (CFSI) Reasonable Practices Guidance (subsequently renamed Five Practical Steps to Support SEC Conflict Minerals Disclosure).\\xa0 3M designated over 50 employees globally as \\x93Conflict Minerals Advisors\\x94 (CMAs).\\xa0 The CMAs and many other knowledgeable 3M personnel identified products containing 3TG necessary to the functionality or production of those products (\\x93Necessary 3TG\\x94).\\xa0 This process resulted in many product families and individual products being screened out from further inquiry, as not containing Necessary 3TG.\\xa0 3M then prioritized its review of those products containing Necessary 3TG and the corresponding supply chains taking into account various factors such as estimated content of 3TG, type of mineral, amount of spend, the nature of the supply chain, and supplier location.\\n\\xa0\\n3.\\xa0\\xa0\\xa0\\xa0\\xa0\\xa0\\xa0\\xa0\\xa0\\xa0\\xa0\\xa0\\xa0\\xa0 Data Collection Via Web-Enabled Supplier Inquiry:\\xa0 \\xa0Once the relevant higher priority suppliers (\\x93Supplier Group\\x94) were identified, 3M asked the Supplier Group to provide information about the Necessary 3TG in their products based on the industry standard CFSI Conflict Minerals Reporting Template (CMRT), formerly known as the EICC-GeSI CFSI reporting template.\\xa0 This request was web-enabled using 3M\\x92s Supplier Regulatory eEnablement (SREE) system.\\xa0 That system issued three automatic follow-up reminders to those in the Supplier Group who had not responded to the information request.\\xa0 Additional e-mail reminders were sent to those in the Supplier Group who had not responded, and follow-up phone calls were made with prioritized suppliers.\\n\\xa0\\nC.\\xa0 Results of RCOI\\n\\xa0\\nDownstream companies such as 3M are not likely to have direct information on the sources of minerals upstream of the smelters or refiners (SORs) in their supply chains.\\xa0 Instead, downstream companies rely on available information regarding SORs identified through supplier inquiry.\\xa0 Accordingly, 3M reviewed supplier responses resulting from the inquiry described in Paragraph B.3 above as well as information from capacity-building interactions and efforts with suppliers to \\n\\xa0\\n3\\n\\n\\n\\n\\n\\n\\xa0\\nelicit responses and encourage development of conflict minerals programs.\\xa0 These supplier responses and our capacity-building efforts affirmed information on supply chain maturity gathered through participation in the CFSI program and other industry associations. Although 3M received more SOR names from the Supplier Group for the 2014 reporting year as compared to those received from the Supplier Group for the 2013 reporting year, which indicated progress, the multi-tiered supply chains were still building capacity to pass 3TG-related inquiries and information on SORs up and down those supply chains.\\xa0 As a downstream company typically several tiers from SORs, 3M relied on information from direct suppliers, many of them smaller and private companies.\\xa0 These direct suppliers were continuing to build their conflict minerals programs and capacities to transmit conflict mineral information during 2014.\\n\\xa0\\nD.\\xa0 Conclusion\\n\\xa0\\nBased on its RCOI 3M has reason to believe that a portion of its Necessary 3TG may have originated in the Covered Countries and has reason to believe that those Necessary 3TG may not be from recycled or scrap sources.\\xa0 Accordingly, 3M conducted further due diligence on the source and chain of custody of Necessary 3TG contained in products supplied by the Supplier Group.\\xa0 After conducting the due diligence described in the attached Conflict Minerals Report, 3M determined that based on SOR information provided by the Supplier Group and information available to 3M as a member of CFSI, the SORs identified as sourcing from those Covered Countries have all been validated as using conflict free sourcing practices under the Conflict Free Smelter program.\\n\\xa0\\nIn accord with Rule\\xa013p-1 under the Securities Exchange Act of 1934, 3M has filed this Specialized Disclosure Form\\xa0(Form\\xa0SD) and\\xa0the associated Conflict Minerals Report and both reports are posted to a publicly available Internet site at http://investors.3m.com/financials/sec-filings/default.aspx and are listed under the filing type \\x93SD.\\x94 The reference to 3M\\x92s website is provided for convenience only, and its contents are not incorporated by reference into this Form\\xa0SD and Conflict Minerals Report nor deemed filed with the U.S. Securities and Exchange Commission.\\n\\xa0\\n4\\n\\n\\n\\n\\n\\n\\xa0\\nItem 1.02\\xa0\\xa0\\xa0\\xa0\\xa0\\xa0\\xa0\\xa0\\xa0 Exhibit\\n\\xa0\\nThe Conflict Minerals Report required by Item 1.01 is filed as Exhibit\\xa01.01 to this Form\\xa0SD.\\n\\xa0\\nSection\\xa02 \\x97 Exhibits\\n\\xa0\\nItem\\xa0\\xa0 2.01\\xa0\\xa0\\xa0\\xa0 Exhibits\\n\\xa0\\nExhibit\\xa01.01 \\x96 Conflict Minerals Report for the period January\\xa01 to December\\xa031, 2014, as required by Items 1.01 and 1.02 of this Form\\n\\xa0\\nSIGNATURES\\n\\xa0\\nPursuant to the requirements of the Securities Exchange Act of 1934, the registrant has caused this report to be signed on its behalf by the duly authorized undersigned.\\n\\xa0\\n3M COMPANY\\n\\xa0\\n\\n\\n\\n\\n/s/ Paul A. Keel \\n\\n\\xa0 \\n\\nJune\\xa01, 2015  \\n\\n\\n\\xa0 \\n\\n\\xa0 \\n\\n\\xa0  \\n\\n\\nBy: Paul A. Keel, \\n\\n\\xa0 \\n\\n(Date)  \\n\\n\\n\\xa0 \\n\\n\\xa0 \\n\\n\\xa0  \\n\\n\\nSenior Vice President, Supply Chain \\n\\n\\xa0 \\n\\n\\xa0   \\n\\n\\xa0\\n5\\n\\n\\n\\n\\n\\n\\n'"
      ]
     },
     "execution_count": 73,
     "metadata": {},
     "output_type": "execute_result"
    }
   ],
   "source": [
    "documents = soup.findAll('document')\n",
    "documents[0].text"
   ]
  },
  {
   "cell_type": "code",
   "execution_count": null,
   "metadata": {
    "collapsed": true
   },
   "outputs": [],
   "source": []
  }
 ],
 "metadata": {
  "kernelspec": {
   "display_name": "Python 3",
   "language": "python",
   "name": "python3"
  },
  "language_info": {
   "codemirror_mode": {
    "name": "ipython",
    "version": 3
   },
   "file_extension": ".py",
   "mimetype": "text/x-python",
   "name": "python",
   "nbconvert_exporter": "python",
   "pygments_lexer": "ipython3",
   "version": "3.4.4"
  }
 },
 "nbformat": 4,
 "nbformat_minor": 0
}
