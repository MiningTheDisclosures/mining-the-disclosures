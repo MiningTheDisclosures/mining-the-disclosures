{
 "cells": [
  {
   "cell_type": "code",
   "execution_count": 62,
   "metadata": {
    "collapsed": true
   },
   "outputs": [],
   "source": [
    "import pandas as pd\n",
    "import feedparser\n",
    "import requests\n",
    "from bs4 import BeautifulSoup"
   ]
  },
  {
   "cell_type": "code",
   "execution_count": 64,
   "metadata": {
    "collapsed": false
   },
   "outputs": [],
   "source": [
    "def build_feed_url(cik):\n",
    "    base_url = \"https://www.sec.gov/cgi-bin/browse-edgar\"\n",
    "    params = {\n",
    "        'action': 'getcompany',\n",
    "        'CIK': cik,\n",
    "        'type': 'SD',\n",
    "        'owner': 'exclude',\n",
    "        'start': 0,\n",
    "        'count': 40,\n",
    "        'output': 'atom',\n",
    "    }\n",
    "    req = requests.Request('GET', base_url, params=params)\n",
    "    prepped = req.prepare()\n",
    "    return prepped.url"
   ]
  },
  {
   "cell_type": "code",
   "execution_count": 68,
   "metadata": {
    "collapsed": false
   },
   "outputs": [
    {
     "data": {
      "text/html": [
       "<div>\n",
       "<table border=\"1\" class=\"dataframe\">\n",
       "  <thead>\n",
       "    <tr style=\"text-align: right;\">\n",
       "      <th></th>\n",
       "      <th>cik</th>\n",
       "      <th>companyname</th>\n",
       "      <th>entityid</th>\n",
       "      <th>primaryexchange</th>\n",
       "      <th>primarysymbol</th>\n",
       "      <th>siccode</th>\n",
       "      <th>sicdescription</th>\n",
       "      <th>feed_url</th>\n",
       "      <th>SD_url_2014</th>\n",
       "      <th>SD_url_2015</th>\n",
       "      <th>SD_url_2016</th>\n",
       "    </tr>\n",
       "  </thead>\n",
       "  <tbody>\n",
       "    <tr>\n",
       "      <th>0</th>\n",
       "      <td>706688</td>\n",
       "      <td>AARON'S INC</td>\n",
       "      <td>2480</td>\n",
       "      <td>NYSE</td>\n",
       "      <td>AAN</td>\n",
       "      <td>7359</td>\n",
       "      <td>Equipment Rental and Leasing, Not Elsewhere Cl...</td>\n",
       "      <td>https://www.sec.gov/cgi-bin/browse-edgar?owner...</td>\n",
       "      <td></td>\n",
       "      <td></td>\n",
       "      <td></td>\n",
       "    </tr>\n",
       "    <tr>\n",
       "      <th>1</th>\n",
       "      <td>824142</td>\n",
       "      <td>AAON INC</td>\n",
       "      <td>938</td>\n",
       "      <td>Nasdaq Global Market</td>\n",
       "      <td>AAON</td>\n",
       "      <td>3585</td>\n",
       "      <td>Air-Conditioning and Warm Air Heating Equipmen...</td>\n",
       "      <td>https://www.sec.gov/cgi-bin/browse-edgar?owner...</td>\n",
       "      <td></td>\n",
       "      <td></td>\n",
       "      <td></td>\n",
       "    </tr>\n",
       "    <tr>\n",
       "      <th>2</th>\n",
       "      <td>881890</td>\n",
       "      <td>ABAXIS INC</td>\n",
       "      <td>11929</td>\n",
       "      <td>Nasdaq Global Market</td>\n",
       "      <td>ABAX</td>\n",
       "      <td>3829</td>\n",
       "      <td>Measuring and Controlling Devices, Not Elsewhe...</td>\n",
       "      <td>https://www.sec.gov/cgi-bin/browse-edgar?owner...</td>\n",
       "      <td></td>\n",
       "      <td></td>\n",
       "      <td></td>\n",
       "    </tr>\n",
       "    <tr>\n",
       "      <th>3</th>\n",
       "      <td>1551152</td>\n",
       "      <td>ABBVIE INC.</td>\n",
       "      <td>883230</td>\n",
       "      <td>NYSE</td>\n",
       "      <td>ABBV</td>\n",
       "      <td>2834</td>\n",
       "      <td>Pharmaceutical Preparations</td>\n",
       "      <td>https://www.sec.gov/cgi-bin/browse-edgar?owner...</td>\n",
       "      <td></td>\n",
       "      <td></td>\n",
       "      <td></td>\n",
       "    </tr>\n",
       "    <tr>\n",
       "      <th>4</th>\n",
       "      <td>1800</td>\n",
       "      <td>ABBOTT LABORATORIES</td>\n",
       "      <td>5054</td>\n",
       "      <td>NYSE</td>\n",
       "      <td>ABT</td>\n",
       "      <td>2834</td>\n",
       "      <td>Pharmaceutical Preparations</td>\n",
       "      <td>https://www.sec.gov/cgi-bin/browse-edgar?owner...</td>\n",
       "      <td></td>\n",
       "      <td></td>\n",
       "      <td></td>\n",
       "    </tr>\n",
       "  </tbody>\n",
       "</table>\n",
       "</div>"
      ],
      "text/plain": [
       "       cik          companyname  entityid       primaryexchange primarysymbol  \\\n",
       "0   706688          AARON'S INC      2480                  NYSE           AAN   \n",
       "1   824142             AAON INC       938  Nasdaq Global Market          AAON   \n",
       "2   881890           ABAXIS INC     11929  Nasdaq Global Market          ABAX   \n",
       "3  1551152          ABBVIE INC.    883230                  NYSE          ABBV   \n",
       "4     1800  ABBOTT LABORATORIES      5054                  NYSE           ABT   \n",
       "\n",
       "   siccode                                     sicdescription  \\\n",
       "0     7359  Equipment Rental and Leasing, Not Elsewhere Cl...   \n",
       "1     3585  Air-Conditioning and Warm Air Heating Equipmen...   \n",
       "2     3829  Measuring and Controlling Devices, Not Elsewhe...   \n",
       "3     2834                        Pharmaceutical Preparations   \n",
       "4     2834                        Pharmaceutical Preparations   \n",
       "\n",
       "                                            feed_url SD_url_2014 SD_url_2015  \\\n",
       "0  https://www.sec.gov/cgi-bin/browse-edgar?owner...                           \n",
       "1  https://www.sec.gov/cgi-bin/browse-edgar?owner...                           \n",
       "2  https://www.sec.gov/cgi-bin/browse-edgar?owner...                           \n",
       "3  https://www.sec.gov/cgi-bin/browse-edgar?owner...                           \n",
       "4  https://www.sec.gov/cgi-bin/browse-edgar?owner...                           \n",
       "\n",
       "  SD_url_2016  \n",
       "0              \n",
       "1              \n",
       "2              \n",
       "3              \n",
       "4              "
      ]
     },
     "execution_count": 68,
     "metadata": {},
     "output_type": "execute_result"
    }
   ],
   "source": [
    "cik_codes = pd.read_csv('clean_ciks_good.csv')\n",
    "cik_codes = cik_codes.drop('Unnamed: 0', axis=1)\n",
    "cik_codes['feed_url'] = cik_codes.cik.apply(build_feed_url)\n",
    "cik_codes['SD_url_2014'] = ''\n",
    "cik_codes['SD_url_2015'] = ''\n",
    "cik_codes['SD_url_2016'] = ''\n",
    "cik_codes.head()"
   ]
  },
  {
   "cell_type": "code",
   "execution_count": 86,
   "metadata": {
    "collapsed": false
   },
   "outputs": [
    {
     "data": {
      "text/html": [
       "<div>\n",
       "<table border=\"1\" class=\"dataframe\">\n",
       "  <thead>\n",
       "    <tr style=\"text-align: right;\">\n",
       "      <th></th>\n",
       "      <th>cik</th>\n",
       "      <th>companyname</th>\n",
       "      <th>entityid</th>\n",
       "      <th>primaryexchange</th>\n",
       "      <th>primarysymbol</th>\n",
       "      <th>siccode</th>\n",
       "      <th>sicdescription</th>\n",
       "      <th>feed_url</th>\n",
       "      <th>SD_url_2014</th>\n",
       "      <th>SD_url_2015</th>\n",
       "      <th>SD_url_2016</th>\n",
       "    </tr>\n",
       "  </thead>\n",
       "  <tbody>\n",
       "    <tr>\n",
       "      <th>7</th>\n",
       "      <td>910638</td>\n",
       "      <td>3D SYSTEMS CORP</td>\n",
       "      <td>5580</td>\n",
       "      <td>NYSE</td>\n",
       "      <td>DDD</td>\n",
       "      <td>7372</td>\n",
       "      <td>Prepackaged Software</td>\n",
       "      <td>https://www.sec.gov/cgi-bin/browse-edgar?owner...</td>\n",
       "      <td></td>\n",
       "      <td></td>\n",
       "      <td></td>\n",
       "    </tr>\n",
       "    <tr>\n",
       "      <th>8</th>\n",
       "      <td>66740</td>\n",
       "      <td>3M CO</td>\n",
       "      <td>5248</td>\n",
       "      <td>NYSE</td>\n",
       "      <td>MMM</td>\n",
       "      <td>3841</td>\n",
       "      <td>Surgical and Medical Instruments and Apparatus</td>\n",
       "      <td>https://www.sec.gov/cgi-bin/browse-edgar?owner...</td>\n",
       "      <td></td>\n",
       "      <td></td>\n",
       "      <td></td>\n",
       "    </tr>\n",
       "    <tr>\n",
       "      <th>9</th>\n",
       "      <td>815094</td>\n",
       "      <td>ABIOMED INC</td>\n",
       "      <td>4093</td>\n",
       "      <td>Nasdaq Global Market</td>\n",
       "      <td>ABMD</td>\n",
       "      <td>3841</td>\n",
       "      <td>Surgical and Medical Instruments and Apparatus</td>\n",
       "      <td>https://www.sec.gov/cgi-bin/browse-edgar?owner...</td>\n",
       "      <td></td>\n",
       "      <td></td>\n",
       "      <td></td>\n",
       "    </tr>\n",
       "  </tbody>\n",
       "</table>\n",
       "</div>"
      ],
      "text/plain": [
       "      cik      companyname  entityid       primaryexchange primarysymbol  \\\n",
       "7  910638  3D SYSTEMS CORP      5580                  NYSE           DDD   \n",
       "8   66740            3M CO      5248                  NYSE           MMM   \n",
       "9  815094      ABIOMED INC      4093  Nasdaq Global Market          ABMD   \n",
       "\n",
       "   siccode                                  sicdescription  \\\n",
       "7     7372                            Prepackaged Software   \n",
       "8     3841  Surgical and Medical Instruments and Apparatus   \n",
       "9     3841  Surgical and Medical Instruments and Apparatus   \n",
       "\n",
       "                                            feed_url SD_url_2014 SD_url_2015  \\\n",
       "7  https://www.sec.gov/cgi-bin/browse-edgar?owner...                           \n",
       "8  https://www.sec.gov/cgi-bin/browse-edgar?owner...                           \n",
       "9  https://www.sec.gov/cgi-bin/browse-edgar?owner...                           \n",
       "\n",
       "  SD_url_2016  \n",
       "7              \n",
       "8              \n",
       "9              "
      ]
     },
     "execution_count": 86,
     "metadata": {},
     "output_type": "execute_result"
    }
   ],
   "source": [
    "subset = cik_codes.copy()\n",
    "subset = subset[0:10]\n",
    "subset.tail(3)"
   ]
  },
  {
   "cell_type": "markdown",
   "metadata": {},
   "source": [
    "## Get EDGAR RSS Feed of Special Disclosures by Company"
   ]
  },
  {
   "cell_type": "code",
   "execution_count": 87,
   "metadata": {
    "collapsed": false
   },
   "outputs": [],
   "source": [
    "def get_feed_and_parse(row):\n",
    "    feed_url = row.feed_url\n",
    "    feed = feedparser.parse(feed_url)\n",
    "    for entry in feed.entries:\n",
    "        str_date = entry['filing-date']\n",
    "        date = datetime.strptime(str_date, '%Y-%m-%d')\n",
    "        year = date.year\n",
    "        links = entry['links']\n",
    "        if len(links) > 1:\n",
    "            print('More than one link')\n",
    "            print(entry)\n",
    "        \n",
    "        if year not in [2014, 2015, 2016]:\n",
    "            print('Other Year')\n",
    "            print(entry)\n",
    "        else:\n",
    "            column = 'SD_url_%s' % year\n",
    "            row.loc[column] = links[0]['href']\n",
    "    return row"
   ]
  },
  {
   "cell_type": "code",
   "execution_count": null,
   "metadata": {
    "collapsed": false
   },
   "outputs": [],
   "source": [
    "# EXPENSIVE - run carefully\n",
    "added = subset.apply(get_feed_and_parse, axis=1)"
   ]
  },
  {
   "cell_type": "code",
   "execution_count": 92,
   "metadata": {
    "collapsed": false
   },
   "outputs": [
    {
     "data": {
      "text/html": [
       "<div>\n",
       "<table border=\"1\" class=\"dataframe\">\n",
       "  <thead>\n",
       "    <tr style=\"text-align: right;\">\n",
       "      <th></th>\n",
       "      <th>cik</th>\n",
       "      <th>companyname</th>\n",
       "      <th>entityid</th>\n",
       "      <th>primaryexchange</th>\n",
       "      <th>primarysymbol</th>\n",
       "      <th>siccode</th>\n",
       "      <th>sicdescription</th>\n",
       "      <th>feed_url</th>\n",
       "      <th>SD_url_2014</th>\n",
       "      <th>SD_url_2015</th>\n",
       "      <th>SD_url_2016</th>\n",
       "    </tr>\n",
       "  </thead>\n",
       "  <tbody>\n",
       "    <tr>\n",
       "      <th>5</th>\n",
       "      <td>1750</td>\n",
       "      <td>AAR CORP</td>\n",
       "      <td>8804</td>\n",
       "      <td>NYSE</td>\n",
       "      <td>AIR</td>\n",
       "      <td>3720</td>\n",
       "      <td>Aircraft And Parts</td>\n",
       "      <td>https://www.sec.gov/cgi-bin/browse-edgar?owner...</td>\n",
       "      <td>http://www.sec.gov/Archives/edgar/data/1750/00...</td>\n",
       "      <td>http://www.sec.gov/Archives/edgar/data/1750/00...</td>\n",
       "      <td></td>\n",
       "    </tr>\n",
       "    <tr>\n",
       "      <th>6</th>\n",
       "      <td>1580808</td>\n",
       "      <td>A10 NETWORKS, INC.</td>\n",
       "      <td>910463</td>\n",
       "      <td>NYSE</td>\n",
       "      <td>ATEN</td>\n",
       "      <td>3576</td>\n",
       "      <td>Computer Communications Equipment</td>\n",
       "      <td>https://www.sec.gov/cgi-bin/browse-edgar?owner...</td>\n",
       "      <td></td>\n",
       "      <td>http://www.sec.gov/Archives/edgar/data/1580808...</td>\n",
       "      <td></td>\n",
       "    </tr>\n",
       "    <tr>\n",
       "      <th>7</th>\n",
       "      <td>910638</td>\n",
       "      <td>3D SYSTEMS CORP</td>\n",
       "      <td>5580</td>\n",
       "      <td>NYSE</td>\n",
       "      <td>DDD</td>\n",
       "      <td>7372</td>\n",
       "      <td>Prepackaged Software</td>\n",
       "      <td>https://www.sec.gov/cgi-bin/browse-edgar?owner...</td>\n",
       "      <td>http://www.sec.gov/Archives/edgar/data/910638/...</td>\n",
       "      <td>http://www.sec.gov/Archives/edgar/data/910638/...</td>\n",
       "      <td></td>\n",
       "    </tr>\n",
       "    <tr>\n",
       "      <th>8</th>\n",
       "      <td>66740</td>\n",
       "      <td>3M CO</td>\n",
       "      <td>5248</td>\n",
       "      <td>NYSE</td>\n",
       "      <td>MMM</td>\n",
       "      <td>3841</td>\n",
       "      <td>Surgical and Medical Instruments and Apparatus</td>\n",
       "      <td>https://www.sec.gov/cgi-bin/browse-edgar?owner...</td>\n",
       "      <td>http://www.sec.gov/Archives/edgar/data/66740/0...</td>\n",
       "      <td>http://www.sec.gov/Archives/edgar/data/66740/0...</td>\n",
       "      <td></td>\n",
       "    </tr>\n",
       "    <tr>\n",
       "      <th>9</th>\n",
       "      <td>815094</td>\n",
       "      <td>ABIOMED INC</td>\n",
       "      <td>4093</td>\n",
       "      <td>Nasdaq Global Market</td>\n",
       "      <td>ABMD</td>\n",
       "      <td>3841</td>\n",
       "      <td>Surgical and Medical Instruments and Apparatus</td>\n",
       "      <td>https://www.sec.gov/cgi-bin/browse-edgar?owner...</td>\n",
       "      <td>http://www.sec.gov/Archives/edgar/data/815094/...</td>\n",
       "      <td>http://www.sec.gov/Archives/edgar/data/815094/...</td>\n",
       "      <td></td>\n",
       "    </tr>\n",
       "  </tbody>\n",
       "</table>\n",
       "</div>"
      ],
      "text/plain": [
       "       cik         companyname  entityid       primaryexchange primarysymbol  \\\n",
       "5     1750            AAR CORP      8804                  NYSE           AIR   \n",
       "6  1580808  A10 NETWORKS, INC.    910463                  NYSE          ATEN   \n",
       "7   910638     3D SYSTEMS CORP      5580                  NYSE           DDD   \n",
       "8    66740               3M CO      5248                  NYSE           MMM   \n",
       "9   815094         ABIOMED INC      4093  Nasdaq Global Market          ABMD   \n",
       "\n",
       "   siccode                                  sicdescription  \\\n",
       "5     3720                              Aircraft And Parts   \n",
       "6     3576               Computer Communications Equipment   \n",
       "7     7372                            Prepackaged Software   \n",
       "8     3841  Surgical and Medical Instruments and Apparatus   \n",
       "9     3841  Surgical and Medical Instruments and Apparatus   \n",
       "\n",
       "                                            feed_url  \\\n",
       "5  https://www.sec.gov/cgi-bin/browse-edgar?owner...   \n",
       "6  https://www.sec.gov/cgi-bin/browse-edgar?owner...   \n",
       "7  https://www.sec.gov/cgi-bin/browse-edgar?owner...   \n",
       "8  https://www.sec.gov/cgi-bin/browse-edgar?owner...   \n",
       "9  https://www.sec.gov/cgi-bin/browse-edgar?owner...   \n",
       "\n",
       "                                         SD_url_2014  \\\n",
       "5  http://www.sec.gov/Archives/edgar/data/1750/00...   \n",
       "6                                                      \n",
       "7  http://www.sec.gov/Archives/edgar/data/910638/...   \n",
       "8  http://www.sec.gov/Archives/edgar/data/66740/0...   \n",
       "9  http://www.sec.gov/Archives/edgar/data/815094/...   \n",
       "\n",
       "                                         SD_url_2015 SD_url_2016  \n",
       "5  http://www.sec.gov/Archives/edgar/data/1750/00...              \n",
       "6  http://www.sec.gov/Archives/edgar/data/1580808...              \n",
       "7  http://www.sec.gov/Archives/edgar/data/910638/...              \n",
       "8  http://www.sec.gov/Archives/edgar/data/66740/0...              \n",
       "9  http://www.sec.gov/Archives/edgar/data/815094/...              "
      ]
     },
     "execution_count": 92,
     "metadata": {},
     "output_type": "execute_result"
    }
   ],
   "source": [
    "added[5:10]"
   ]
  },
  {
   "cell_type": "code",
   "execution_count": 93,
   "metadata": {
    "collapsed": false
   },
   "outputs": [
    {
     "name": "stdout",
     "output_type": "stream",
     "text": [
      "http://www.sec.gov/Archives/edgar/data/66740/000110465914043157/0001104659-14-043157-index.htm\n",
      "http://www.sec.gov/Archives/edgar/data/66740/000110465915042396/0001104659-15-042396-index.htm\n"
     ]
    }
   ],
   "source": [
    "print(added.SD_url_2014[8])\n",
    "print(added.SD_url_2015[8])"
   ]
  },
  {
   "cell_type": "markdown",
   "metadata": {},
   "source": [
    "## Get EDGAR Page for a year and scrape out all the disclosure documents"
   ]
  },
  {
   "cell_type": "code",
   "execution_count": 95,
   "metadata": {
    "collapsed": false
   },
   "outputs": [],
   "source": [
    "disclosure_docs = pd.DataFrame()\n"
   ]
  },
  {
   "cell_type": "code",
   "execution_count": 104,
   "metadata": {
    "collapsed": true
   },
   "outputs": [],
   "source": [
    "url = added.SD_url_2014[9]\n",
    "summary_page_response = requests.get(url)\n",
    "assert summary_page_response.status_code == 200"
   ]
  },
  {
   "cell_type": "code",
   "execution_count": 105,
   "metadata": {
    "collapsed": true
   },
   "outputs": [],
   "source": [
    "soup = BeautifulSoup(summary_page_response.content, 'html.parser')"
   ]
  },
  {
   "cell_type": "code",
   "execution_count": 99,
   "metadata": {
    "collapsed": true
   },
   "outputs": [],
   "source": [
    "# Store the requested CIK\n",
    "# Store the requested Company Name\n",
    "# Store the returned CIK\n",
    "# Store the returned Company Name\n",
    "# Store the returned Accession Number\n",
    "# Store the returned Filing Date\n",
    "# Get the rows, store the data"
   ]
  },
  {
   "cell_type": "code",
   "execution_count": 179,
   "metadata": {
    "collapsed": false
   },
   "outputs": [
    {
     "data": {
      "text/plain": [
       "'2014-06-02 13:43:40'"
      ]
     },
     "execution_count": 179,
     "metadata": {},
     "output_type": "execute_result"
    }
   ],
   "source": [
    "# Requested\n",
    "#new_row.loc['requested_cik'] = row.loc['cik']\n",
    "#new_row.loc['companyname'] = row.loc['companyname']\n",
    "# Returned\n",
    "company_info = soup.find(class_='companyInfo')\n",
    "company_name_cik = company_info.find(class_='companyName').text\n",
    "\n",
    "try:\n",
    "    company_name = company_name_cik.split(' (Filer)')[0]\n",
    "except IndexError:\n",
    "    company_name = 'XXX: could not parse'\n",
    "try:\n",
    "    cik = company_name_cik.split('CIK:')[1].split('(')[0].lstrip().rstrip()\n",
    "except IndexError:\n",
    "    cik = 'XXX: could not parse'\n",
    "try:\n",
    "    sec_accession_number = list(soup.find(id='secNum').descendants)[-1].split('\\n')[0].lstrip()\n",
    "except IndexError:\n",
    "    sec_accession_number = 'XXX: could not parse'\n",
    "try:\n",
    "    required = None\n",
    "    for infoHead in soup.findAll(class_='infoHead'):\n",
    "        if infoHead.text == 'Accepted':\n",
    "            required = infoHead\n",
    "    filing_date = required.next_sibling.nextSibling.text\n",
    "except:\n",
    "    filing_date = ''\n",
    "filing_date"
   ]
  },
  {
   "cell_type": "code",
   "execution_count": 181,
   "metadata": {
    "collapsed": false
   },
   "outputs": [
    {
     "name": "stdout",
     "output_type": "stream",
     "text": [
      "FORM SD\n",
      "d738342dsd.htm\n",
      "https://www.sec.gov//Archives/edgar/data/815094/000119312514221767/d738342dsd.htm\n",
      "EX-1.02\n",
      "d738342dex102.htm\n",
      "https://www.sec.gov//Archives/edgar/data/815094/000119312514221767/d738342dex102.htm\n",
      "Complete submission text file\n",
      "0001193125-14-221767.txt\n",
      "https://www.sec.gov//Archives/edgar/data/815094/000119312514221767/0001193125-14-221767.txt\n"
     ]
    }
   ],
   "source": [
    "base_url = \"https://www.sec.gov\"\n",
    "disclosure_components_table = soup.find(class_='tableFile')\n",
    "for row in disclosure_components_table.findAll('tr'):\n",
    "    cols = row.findAll('td')\n",
    "    if len(cols) > 1:\n",
    "        title = cols[1].text\n",
    "        description = cols[2].find('a').text\n",
    "        url_part = cols[2].find('a').attrs['href']\n",
    "        url = '%s/%s' % (base_url, url_part)\n",
    "        print(title)\n",
    "        print(description)\n",
    "        print(url)"
   ]
  },
  {
   "cell_type": "markdown",
   "metadata": {},
   "source": [
    "## title, description, url |  filing date, type, download_date"
   ]
  },
  {
   "cell_type": "code",
   "execution_count": 172,
   "metadata": {
    "collapsed": false
   },
   "outputs": [],
   "source": []
  },
  {
   "cell_type": "code",
   "execution_count": 178,
   "metadata": {
    "collapsed": false
   },
   "outputs": [
    {
     "data": {
      "text/plain": [
       "'2014-06-02 13:43:40'"
      ]
     },
     "execution_count": 178,
     "metadata": {},
     "output_type": "execute_result"
    }
   ],
   "source": []
  },
  {
   "cell_type": "code",
   "execution_count": null,
   "metadata": {
    "collapsed": true
   },
   "outputs": [],
   "source": [
    "    disclosure_components_table = soup.find(class_='tableFile')\n",
    "    for row in disclosure_components_table.findAll('tr'):\n",
    "        cols = row.findAll('td')\n",
    "        if len(cols) > 1:\n",
    "            print(cols[1].text)\n",
    "            print(cols[2].find('a'))"
   ]
  },
  {
   "cell_type": "markdown",
   "metadata": {},
   "source": [
    "## Sandpit"
   ]
  },
  {
   "cell_type": "code",
   "execution_count": 18,
   "metadata": {
    "collapsed": false
   },
   "outputs": [
    {
     "data": {
      "text/plain": [
       "'https://www.sec.gov/cgi-bin/browse-edgar'"
      ]
     },
     "execution_count": 18,
     "metadata": {},
     "output_type": "execute_result"
    }
   ],
   "source": [
    "requests.Request(url=base_url, params=params).url"
   ]
  },
  {
   "cell_type": "code",
   "execution_count": 14,
   "metadata": {
    "collapsed": false
   },
   "outputs": [],
   "source": [
    "response = requests.get(url=base_url, params=params)\n",
    "assert response.status_code == 200"
   ]
  },
  {
   "cell_type": "code",
   "execution_count": 15,
   "metadata": {
    "collapsed": false
   },
   "outputs": [
    {
     "data": {
      "text/plain": [
       "'https://www.sec.gov/cgi-bin/browse-edgar?owner=exclude&count=40&output=atom&action=getcompany&CIK=0000320193&start=0&type=SD'"
      ]
     },
     "execution_count": 15,
     "metadata": {},
     "output_type": "execute_result"
    }
   ],
   "source": [
    "response.url"
   ]
  },
  {
   "cell_type": "code",
   "execution_count": 8,
   "metadata": {
    "collapsed": false
   },
   "outputs": [
    {
     "name": "stdout",
     "output_type": "stream",
     "text": [
      "2015-02-12T06:07:38-05:00\n",
      "http://www.sec.gov/Archives/edgar/data/320193/000119312515045292/0001193125-15-045292-index.htm\n"
     ]
    }
   ],
   "source": [
    "print(fifteen['updated'])\n",
    "print(fifteen['links'][0]['href'])"
   ]
  },
  {
   "cell_type": "code",
   "execution_count": 46,
   "metadata": {
    "collapsed": false
   },
   "outputs": [
    {
     "name": "stdout",
     "output_type": "stream",
     "text": [
      "FORM SD\n",
      "<a href=\"/Archives/edgar/data/320193/000119312516523320/d168894dsd.htm\">d168894dsd.htm</a>\n",
      "EX-1.01\n",
      "<a href=\"/Archives/edgar/data/320193/000119312516523320/d168894dex101.htm\">d168894dex101.htm</a>\n",
      "GRAPHIC\n",
      "<a href=\"/Archives/edgar/data/320193/000119312516523320/g168894ex1_01pg005.jpg\">g168894ex1_01pg005.jpg</a>\n",
      "GRAPHIC\n",
      "<a href=\"/Archives/edgar/data/320193/000119312516523320/g168894ex991_pg001.jpg\">g168894ex991_pg001.jpg</a>\n",
      "GRAPHIC\n",
      "<a href=\"/Archives/edgar/data/320193/000119312516523320/g168894tx_pg001.jpg\">g168894tx_pg001.jpg</a>\n",
      "Complete submission text file\n",
      "<a href=\"/Archives/edgar/data/320193/000119312516523320/0001193125-16-523320.txt\">0001193125-16-523320.txt</a>\n",
      "SD\n",
      "<a href=\"/Archives/edgar/data/320193/000119312515045292/d864750dsd.htm\">d864750dsd.htm</a>\n",
      "EX-1.01\n",
      "<a href=\"/Archives/edgar/data/320193/000119312515045292/d864750dex101.htm\">d864750dex101.htm</a>\n",
      "GRAPHIC\n",
      "<a href=\"/Archives/edgar/data/320193/000119312515045292/g864750ex991_pg001.jpg\">g864750ex991_pg001.jpg</a>\n",
      "GRAPHIC\n",
      "<a href=\"/Archives/edgar/data/320193/000119312515045292/g864750tx_pg001.jpg\">g864750tx_pg001.jpg</a>\n",
      "Complete submission text file\n",
      "<a href=\"/Archives/edgar/data/320193/000119312515045292/0001193125-15-045292.txt\">0001193125-15-045292.txt</a>\n",
      "FORM SD\n",
      "<a href=\"/Archives/edgar/data/320193/000119312514217311/d729300dsd.htm\">d729300dsd.htm</a>\n",
      "EX-1.02\n",
      "<a href=\"/Archives/edgar/data/320193/000119312514217311/d729300dex102.htm\">d729300dex102.htm</a>\n",
      "Complete submission text file\n",
      "<a href=\"/Archives/edgar/data/320193/000119312514217311/0001193125-14-217311.txt\">0001193125-14-217311.txt</a>\n"
     ]
    }
   ],
   "source": [
    "for entry in feed.entries:\n",
    "    assert len(entry['links']) == 1\n",
    "    summary_page = requests.get(entry['links'][0]['href'])\n",
    "    assert summary_page.status_code == 200\n",
    "    soup = BeautifulSoup(summary_page.content, 'html.parser')\n",
    "    disclosure_components_table = soup.find(class_='tableFile')\n",
    "    for row in disclosure_components_table.findAll('tr'):\n",
    "        cols = row.findAll('td')\n",
    "        if len(cols) > 1:\n",
    "            print(cols[1].text)\n",
    "            print(cols[2].find('a'))"
   ]
  },
  {
   "cell_type": "code",
   "execution_count": 50,
   "metadata": {
    "collapsed": true
   },
   "outputs": [],
   "source": [
    "from os import path\n",
    "from os import makedirs"
   ]
  },
  {
   "cell_type": "code",
   "execution_count": 51,
   "metadata": {
    "collapsed": false
   },
   "outputs": [
    {
     "data": {
      "text/plain": [
       "False"
      ]
     },
     "execution_count": 51,
     "metadata": {},
     "output_type": "execute_result"
    }
   ],
   "source": [
    "path.exists('_0000320193')"
   ]
  },
  {
   "cell_type": "code",
   "execution_count": 52,
   "metadata": {
    "collapsed": true
   },
   "outputs": [],
   "source": [
    "makedirs('_0000320193')"
   ]
  },
  {
   "cell_type": "code",
   "execution_count": null,
   "metadata": {
    "collapsed": true
   },
   "outputs": [],
   "source": []
  }
 ],
 "metadata": {
  "kernelspec": {
   "display_name": "Python 3",
   "language": "python",
   "name": "python3"
  },
  "language_info": {
   "codemirror_mode": {
    "name": "ipython",
    "version": 3
   },
   "file_extension": ".py",
   "mimetype": "text/x-python",
   "name": "python",
   "nbconvert_exporter": "python",
   "pygments_lexer": "ipython3",
   "version": "3.4.4"
  }
 },
 "nbformat": 4,
 "nbformat_minor": 0
}
