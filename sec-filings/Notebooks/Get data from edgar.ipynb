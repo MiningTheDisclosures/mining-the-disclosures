{
 "cells": [
  {
   "cell_type": "code",
   "execution_count": 12,
   "metadata": {
    "collapsed": true
   },
   "outputs": [],
   "source": [
    "import feedparser\n",
    "import requests\n",
    "from bs4 import BeautifulSoup"
   ]
  },
  {
   "cell_type": "code",
   "execution_count": 59,
   "metadata": {
    "collapsed": false
   },
   "outputs": [],
   "source": [
    "base_url = \"https://www.sec.gov/cgi-bin/browse-edgar\"\n",
    "params = {\n",
    "    'action': 'getcompany',\n",
    "    'CIK': '0000320193',\n",
    "    'type': 'SD',\n",
    "    'owner': 'exclude',\n",
    "    'start': 0,\n",
    "    'count': 40,\n",
    "    'output': 'atom',\n",
    "}"
   ]
  },
  {
   "cell_type": "code",
   "execution_count": 57,
   "metadata": {
    "collapsed": false
   },
   "outputs": [],
   "source": [
    "response = requests.get(url=base_url, params=params)\n",
    "assert response.status_code == 200"
   ]
  },
  {
   "cell_type": "code",
   "execution_count": 58,
   "metadata": {
    "collapsed": false
   },
   "outputs": [
    {
     "data": {
      "text/plain": [
       "0"
      ]
     },
     "execution_count": 58,
     "metadata": {},
     "output_type": "execute_result"
    }
   ],
   "source": [
    "feed = feedparser.parse(response.url)\n",
    "len(feed.entries)"
   ]
  },
  {
   "cell_type": "code",
   "execution_count": 5,
   "metadata": {
    "collapsed": false
   },
   "outputs": [],
   "source": [
    "sixteen = feed.entries[0]\n",
    "fifteen = feed.entries[1]\n",
    "fourteen = feed.entries[2]"
   ]
  },
  {
   "cell_type": "code",
   "execution_count": 6,
   "metadata": {
    "collapsed": false
   },
   "outputs": [
    {
     "data": {
      "text/plain": [
       "dict_keys(['title', 'content', 'filing-type', 'file-number-href_detail', 'act_detail', 'filing-date', 'summary_detail', 'updated', 'filing-type_detail', 'link', 'file-number_detail', 'size_detail', 'updated_parsed', 'film-number_detail', 'file-number-href', 'summary', 'title_detail', 'tags', 'file-number', 'film-number', 'filing-href', 'guidislink', 'filing-href_detail', 'accession-nunber', 'filing-date_detail', 'act', 'links', 'id', 'size', 'accession-nunber_detail'])"
      ]
     },
     "execution_count": 6,
     "metadata": {},
     "output_type": "execute_result"
    }
   ],
   "source": [
    "fifteen.keys()"
   ]
  },
  {
   "cell_type": "code",
   "execution_count": 8,
   "metadata": {
    "collapsed": false
   },
   "outputs": [
    {
     "name": "stdout",
     "output_type": "stream",
     "text": [
      "2015-02-12T06:07:38-05:00\n",
      "http://www.sec.gov/Archives/edgar/data/320193/000119312515045292/0001193125-15-045292-index.htm\n"
     ]
    }
   ],
   "source": [
    "print(fifteen['updated'])\n",
    "print(fifteen['links'][0]['href'])"
   ]
  },
  {
   "cell_type": "code",
   "execution_count": 9,
   "metadata": {
    "collapsed": true
   },
   "outputs": [],
   "source": [
    "fifteen_disclosure_page = requests.get(fifteen['links'][0]['href'])"
   ]
  },
  {
   "cell_type": "code",
   "execution_count": 13,
   "metadata": {
    "collapsed": false
   },
   "outputs": [],
   "source": [
    "soup = BeautifulSoup(fifteen_disclosure_page.content, 'html.parser')"
   ]
  },
  {
   "cell_type": "code",
   "execution_count": 63,
   "metadata": {
    "collapsed": false,
    "scrolled": true
   },
   "outputs": [
    {
     "data": {
      "text/plain": [
       "'APPLE INC (Filer)\\n CIK: 0000320193 (see all company filings)'"
      ]
     },
     "execution_count": 63,
     "metadata": {},
     "output_type": "execute_result"
    }
   ],
   "source": [
    "soup.find(class_='companyName').text"
   ]
  },
  {
   "cell_type": "code",
   "execution_count": 44,
   "metadata": {
    "collapsed": false,
    "scrolled": true
   },
   "outputs": [
    {
     "name": "stdout",
     "output_type": "stream",
     "text": [
      "SD\n",
      "<a href=\"/Archives/edgar/data/320193/000119312515045292/d864750dsd.htm\">d864750dsd.htm</a>\n",
      "EX-1.01\n",
      "<a href=\"/Archives/edgar/data/320193/000119312515045292/d864750dex101.htm\">d864750dex101.htm</a>\n",
      "GRAPHIC\n",
      "<a href=\"/Archives/edgar/data/320193/000119312515045292/g864750ex991_pg001.jpg\">g864750ex991_pg001.jpg</a>\n",
      "GRAPHIC\n",
      "<a href=\"/Archives/edgar/data/320193/000119312515045292/g864750tx_pg001.jpg\">g864750tx_pg001.jpg</a>\n",
      "Complete submission text file\n",
      "<a href=\"/Archives/edgar/data/320193/000119312515045292/0001193125-15-045292.txt\">0001193125-15-045292.txt</a>\n"
     ]
    }
   ],
   "source": [
    "disclosure_components_table = soup.find(class_='tableFile')\n",
    "for row in disclosure_components_table.findAll('tr'):\n",
    "    cols = row.findAll('td')\n",
    "    if len(cols) > 1:\n",
    "        print(cols[1].text)\n",
    "        print(cols[2].find('a'))"
   ]
  },
  {
   "cell_type": "code",
   "execution_count": 35,
   "metadata": {
    "collapsed": true
   },
   "outputs": [],
   "source": [
    "a = cols[2]"
   ]
  },
  {
   "cell_type": "code",
   "execution_count": 43,
   "metadata": {
    "collapsed": false
   },
   "outputs": [
    {
     "data": {
      "text/plain": [
       "<a href=\"/Archives/edgar/data/320193/000119312515045292/0001193125-15-045292.txt\">0001193125-15-045292.txt</a>"
      ]
     },
     "execution_count": 43,
     "metadata": {},
     "output_type": "execute_result"
    }
   ],
   "source": []
  },
  {
   "cell_type": "code",
   "execution_count": 21,
   "metadata": {
    "collapsed": false
   },
   "outputs": [
    {
     "data": {
      "text/plain": [
       "[<a href=\"/Archives/edgar/data/320193/000119312515045292/d864750dsd.htm\">d864750dsd.htm</a>,\n",
       " <a href=\"/Archives/edgar/data/320193/000119312515045292/d864750dex101.htm\">d864750dex101.htm</a>,\n",
       " <a href=\"/Archives/edgar/data/320193/000119312515045292/g864750ex991_pg001.jpg\">g864750ex991_pg001.jpg</a>,\n",
       " <a href=\"/Archives/edgar/data/320193/000119312515045292/g864750tx_pg001.jpg\">g864750tx_pg001.jpg</a>,\n",
       " <a href=\"/Archives/edgar/data/320193/000119312515045292/0001193125-15-045292.txt\">0001193125-15-045292.txt</a>]"
      ]
     },
     "execution_count": 21,
     "metadata": {},
     "output_type": "execute_result"
    }
   ],
   "source": [
    "links = disclosure_components_table.findAll('a')\n",
    "links"
   ]
  },
  {
   "cell_type": "code",
   "execution_count": 46,
   "metadata": {
    "collapsed": false
   },
   "outputs": [
    {
     "name": "stdout",
     "output_type": "stream",
     "text": [
      "FORM SD\n",
      "<a href=\"/Archives/edgar/data/320193/000119312516523320/d168894dsd.htm\">d168894dsd.htm</a>\n",
      "EX-1.01\n",
      "<a href=\"/Archives/edgar/data/320193/000119312516523320/d168894dex101.htm\">d168894dex101.htm</a>\n",
      "GRAPHIC\n",
      "<a href=\"/Archives/edgar/data/320193/000119312516523320/g168894ex1_01pg005.jpg\">g168894ex1_01pg005.jpg</a>\n",
      "GRAPHIC\n",
      "<a href=\"/Archives/edgar/data/320193/000119312516523320/g168894ex991_pg001.jpg\">g168894ex991_pg001.jpg</a>\n",
      "GRAPHIC\n",
      "<a href=\"/Archives/edgar/data/320193/000119312516523320/g168894tx_pg001.jpg\">g168894tx_pg001.jpg</a>\n",
      "Complete submission text file\n",
      "<a href=\"/Archives/edgar/data/320193/000119312516523320/0001193125-16-523320.txt\">0001193125-16-523320.txt</a>\n",
      "SD\n",
      "<a href=\"/Archives/edgar/data/320193/000119312515045292/d864750dsd.htm\">d864750dsd.htm</a>\n",
      "EX-1.01\n",
      "<a href=\"/Archives/edgar/data/320193/000119312515045292/d864750dex101.htm\">d864750dex101.htm</a>\n",
      "GRAPHIC\n",
      "<a href=\"/Archives/edgar/data/320193/000119312515045292/g864750ex991_pg001.jpg\">g864750ex991_pg001.jpg</a>\n",
      "GRAPHIC\n",
      "<a href=\"/Archives/edgar/data/320193/000119312515045292/g864750tx_pg001.jpg\">g864750tx_pg001.jpg</a>\n",
      "Complete submission text file\n",
      "<a href=\"/Archives/edgar/data/320193/000119312515045292/0001193125-15-045292.txt\">0001193125-15-045292.txt</a>\n",
      "FORM SD\n",
      "<a href=\"/Archives/edgar/data/320193/000119312514217311/d729300dsd.htm\">d729300dsd.htm</a>\n",
      "EX-1.02\n",
      "<a href=\"/Archives/edgar/data/320193/000119312514217311/d729300dex102.htm\">d729300dex102.htm</a>\n",
      "Complete submission text file\n",
      "<a href=\"/Archives/edgar/data/320193/000119312514217311/0001193125-14-217311.txt\">0001193125-14-217311.txt</a>\n"
     ]
    }
   ],
   "source": [
    "for entry in feed.entries:\n",
    "    assert len(entry['links']) == 1\n",
    "    summary_page = requests.get(entry['links'][0]['href'])\n",
    "    assert summary_page.status_code == 200\n",
    "    soup = BeautifulSoup(summary_page.content, 'html.parser')\n",
    "    disclosure_components_table = soup.find(class_='tableFile')\n",
    "    for row in disclosure_components_table.findAll('tr'):\n",
    "        cols = row.findAll('td')\n",
    "        if len(cols) > 1:\n",
    "            print(cols[1].text)\n",
    "            print(cols[2].find('a'))"
   ]
  },
  {
   "cell_type": "code",
   "execution_count": 50,
   "metadata": {
    "collapsed": true
   },
   "outputs": [],
   "source": [
    "from os import path\n",
    "from os import makedirs"
   ]
  },
  {
   "cell_type": "code",
   "execution_count": 51,
   "metadata": {
    "collapsed": false
   },
   "outputs": [
    {
     "data": {
      "text/plain": [
       "False"
      ]
     },
     "execution_count": 51,
     "metadata": {},
     "output_type": "execute_result"
    }
   ],
   "source": [
    "path.exists('_0000320193')"
   ]
  },
  {
   "cell_type": "code",
   "execution_count": 52,
   "metadata": {
    "collapsed": true
   },
   "outputs": [],
   "source": [
    "makedirs('_0000320193')"
   ]
  },
  {
   "cell_type": "code",
   "execution_count": null,
   "metadata": {
    "collapsed": true
   },
   "outputs": [],
   "source": []
  }
 ],
 "metadata": {
  "kernelspec": {
   "display_name": "Python 3",
   "language": "python",
   "name": "python3"
  },
  "language_info": {
   "codemirror_mode": {
    "name": "ipython",
    "version": 3
   },
   "file_extension": ".py",
   "mimetype": "text/x-python",
   "name": "python",
   "nbconvert_exporter": "python",
   "pygments_lexer": "ipython3",
   "version": "3.4.4"
  }
 },
 "nbformat": 4,
 "nbformat_minor": 0
}
