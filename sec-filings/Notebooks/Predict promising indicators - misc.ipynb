{
 "cells": [
  {
   "cell_type": "code",
   "execution_count": 1,
   "metadata": {
    "collapsed": true
   },
   "outputs": [],
   "source": [
    "import pandas as pd\n",
    "import numpy as np\n",
    "import os\n",
    "from bs4 import BeautifulSoup"
   ]
  },
  {
   "cell_type": "markdown",
   "metadata": {},
   "source": [
    "## Figure out promising indicators"
   ]
  },
  {
   "cell_type": "code",
   "execution_count": 2,
   "metadata": {
    "collapsed": false
   },
   "outputs": [],
   "source": [
    "inds = pd.read_csv('/Users/caged/Dropbox/RSN Mining/indicator_data_matched_with_cik_data.csv') \n",
    "inds = inds.drop('MA4_9_2', axis=1)\n",
    "inds.columns\n",
    "\n",
    "exclude = ['Unnamed: 0', 'UID', 'CompanyName', 'MTD14_Pilot', 'Industry', 'Sector', 'Peer Group', '2015_filing', '2014_filing', \n",
    " 'primarysymbol', 'siccode', 'sicdescription', 'feed_url', 'SD_url_2014', 'SD_url_2015', 'SD_url_2016', \n",
    " 'feed_retrieved_date', 'dir_name','dir_path', 'cik', 'companyname', 'entityid', 'extracted_cik_2015', 'name_clean', 'name_upper', 'primaryexchange']"
   ]
  },
  {
   "cell_type": "code",
   "execution_count": 3,
   "metadata": {
    "collapsed": false
   },
   "outputs": [
    {
     "data": {
      "text/plain": [
       "['MA1_1A_1', 'MA1_1A_2', 'MA1_1A_3', 'MA1_1A_4', 'MA1_1B_1']"
      ]
     },
     "execution_count": 3,
     "metadata": {},
     "output_type": "execute_result"
    }
   ],
   "source": [
    "indicator_names = list(inds.columns.difference(exclude))\n",
    "indicator_names[0:5]"
   ]
  },
  {
   "cell_type": "code",
   "execution_count": 4,
   "metadata": {
    "collapsed": false
   },
   "outputs": [
    {
     "data": {
      "text/html": [
       "<div>\n",
       "<table border=\"1\" class=\"dataframe\">\n",
       "  <thead>\n",
       "    <tr style=\"text-align: right;\">\n",
       "      <th></th>\n",
       "      <th>MA1_1A_1</th>\n",
       "      <th>MA1_1A_2</th>\n",
       "      <th>MA1_1A_3</th>\n",
       "      <th>MA1_1A_4</th>\n",
       "      <th>MA1_1B_1</th>\n",
       "      <th>MA1_1B_2</th>\n",
       "      <th>MA1_2_1</th>\n",
       "      <th>MA1_2_2</th>\n",
       "      <th>MA1_2_3</th>\n",
       "      <th>MA2_3_1</th>\n",
       "      <th>...</th>\n",
       "      <th>MA5_18_1</th>\n",
       "      <th>MA5_18_2</th>\n",
       "      <th>MA5_19_1</th>\n",
       "      <th>MA5_19_2</th>\n",
       "      <th>MA5_19_3</th>\n",
       "      <th>MA5_19_4</th>\n",
       "      <th>MA5_19_5</th>\n",
       "      <th>MA5_19_6</th>\n",
       "      <th>MA5_20_1</th>\n",
       "      <th>MA5_20_2</th>\n",
       "    </tr>\n",
       "  </thead>\n",
       "  <tbody>\n",
       "    <tr>\n",
       "      <th>0</th>\n",
       "      <td>1.0</td>\n",
       "      <td>1.0</td>\n",
       "      <td>1.0</td>\n",
       "      <td>1.0</td>\n",
       "      <td>1.0</td>\n",
       "      <td>1.0</td>\n",
       "      <td>1.0</td>\n",
       "      <td>0.0</td>\n",
       "      <td>1.0</td>\n",
       "      <td>NaN</td>\n",
       "      <td>...</td>\n",
       "      <td>NaN</td>\n",
       "      <td>1.0</td>\n",
       "      <td>NaN</td>\n",
       "      <td>1.0</td>\n",
       "      <td>NaN</td>\n",
       "      <td>NaN</td>\n",
       "      <td>NaN</td>\n",
       "      <td>NaN</td>\n",
       "      <td>0.0</td>\n",
       "      <td>NaN</td>\n",
       "    </tr>\n",
       "    <tr>\n",
       "      <th>1</th>\n",
       "      <td>1.0</td>\n",
       "      <td>1.0</td>\n",
       "      <td>1.0</td>\n",
       "      <td>1.0</td>\n",
       "      <td>1.0</td>\n",
       "      <td>0.0</td>\n",
       "      <td>1.0</td>\n",
       "      <td>0.0</td>\n",
       "      <td>1.0</td>\n",
       "      <td>1.0</td>\n",
       "      <td>...</td>\n",
       "      <td>NaN</td>\n",
       "      <td>NaN</td>\n",
       "      <td>1.0</td>\n",
       "      <td>1.0</td>\n",
       "      <td>NaN</td>\n",
       "      <td>NaN</td>\n",
       "      <td>NaN</td>\n",
       "      <td>NaN</td>\n",
       "      <td>0.0</td>\n",
       "      <td>NaN</td>\n",
       "    </tr>\n",
       "    <tr>\n",
       "      <th>2</th>\n",
       "      <td>0.0</td>\n",
       "      <td>0.0</td>\n",
       "      <td>1.0</td>\n",
       "      <td>1.0</td>\n",
       "      <td>1.0</td>\n",
       "      <td>0.0</td>\n",
       "      <td>1.0</td>\n",
       "      <td>0.0</td>\n",
       "      <td>1.0</td>\n",
       "      <td>NaN</td>\n",
       "      <td>...</td>\n",
       "      <td>0.0</td>\n",
       "      <td>1.0</td>\n",
       "      <td>NaN</td>\n",
       "      <td>1.0</td>\n",
       "      <td>NaN</td>\n",
       "      <td>NaN</td>\n",
       "      <td>NaN</td>\n",
       "      <td>NaN</td>\n",
       "      <td>0.0</td>\n",
       "      <td>NaN</td>\n",
       "    </tr>\n",
       "    <tr>\n",
       "      <th>3</th>\n",
       "      <td>0.0</td>\n",
       "      <td>0.0</td>\n",
       "      <td>0.0</td>\n",
       "      <td>1.0</td>\n",
       "      <td>1.0</td>\n",
       "      <td>0.0</td>\n",
       "      <td>1.0</td>\n",
       "      <td>1.0</td>\n",
       "      <td>1.0</td>\n",
       "      <td>1.0</td>\n",
       "      <td>...</td>\n",
       "      <td>NaN</td>\n",
       "      <td>NaN</td>\n",
       "      <td>NaN</td>\n",
       "      <td>NaN</td>\n",
       "      <td>NaN</td>\n",
       "      <td>NaN</td>\n",
       "      <td>NaN</td>\n",
       "      <td>NaN</td>\n",
       "      <td>NaN</td>\n",
       "      <td>NaN</td>\n",
       "    </tr>\n",
       "    <tr>\n",
       "      <th>4</th>\n",
       "      <td>1.0</td>\n",
       "      <td>1.0</td>\n",
       "      <td>1.0</td>\n",
       "      <td>1.0</td>\n",
       "      <td>1.0</td>\n",
       "      <td>1.0</td>\n",
       "      <td>1.0</td>\n",
       "      <td>1.0</td>\n",
       "      <td>1.0</td>\n",
       "      <td>1.0</td>\n",
       "      <td>...</td>\n",
       "      <td>0.0</td>\n",
       "      <td>1.0</td>\n",
       "      <td>NaN</td>\n",
       "      <td>1.0</td>\n",
       "      <td>NaN</td>\n",
       "      <td>NaN</td>\n",
       "      <td>NaN</td>\n",
       "      <td>NaN</td>\n",
       "      <td>0.0</td>\n",
       "      <td>NaN</td>\n",
       "    </tr>\n",
       "  </tbody>\n",
       "</table>\n",
       "<p>5 rows × 78 columns</p>\n",
       "</div>"
      ],
      "text/plain": [
       "   MA1_1A_1  MA1_1A_2  MA1_1A_3  MA1_1A_4  MA1_1B_1  MA1_1B_2  MA1_2_1  \\\n",
       "0       1.0       1.0       1.0       1.0       1.0       1.0      1.0   \n",
       "1       1.0       1.0       1.0       1.0       1.0       0.0      1.0   \n",
       "2       0.0       0.0       1.0       1.0       1.0       0.0      1.0   \n",
       "3       0.0       0.0       0.0       1.0       1.0       0.0      1.0   \n",
       "4       1.0       1.0       1.0       1.0       1.0       1.0      1.0   \n",
       "\n",
       "   MA1_2_2  MA1_2_3  MA2_3_1    ...     MA5_18_1  MA5_18_2  MA5_19_1  \\\n",
       "0      0.0      1.0      NaN    ...          NaN       1.0       NaN   \n",
       "1      0.0      1.0      1.0    ...          NaN       NaN       1.0   \n",
       "2      0.0      1.0      NaN    ...          0.0       1.0       NaN   \n",
       "3      1.0      1.0      1.0    ...          NaN       NaN       NaN   \n",
       "4      1.0      1.0      1.0    ...          0.0       1.0       NaN   \n",
       "\n",
       "   MA5_19_2  MA5_19_3  MA5_19_4  MA5_19_5  MA5_19_6  MA5_20_1  MA5_20_2  \n",
       "0       1.0       NaN       NaN       NaN       NaN       0.0       NaN  \n",
       "1       1.0       NaN       NaN       NaN       NaN       0.0       NaN  \n",
       "2       1.0       NaN       NaN       NaN       NaN       0.0       NaN  \n",
       "3       NaN       NaN       NaN       NaN       NaN       NaN       NaN  \n",
       "4       1.0       NaN       NaN       NaN       NaN       0.0       NaN  \n",
       "\n",
       "[5 rows x 78 columns]"
      ]
     },
     "execution_count": 4,
     "metadata": {},
     "output_type": "execute_result"
    }
   ],
   "source": [
    "data_only = inds[indicator_names]\n",
    "data_only = data_only.astype(float)\n",
    "data_only.head()"
   ]
  },
  {
   "cell_type": "code",
   "execution_count": 5,
   "metadata": {
    "collapsed": false
   },
   "outputs": [
    {
     "data": {
      "text/html": [
       "<div>\n",
       "<table border=\"1\" class=\"dataframe\">\n",
       "  <thead>\n",
       "    <tr style=\"text-align: right;\">\n",
       "      <th></th>\n",
       "      <th>0</th>\n",
       "      <th>1</th>\n",
       "      <th>2</th>\n",
       "      <th>3</th>\n",
       "      <th>4</th>\n",
       "      <th>5</th>\n",
       "      <th>6</th>\n",
       "      <th>7</th>\n",
       "      <th>8</th>\n",
       "      <th>9</th>\n",
       "      <th>...</th>\n",
       "      <th>121</th>\n",
       "      <th>122</th>\n",
       "      <th>123</th>\n",
       "      <th>124</th>\n",
       "      <th>125</th>\n",
       "      <th>sum</th>\n",
       "      <th>nans</th>\n",
       "      <th>non_nans</th>\n",
       "      <th>fraction</th>\n",
       "      <th>good</th>\n",
       "    </tr>\n",
       "  </thead>\n",
       "  <tbody>\n",
       "    <tr>\n",
       "      <th>MA1_1A_1</th>\n",
       "      <td>1.0</td>\n",
       "      <td>1.0</td>\n",
       "      <td>0.0</td>\n",
       "      <td>0.0</td>\n",
       "      <td>1.0</td>\n",
       "      <td>0.0</td>\n",
       "      <td>0.0</td>\n",
       "      <td>1.0</td>\n",
       "      <td>1.0</td>\n",
       "      <td>1.0</td>\n",
       "      <td>...</td>\n",
       "      <td>1.0</td>\n",
       "      <td>0.0</td>\n",
       "      <td>1.0</td>\n",
       "      <td>1.0</td>\n",
       "      <td>0.0</td>\n",
       "      <td>71.5</td>\n",
       "      <td>0</td>\n",
       "      <td>125</td>\n",
       "      <td>0.572000</td>\n",
       "      <td>True</td>\n",
       "    </tr>\n",
       "    <tr>\n",
       "      <th>MA1_1A_2</th>\n",
       "      <td>1.0</td>\n",
       "      <td>1.0</td>\n",
       "      <td>0.0</td>\n",
       "      <td>0.0</td>\n",
       "      <td>1.0</td>\n",
       "      <td>0.0</td>\n",
       "      <td>0.0</td>\n",
       "      <td>1.0</td>\n",
       "      <td>0.0</td>\n",
       "      <td>0.0</td>\n",
       "      <td>...</td>\n",
       "      <td>NaN</td>\n",
       "      <td>0.0</td>\n",
       "      <td>0.0</td>\n",
       "      <td>1.0</td>\n",
       "      <td>0.0</td>\n",
       "      <td>22.0</td>\n",
       "      <td>5</td>\n",
       "      <td>120</td>\n",
       "      <td>0.183333</td>\n",
       "      <td>False</td>\n",
       "    </tr>\n",
       "    <tr>\n",
       "      <th>MA1_1A_3</th>\n",
       "      <td>1.0</td>\n",
       "      <td>1.0</td>\n",
       "      <td>1.0</td>\n",
       "      <td>0.0</td>\n",
       "      <td>1.0</td>\n",
       "      <td>1.0</td>\n",
       "      <td>0.0</td>\n",
       "      <td>1.0</td>\n",
       "      <td>1.0</td>\n",
       "      <td>1.0</td>\n",
       "      <td>...</td>\n",
       "      <td>1.0</td>\n",
       "      <td>1.0</td>\n",
       "      <td>1.0</td>\n",
       "      <td>1.0</td>\n",
       "      <td>1.0</td>\n",
       "      <td>105.0</td>\n",
       "      <td>0</td>\n",
       "      <td>125</td>\n",
       "      <td>0.840000</td>\n",
       "      <td>False</td>\n",
       "    </tr>\n",
       "    <tr>\n",
       "      <th>MA1_1A_4</th>\n",
       "      <td>1.0</td>\n",
       "      <td>1.0</td>\n",
       "      <td>1.0</td>\n",
       "      <td>1.0</td>\n",
       "      <td>1.0</td>\n",
       "      <td>0.0</td>\n",
       "      <td>0.0</td>\n",
       "      <td>1.0</td>\n",
       "      <td>1.0</td>\n",
       "      <td>1.0</td>\n",
       "      <td>...</td>\n",
       "      <td>1.0</td>\n",
       "      <td>1.0</td>\n",
       "      <td>1.0</td>\n",
       "      <td>1.0</td>\n",
       "      <td>0.0</td>\n",
       "      <td>104.0</td>\n",
       "      <td>0</td>\n",
       "      <td>125</td>\n",
       "      <td>0.832000</td>\n",
       "      <td>False</td>\n",
       "    </tr>\n",
       "    <tr>\n",
       "      <th>MA1_1B_1</th>\n",
       "      <td>1.0</td>\n",
       "      <td>1.0</td>\n",
       "      <td>1.0</td>\n",
       "      <td>1.0</td>\n",
       "      <td>1.0</td>\n",
       "      <td>1.0</td>\n",
       "      <td>0.0</td>\n",
       "      <td>1.0</td>\n",
       "      <td>0.0</td>\n",
       "      <td>1.0</td>\n",
       "      <td>...</td>\n",
       "      <td>NaN</td>\n",
       "      <td>1.0</td>\n",
       "      <td>0.0</td>\n",
       "      <td>NaN</td>\n",
       "      <td>1.0</td>\n",
       "      <td>74.5</td>\n",
       "      <td>8</td>\n",
       "      <td>117</td>\n",
       "      <td>0.636752</td>\n",
       "      <td>False</td>\n",
       "    </tr>\n",
       "  </tbody>\n",
       "</table>\n",
       "<p>5 rows × 131 columns</p>\n",
       "</div>"
      ],
      "text/plain": [
       "            0    1    2    3    4    5    6    7    8    9  ...    121  122  \\\n",
       "MA1_1A_1  1.0  1.0  0.0  0.0  1.0  0.0  0.0  1.0  1.0  1.0  ...    1.0  0.0   \n",
       "MA1_1A_2  1.0  1.0  0.0  0.0  1.0  0.0  0.0  1.0  0.0  0.0  ...    NaN  0.0   \n",
       "MA1_1A_3  1.0  1.0  1.0  0.0  1.0  1.0  0.0  1.0  1.0  1.0  ...    1.0  1.0   \n",
       "MA1_1A_4  1.0  1.0  1.0  1.0  1.0  0.0  0.0  1.0  1.0  1.0  ...    1.0  1.0   \n",
       "MA1_1B_1  1.0  1.0  1.0  1.0  1.0  1.0  0.0  1.0  0.0  1.0  ...    NaN  1.0   \n",
       "\n",
       "          123  124  125    sum  nans  non_nans  fraction   good  \n",
       "MA1_1A_1  1.0  1.0  0.0   71.5     0       125  0.572000   True  \n",
       "MA1_1A_2  0.0  1.0  0.0   22.0     5       120  0.183333  False  \n",
       "MA1_1A_3  1.0  1.0  1.0  105.0     0       125  0.840000  False  \n",
       "MA1_1A_4  1.0  1.0  0.0  104.0     0       125  0.832000  False  \n",
       "MA1_1B_1  0.0  NaN  1.0   74.5     8       117  0.636752  False  \n",
       "\n",
       "[5 rows x 131 columns]"
      ]
     },
     "execution_count": 5,
     "metadata": {},
     "output_type": "execute_result"
    }
   ],
   "source": [
    "t = data_only.T\n",
    "t['sum'] = t.apply(np.sum, axis=1)\n",
    "t['nans'] = t.apply(lambda x: sum(pd.isnull(x)), axis=1)\n",
    "t['non_nans'] = 125 - t['nans']\n",
    "t['fraction'] = t['sum'] / t['non_nans']\n",
    "t['good'] = t.fraction.apply(lambda x: (x > 0.4) & (x < 0.6))\n",
    "t.head()"
   ]
  },
  {
   "cell_type": "code",
   "execution_count": 6,
   "metadata": {
    "collapsed": false
   },
   "outputs": [
    {
     "data": {
      "text/plain": [
       "Index(['MA1_1A_1', 'MA2_3_5', 'MA2_5_2', 'MA2_6_2', 'MA2_6_3', 'MA3_7_1',\n",
       "       'MA3_7_5', 'MA3_7_6', 'MA3_8_1', 'MA4_14_2', 'MA4_15_1', 'MA4_15_2',\n",
       "       'MA4_15_4', 'MA5_16_2', 'MA5_18_2'],\n",
       "      dtype='object')"
      ]
     },
     "execution_count": 6,
     "metadata": {},
     "output_type": "execute_result"
    }
   ],
   "source": [
    "promising_indicators = t[t.good == True].index\n",
    "promising_indicators"
   ]
  },
  {
   "cell_type": "markdown",
   "metadata": {},
   "source": [
    "### Investigate"
   ]
  },
  {
   "cell_type": "code",
   "execution_count": 31,
   "metadata": {
    "collapsed": false
   },
   "outputs": [
    {
     "data": {
      "text/html": [
       "<div>\n",
       "<table border=\"1\" class=\"dataframe\">\n",
       "  <thead>\n",
       "    <tr style=\"text-align: right;\">\n",
       "      <th></th>\n",
       "      <th>req_company_name</th>\n",
       "      <th>req_cik</th>\n",
       "      <th>req_url</th>\n",
       "      <th>ret_cik</th>\n",
       "      <th>ret_company_name</th>\n",
       "      <th>ret_description</th>\n",
       "      <th>ret_filing_date</th>\n",
       "      <th>ret_sec_accession_number</th>\n",
       "      <th>ret_title</th>\n",
       "      <th>ret_url</th>\n",
       "    </tr>\n",
       "  </thead>\n",
       "  <tbody>\n",
       "    <tr>\n",
       "      <th>2</th>\n",
       "      <td>AARON'S INC</td>\n",
       "      <td>706688</td>\n",
       "      <td>http://www.sec.gov/Archives/edgar/data/706688/...</td>\n",
       "      <td>0000706688</td>\n",
       "      <td>AARON'S INC</td>\n",
       "      <td>sdconflictminerals2014.htm</td>\n",
       "      <td>2015-05-22 12:06:05</td>\n",
       "      <td>0000706688-15-000148</td>\n",
       "      <td>SD_CONFLICT_MINERALS_2014</td>\n",
       "      <td>https://www.sec.gov/Archives/edgar/data/706688...</td>\n",
       "    </tr>\n",
       "    <tr>\n",
       "      <th>3</th>\n",
       "      <td>AARON'S INC</td>\n",
       "      <td>706688</td>\n",
       "      <td>http://www.sec.gov/Archives/edgar/data/706688/...</td>\n",
       "      <td>0000706688</td>\n",
       "      <td>AARON'S INC</td>\n",
       "      <td>0000706688-15-000148.txt</td>\n",
       "      <td>2015-05-22 12:06:05</td>\n",
       "      <td>0000706688-15-000148</td>\n",
       "      <td>Complete submission text file</td>\n",
       "      <td>https://www.sec.gov/Archives/edgar/data/706688...</td>\n",
       "    </tr>\n",
       "    <tr>\n",
       "      <th>7</th>\n",
       "      <td>AAON INC</td>\n",
       "      <td>824142</td>\n",
       "      <td>http://www.sec.gov/Archives/edgar/data/824142/...</td>\n",
       "      <td>0000824142</td>\n",
       "      <td>AAON INC</td>\n",
       "      <td>a2014formsd.htm</td>\n",
       "      <td>2015-05-29 11:36:18</td>\n",
       "      <td>0000824142-15-000071</td>\n",
       "      <td>SD</td>\n",
       "      <td>https://www.sec.gov/Archives/edgar/data/824142...</td>\n",
       "    </tr>\n",
       "    <tr>\n",
       "      <th>8</th>\n",
       "      <td>AAON INC</td>\n",
       "      <td>824142</td>\n",
       "      <td>http://www.sec.gov/Archives/edgar/data/824142/...</td>\n",
       "      <td>0000824142</td>\n",
       "      <td>AAON INC</td>\n",
       "      <td>exhibit101.htm</td>\n",
       "      <td>2015-05-29 11:36:18</td>\n",
       "      <td>0000824142-15-000071</td>\n",
       "      <td>EXHIBIT 1.01</td>\n",
       "      <td>https://www.sec.gov/Archives/edgar/data/824142...</td>\n",
       "    </tr>\n",
       "    <tr>\n",
       "      <th>9</th>\n",
       "      <td>AAON INC</td>\n",
       "      <td>824142</td>\n",
       "      <td>http://www.sec.gov/Archives/edgar/data/824142/...</td>\n",
       "      <td>0000824142</td>\n",
       "      <td>AAON INC</td>\n",
       "      <td>0000824142-15-000071.txt</td>\n",
       "      <td>2015-05-29 11:36:18</td>\n",
       "      <td>0000824142-15-000071</td>\n",
       "      <td>Complete submission text file</td>\n",
       "      <td>https://www.sec.gov/Archives/edgar/data/824142...</td>\n",
       "    </tr>\n",
       "  </tbody>\n",
       "</table>\n",
       "</div>"
      ],
      "text/plain": [
       "  req_company_name req_cik                                            req_url  \\\n",
       "2      AARON'S INC  706688  http://www.sec.gov/Archives/edgar/data/706688/...   \n",
       "3      AARON'S INC  706688  http://www.sec.gov/Archives/edgar/data/706688/...   \n",
       "7         AAON INC  824142  http://www.sec.gov/Archives/edgar/data/824142/...   \n",
       "8         AAON INC  824142  http://www.sec.gov/Archives/edgar/data/824142/...   \n",
       "9         AAON INC  824142  http://www.sec.gov/Archives/edgar/data/824142/...   \n",
       "\n",
       "      ret_cik ret_company_name             ret_description  \\\n",
       "2  0000706688      AARON'S INC  sdconflictminerals2014.htm   \n",
       "3  0000706688      AARON'S INC    0000706688-15-000148.txt   \n",
       "7  0000824142         AAON INC             a2014formsd.htm   \n",
       "8  0000824142         AAON INC              exhibit101.htm   \n",
       "9  0000824142         AAON INC    0000824142-15-000071.txt   \n",
       "\n",
       "      ret_filing_date ret_sec_accession_number                      ret_title  \\\n",
       "2 2015-05-22 12:06:05     0000706688-15-000148      SD_CONFLICT_MINERALS_2014   \n",
       "3 2015-05-22 12:06:05     0000706688-15-000148  Complete submission text file   \n",
       "7 2015-05-29 11:36:18     0000824142-15-000071                             SD   \n",
       "8 2015-05-29 11:36:18     0000824142-15-000071                   EXHIBIT 1.01   \n",
       "9 2015-05-29 11:36:18     0000824142-15-000071  Complete submission text file   \n",
       "\n",
       "                                             ret_url  \n",
       "2  https://www.sec.gov/Archives/edgar/data/706688...  \n",
       "3  https://www.sec.gov/Archives/edgar/data/706688...  \n",
       "7  https://www.sec.gov/Archives/edgar/data/824142...  \n",
       "8  https://www.sec.gov/Archives/edgar/data/824142...  \n",
       "9  https://www.sec.gov/Archives/edgar/data/824142...  "
      ]
     },
     "execution_count": 31,
     "metadata": {},
     "output_type": "execute_result"
    }
   ],
   "source": [
    "dd = pd.read_csv('disclosure_docs_list.csv', dtype='str')\n",
    "dd = dd.drop('Unnamed: 0', axis=1)\n",
    "dd = dd.rename(columns={'req_cik': 'req_company_name', 'req_company_name': 'req_cik'})\n",
    "dd.ret_filing_date = pd.to_datetime(dd.ret_filing_date)\n",
    "dd_2015 = dd[dd.ret_filing_date.dt.year == 2015]\n",
    "dd_2015.head()"
   ]
  },
  {
   "cell_type": "markdown",
   "metadata": {},
   "source": [
    "## Try and predict promising indicators"
   ]
  },
  {
   "cell_type": "code",
   "execution_count": 83,
   "metadata": {
    "collapsed": true
   },
   "outputs": [],
   "source": [
    "from sklearn.feature_extraction.text import CountVectorizer\n",
    "from sklearn.feature_extraction.text import TfidfTransformer\n",
    "from sklearn.svm import LinearSVC\n",
    "from sklearn import metrics\n",
    "from sklearn.cross_validation import ShuffleSplit"
   ]
  },
  {
   "cell_type": "code",
   "execution_count": 58,
   "metadata": {
    "collapsed": false
   },
   "outputs": [
    {
     "data": {
      "text/plain": [
       "Index(['MA1_1A_1', 'MA2_3_5', 'MA2_5_2', 'MA2_6_2', 'MA2_6_3', 'MA3_7_1',\n",
       "       'MA3_7_5', 'MA3_7_6', 'MA3_8_1', 'MA4_14_2', 'MA4_15_1', 'MA4_15_2',\n",
       "       'MA4_15_4', 'MA5_16_2', 'MA5_18_2'],\n",
       "      dtype='object')"
      ]
     },
     "execution_count": 58,
     "metadata": {},
     "output_type": "execute_result"
    }
   ],
   "source": [
    "promising_indicators"
   ]
  },
  {
   "cell_type": "code",
   "execution_count": 189,
   "metadata": {
    "collapsed": false
   },
   "outputs": [
    {
     "name": "stdout",
     "output_type": "stream",
     "text": [
      "MA5_18_2\n"
     ]
    },
    {
     "data": {
      "text/html": [
       "<div>\n",
       "<table border=\"1\" class=\"dataframe\">\n",
       "  <thead>\n",
       "    <tr style=\"text-align: right;\">\n",
       "      <th></th>\n",
       "      <th>label</th>\n",
       "      <th>cik</th>\n",
       "      <th>primarysymbol</th>\n",
       "      <th>dir_name</th>\n",
       "      <th>dir_path</th>\n",
       "    </tr>\n",
       "  </thead>\n",
       "  <tbody>\n",
       "    <tr>\n",
       "      <th>0</th>\n",
       "      <td>1</td>\n",
       "      <td>66740</td>\n",
       "      <td>MMM</td>\n",
       "      <td>MMM -- 66740</td>\n",
       "      <td>supporting_docs_2015/MMM -- 66740</td>\n",
       "    </tr>\n",
       "    <tr>\n",
       "      <th>1</th>\n",
       "      <td>NaN</td>\n",
       "      <td>937966</td>\n",
       "      <td>ASML</td>\n",
       "      <td>ASML -- 937966</td>\n",
       "      <td>supporting_docs_2015/ASML -- 937966</td>\n",
       "    </tr>\n",
       "    <tr>\n",
       "      <th>2</th>\n",
       "      <td>1</td>\n",
       "      <td>1800</td>\n",
       "      <td>ABT</td>\n",
       "      <td>ABT -- 1800</td>\n",
       "      <td>supporting_docs_2015/ABT -- 1800</td>\n",
       "    </tr>\n",
       "    <tr>\n",
       "      <th>3</th>\n",
       "      <td>NaN</td>\n",
       "      <td>1144215</td>\n",
       "      <td>AYI</td>\n",
       "      <td>AYI -- 1144215</td>\n",
       "      <td>supporting_docs_2015/AYI -- 1144215</td>\n",
       "    </tr>\n",
       "    <tr>\n",
       "      <th>4</th>\n",
       "      <td>1</td>\n",
       "      <td>886125</td>\n",
       "      <td>ALU</td>\n",
       "      <td>ALU -- 886125</td>\n",
       "      <td>supporting_docs_2015/ALU -- 886125</td>\n",
       "    </tr>\n",
       "  </tbody>\n",
       "</table>\n",
       "</div>"
      ],
      "text/plain": [
       "  label      cik primarysymbol        dir_name  \\\n",
       "0     1    66740           MMM    MMM -- 66740   \n",
       "1   NaN   937966          ASML  ASML -- 937966   \n",
       "2     1     1800           ABT     ABT -- 1800   \n",
       "3   NaN  1144215           AYI  AYI -- 1144215   \n",
       "4     1   886125           ALU   ALU -- 886125   \n",
       "\n",
       "                              dir_path  \n",
       "0    supporting_docs_2015/MMM -- 66740  \n",
       "1  supporting_docs_2015/ASML -- 937966  \n",
       "2     supporting_docs_2015/ABT -- 1800  \n",
       "3  supporting_docs_2015/AYI -- 1144215  \n",
       "4   supporting_docs_2015/ALU -- 886125  "
      ]
     },
     "execution_count": 189,
     "metadata": {},
     "output_type": "execute_result"
    }
   ],
   "source": [
    "\n",
    "INDICATOR = promising_indicators[14]\n",
    "print(INDICATOR)\n",
    "\n",
    "inds = pd.read_csv('/Users/caged/Dropbox/RSN Mining/indicator_data_matched_with_cik_data.csv', dtype='str', usecols=[INDICATOR, 'cik', 'primarysymbol'])\n",
    "inds = inds.rename(columns={INDICATOR: 'label'})\n",
    "inds['dir_name'] = inds.apply(lambda row: ' '.join([row.primarysymbol, '--', str(row.cik)]), axis=1)\n",
    "inds['dir_path'] = inds.dir_name.apply(lambda x: os.path.join('supporting_docs_2015', x))\n",
    "inds = inds.dropna()\n",
    "inds.head()"
   ]
  },
  {
   "cell_type": "code",
   "execution_count": 190,
   "metadata": {
    "collapsed": false
   },
   "outputs": [
    {
     "data": {
      "text/plain": [
       "126"
      ]
     },
     "execution_count": 190,
     "metadata": {},
     "output_type": "execute_result"
    }
   ],
   "source": [
    "len(inds)"
   ]
  },
  {
   "cell_type": "code",
   "execution_count": 183,
   "metadata": {
    "collapsed": false
   },
   "outputs": [
    {
     "data": {
      "text/plain": [
       "1"
      ]
     },
     "execution_count": 183,
     "metadata": {},
     "output_type": "execute_result"
    }
   ],
   "source": [
    "text_file_paths = []\n",
    "list_of_labels = []\n",
    "bad_counter = 0\n",
    "for i, row in inds.iterrows():\n",
    "    results = dd_2015[(dd_2015.req_cik == row.cik) & (dd_2015.ret_title == 'Complete submission text file')].reset_index()\n",
    "    if len(results) == 1:\n",
    "        dir_path = row.dir_path\n",
    "        text_file_name = results['ret_description'][0]\n",
    "        text_file_paths.append(os.path.join(dir_path, text_file_name))\n",
    "        list_of_labels.append(int(float(row.label)))\n",
    "    else:\n",
    "        bad_counter +=1\n",
    "bad_counter"
   ]
  },
  {
   "cell_type": "code",
   "execution_count": 184,
   "metadata": {
    "collapsed": false
   },
   "outputs": [
    {
     "name": "stdout",
     "output_type": "stream",
     "text": [
      "76\n",
      "76\n"
     ]
    }
   ],
   "source": [
    "print(len(text_file_paths))\n",
    "print(len(list_of_labels))"
   ]
  },
  {
   "cell_type": "code",
   "execution_count": 185,
   "metadata": {
    "collapsed": false
   },
   "outputs": [],
   "source": [
    "list_of_text_docs = []\n",
    "for file_path in text_file_paths:\n",
    "    with open(file_path, 'r') as f:\n",
    "        text = f.read()\n",
    "    soup = BeautifulSoup(text)\n",
    "    documents = soup.findAll('document')\n",
    "    text_docs = ''\n",
    "    for doc in documents:\n",
    "        text_docs = ''.join([text_docs, doc.get_text()])\n",
    "    list_of_text_docs.append(text_docs)"
   ]
  },
  {
   "cell_type": "code",
   "execution_count": 186,
   "metadata": {
    "collapsed": false
   },
   "outputs": [],
   "source": [
    "cv = ShuffleSplit(n=len(list_of_labels), n_iter=1, test_size=0.3, random_state=0)\n",
    "\n",
    "for train, test in cv:\n",
    "    train_data = np.array(list_of_text_docs)[train]\n",
    "    train_labels = np.array(list_of_labels)[train]\n",
    "    test_data = np.array(list_of_text_docs)[test]\n",
    "    test_labels = np.array(list_of_labels)[test]"
   ]
  },
  {
   "cell_type": "code",
   "execution_count": 187,
   "metadata": {
    "collapsed": false
   },
   "outputs": [],
   "source": [
    "count_vect = CountVectorizer()\n",
    "X_train_counts = count_vect.fit_transform(train_data)\n",
    "tfidf_transformer = TfidfTransformer()\n",
    "X_train_tfidf = tfidf_transformer.fit_transform(X_train_counts)\n",
    "clf = LinearSVC().fit(X_train_tfidf, train_labels)\n",
    "X_new_counts = count_vect.transform(test_data)\n",
    "X_new_tfidf = tfidf_transformer.transform(X_new_counts)\n",
    "predicted = clf.predict(X_new_tfidf)"
   ]
  },
  {
   "cell_type": "code",
   "execution_count": 188,
   "metadata": {
    "collapsed": false
   },
   "outputs": [
    {
     "name": "stdout",
     "output_type": "stream",
     "text": [
      "MA5_18_2\n",
      "76\n",
      "             precision    recall  f1-score   support\n",
      "\n",
      "          0       0.62      0.80      0.70        10\n",
      "          1       0.80      0.62      0.70        13\n",
      "\n",
      "avg / total       0.72      0.70      0.70        23\n",
      "\n"
     ]
    }
   ],
   "source": [
    "print(INDICATOR)\n",
    "print(len(list_of_labels))\n",
    "print(metrics.classification_report(test_labels, predicted))"
   ]
  },
  {
   "cell_type": "markdown",
   "metadata": {},
   "source": [
    "```\n",
    "['MA1_1A_1', 'MA2_3_5', 'MA2_5_2', 'MA2_6_2', 'MA2_6_3', 'MA3_7_1', 'MA3_7_5', 'MA3_7_6', 'MA3_8_1', 'MA4_14_2', 'MA4_15_1', 'MA4_15_2', 'MA4_15_4', 'MA5_16_2', 'MA5_18_2']\n",
    "\n",
    "\n",
    "'MA1_1A_1'\n",
    "             precision    recall  f1-score   support\n",
    "\n",
    "          0       0.55      0.40      0.46        15\n",
    "          1       0.67      0.78      0.72        23\n",
    "\n",
    "avg / total       0.62      0.63      0.62        38\n",
    "\n",
    "'MA2_3_5'\n",
    "             precision    recall  f1-score   support\n",
    "\n",
    "          0       0.00      0.00      0.00        14\n",
    "          1       0.46      1.00      0.63        12\n",
    "\n",
    "avg / total       0.21      0.46      0.29        26\n",
    "\n",
    "MA2_5_2\n",
    "             precision    recall  f1-score   support\n",
    "\n",
    "          0       0.33      0.67      0.44         6\n",
    "          1       0.00      0.00      0.00         8\n",
    "\n",
    "avg / total       0.14      0.29      0.19        14\n",
    "\n",
    "\n",
    "MA2_6_2\n",
    "92\n",
    "             precision    recall  f1-score   support\n",
    "\n",
    "          0       0.83      0.77      0.80        13\n",
    "          1       0.81      0.87      0.84        15\n",
    "\n",
    "avg / total       0.82      0.82      0.82        28\n",
    "\n",
    "\n",
    "MA2_6_3\n",
    "81\n",
    "             precision    recall  f1-score   support\n",
    "\n",
    "          0       0.68      1.00      0.81        13\n",
    "          1       1.00      0.50      0.67        12\n",
    "\n",
    "avg / total       0.84      0.76      0.74        25\n",
    "\n",
    "\n",
    "MA3_7_1\n",
    "102\n",
    "             precision    recall  f1-score   support\n",
    "\n",
    "          0       0.83      0.45      0.59        11\n",
    "          1       0.76      0.95      0.84        20\n",
    "\n",
    "avg / total       0.79      0.77      0.75        31\n",
    "\n",
    "\n",
    "MA3_7_5\n",
    "69\n",
    "             precision    recall  f1-score   support\n",
    "\n",
    "          0       0.56      0.38      0.45        13\n",
    "          1       0.33      0.50      0.40         8\n",
    "\n",
    "avg / total       0.47      0.43      0.43        21\n",
    "\n",
    "\n",
    "MA3_7_6\n",
    "55\n",
    "             precision    recall  f1-score   support\n",
    "\n",
    "          0       0.71      0.71      0.71         7\n",
    "          1       0.80      0.80      0.80        10\n",
    "\n",
    "avg / total       0.76      0.76      0.76        17\n",
    "\n",
    "\n",
    "MA3_8_1\n",
    "46\n",
    "             precision    recall  f1-score   support\n",
    "\n",
    "          0       1.00      0.38      0.55         8\n",
    "          1       0.55      1.00      0.71         6\n",
    "\n",
    "avg / total       0.81      0.64      0.61        14\n",
    "\n",
    "\n",
    "MA4_14_2\n",
    "107\n",
    "             precision    recall  f1-score   support\n",
    "\n",
    "          0       0.61      1.00      0.75        20\n",
    "          1       0.00      0.00      0.00        13\n",
    "\n",
    "avg / total       0.37      0.61      0.46        33\n",
    "\n",
    "\n",
    "MA4_15_1\n",
    "115\n",
    "             precision    recall  f1-score   support\n",
    "\n",
    "          0       0.82      1.00      0.90        14\n",
    "          1       1.00      0.86      0.92        21\n",
    "\n",
    "avg / total       0.93      0.91      0.92        35\n",
    "\n",
    "\n",
    "MA4_15_2\n",
    "85\n",
    "             precision    recall  f1-score   support\n",
    "\n",
    "          0       0.85      0.92      0.88        12\n",
    "          1       0.92      0.86      0.89        14\n",
    "\n",
    "avg / total       0.89      0.88      0.88        26\n",
    "\n",
    "\n",
    "MA4_15_4\n",
    "91\n",
    "             precision    recall  f1-score   support\n",
    "\n",
    "          0       0.38      0.42      0.40        12\n",
    "          1       0.53      0.50      0.52        16\n",
    "\n",
    "avg / total       0.47      0.46      0.47        28\n",
    "\n",
    "\n",
    "MA5_16_2\n",
    "68\n",
    "             precision    recall  f1-score   support\n",
    "\n",
    "          0       0.75      0.75      0.75        12\n",
    "          1       0.67      0.67      0.67         9\n",
    "\n",
    "avg / total       0.71      0.71      0.71        21\n",
    "\n",
    "\n",
    "MA5_18_2\n",
    "76\n",
    "             precision    recall  f1-score   support\n",
    "\n",
    "          0       0.62      0.80      0.70        10\n",
    "          1       0.80      0.62      0.70        13\n",
    "\n",
    "avg / total       0.72      0.70      0.70        23\n",
    "\n",
    "```\n"
   ]
  },
  {
   "cell_type": "markdown",
   "metadata": {},
   "source": [
    "## Sandpit"
   ]
  },
  {
   "cell_type": "code",
   "execution_count": null,
   "metadata": {
    "collapsed": false
   },
   "outputs": [],
   "source": [
    "from nltk.tokenize import RegexpTokenizer, SpaceTokenizer\n",
    "from nltk.corpus import stopwords\n",
    "\n",
    "# Pull out any urls\n",
    "word_tokenizer = SpaceTokenizer()\n",
    "simple_tokens = word_tokenizer.tokenize(documents[0].get_text())\n",
    "for token in simple_tokens:\n",
    "    if token.startswith('http'):\n",
    "        print(token)"
   ]
  },
  {
   "cell_type": "code",
   "execution_count": null,
   "metadata": {
    "collapsed": false
   },
   "outputs": [],
   "source": [
    "# Don't need to do this (I think)\n",
    "tokenizer = RegexpTokenizer(r'\\w+')\n",
    "def tkize(doc_text):\n",
    "    tokens = tokenizer.tokenize(text_docs)\n",
    "    tokens = [tk.lower() for tk in tokens]\n",
    "    return tokens\n",
    "\n",
    "words_list = []\n",
    "for doc in documents:\n",
    "    doc_text = doc.get_text()\n",
    "    tks = tkize(doc_text)\n",
    "    words = [w for w in tks if not w in stopwords.words(\"english\")]\n",
    "    words_list.append(words)\n",
    "len(words_list)"
   ]
  },
  {
   "cell_type": "code",
   "execution_count": 66,
   "metadata": {
    "collapsed": false
   },
   "outputs": [
    {
     "name": "stdout",
     "output_type": "stream",
     "text": [
      "50\n",
      "0\n"
     ]
    }
   ],
   "source": [
    "#old shuffle - not great!\n",
    "x = 90\n",
    "train_data = list_of_text_docs[0:x]\n",
    "train_labels = list_of_labels[0:x]\n",
    "test_data = list_of_text_docs[x:]\n",
    "test_labels = list_of_labels[x:]\n",
    "\n",
    "print(sum(train_labels))\n",
    "print(sum(test_labels))"
   ]
  }
 ],
 "metadata": {
  "kernelspec": {
   "display_name": "Python 3",
   "language": "python",
   "name": "python3"
  },
  "language_info": {
   "codemirror_mode": {
    "name": "ipython",
    "version": 3
   },
   "file_extension": ".py",
   "mimetype": "text/x-python",
   "name": "python",
   "nbconvert_exporter": "python",
   "pygments_lexer": "ipython3",
   "version": "3.4.4"
  }
 },
 "nbformat": 4,
 "nbformat_minor": 0
}
