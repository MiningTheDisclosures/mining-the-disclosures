{
 "cells": [
  {
   "cell_type": "code",
   "execution_count": 1,
   "metadata": {
    "collapsed": true
   },
   "outputs": [],
   "source": [
    "import pandas as pd\n",
    "import string\n",
    "import requests\n",
    "import os"
   ]
  },
  {
   "cell_type": "code",
   "execution_count": 2,
   "metadata": {
    "collapsed": false
   },
   "outputs": [
    {
     "data": {
      "text/html": [
       "<div>\n",
       "<table border=\"1\" class=\"dataframe\">\n",
       "  <thead>\n",
       "    <tr style=\"text-align: right;\">\n",
       "      <th></th>\n",
       "      <th>Company Name</th>\n",
       "      <th>Ticker Symbol</th>\n",
       "      <th>name</th>\n",
       "      <th>name_clean</th>\n",
       "      <th>exchange</th>\n",
       "      <th>ticker</th>\n",
       "    </tr>\n",
       "  </thead>\n",
       "  <tbody>\n",
       "    <tr>\n",
       "      <th>0</th>\n",
       "      <td>3D SYSTEMS CORP</td>\n",
       "      <td>NYSE:DDD</td>\n",
       "      <td>3D SYSTEMS CORP</td>\n",
       "      <td>3D SYSTEMS CORP</td>\n",
       "      <td>NYSE</td>\n",
       "      <td>DDD</td>\n",
       "    </tr>\n",
       "    <tr>\n",
       "      <th>1</th>\n",
       "      <td>3M Co.</td>\n",
       "      <td>NYSE:MMM</td>\n",
       "      <td>3M CO.</td>\n",
       "      <td>3M CO</td>\n",
       "      <td>NYSE</td>\n",
       "      <td>MMM</td>\n",
       "    </tr>\n",
       "    <tr>\n",
       "      <th>2</th>\n",
       "      <td>A10 Networks, Inc.</td>\n",
       "      <td>NYSE:ATEN</td>\n",
       "      <td>A10 NETWORKS, INC.</td>\n",
       "      <td>A10 NETWORKS INC</td>\n",
       "      <td>NYSE</td>\n",
       "      <td>ATEN</td>\n",
       "    </tr>\n",
       "    <tr>\n",
       "      <th>3</th>\n",
       "      <td>AAON INC</td>\n",
       "      <td>NasdaqGS:AAON</td>\n",
       "      <td>AAON INC</td>\n",
       "      <td>AAON INC</td>\n",
       "      <td>NasdaqGS</td>\n",
       "      <td>AAON</td>\n",
       "    </tr>\n",
       "    <tr>\n",
       "      <th>4</th>\n",
       "      <td>AAR CORP</td>\n",
       "      <td>NYSE:AIR</td>\n",
       "      <td>AAR CORP</td>\n",
       "      <td>AAR CORP</td>\n",
       "      <td>NYSE</td>\n",
       "      <td>AIR</td>\n",
       "    </tr>\n",
       "  </tbody>\n",
       "</table>\n",
       "</div>"
      ],
      "text/plain": [
       "         Company Name  Ticker Symbol                name        name_clean  \\\n",
       "0     3D SYSTEMS CORP       NYSE:DDD     3D SYSTEMS CORP   3D SYSTEMS CORP   \n",
       "1              3M Co.       NYSE:MMM              3M CO.             3M CO   \n",
       "2  A10 Networks, Inc.      NYSE:ATEN  A10 NETWORKS, INC.  A10 NETWORKS INC   \n",
       "3            AAON INC  NasdaqGS:AAON            AAON INC          AAON INC   \n",
       "4            AAR CORP       NYSE:AIR            AAR CORP          AAR CORP   \n",
       "\n",
       "   exchange ticker  \n",
       "0      NYSE    DDD  \n",
       "1      NYSE    MMM  \n",
       "2      NYSE   ATEN  \n",
       "3  NasdaqGS   AAON  \n",
       "4      NYSE    AIR  "
      ]
     },
     "execution_count": 2,
     "metadata": {},
     "output_type": "execute_result"
    }
   ],
   "source": [
    "file_name = '/Users/caged/Desktop/Mining the disclosures/RSN-MiningDisclosures15-Universe_2-4.csv'\n",
    "exclude = set(string.punctuation)\n",
    "def clean_names(sub):\n",
    "    sub['name'] = sub['Company Name'].str.upper()\n",
    "    sub['name_clean'] = sub.name.apply(lambda s: ''.join(ch for ch in s if ch not in exclude))\n",
    "    sub['exchange'] = sub['Ticker Symbol'].str.split(':').str[0]\n",
    "    sub['ticker'] = sub['Ticker Symbol'].str.split(':').str[1]\n",
    "    return sub\n",
    "tickers = pd.read_csv(file_name, usecols=['Company Name', 'Ticker Symbol'], dtype='str')\n",
    "tickers = clean_names(tickers)\n",
    "tickers = tickers.dropna()\n",
    "tickers.head()"
   ]
  },
  {
   "cell_type": "code",
   "execution_count": 3,
   "metadata": {
    "collapsed": false
   },
   "outputs": [
    {
     "data": {
      "text/plain": [
       "Company Name     2581\n",
       "Ticker Symbol    2581\n",
       "name             2581\n",
       "name_clean       2581\n",
       "exchange         2581\n",
       "ticker           2581\n",
       "dtype: int64"
      ]
     },
     "execution_count": 3,
     "metadata": {},
     "output_type": "execute_result"
    }
   ],
   "source": [
    "tickers.count()"
   ]
  },
  {
   "cell_type": "code",
   "execution_count": 4,
   "metadata": {
    "collapsed": false
   },
   "outputs": [
    {
     "data": {
      "text/plain": [
       "2519"
      ]
     },
     "execution_count": 4,
     "metadata": {},
     "output_type": "execute_result"
    }
   ],
   "source": [
    "unique_tickers = tickers.ticker.unique()\n",
    "len(unique_tickers)"
   ]
  },
  {
   "cell_type": "code",
   "execution_count": 28,
   "metadata": {
    "collapsed": false,
    "scrolled": false
   },
   "outputs": [],
   "source": [
    "def look_up_company_by_tickers(list_of_tickers):\n",
    "    url = \"http://edgaronline.api.mashery.com/v2/companies\"\n",
    "    params = {\n",
    "        'appkey': os.environ.get('EDGAR_KEY'),\n",
    "        'primarysymbols': ','.join(list_of_tickers),\n",
    "    }\n",
    "    response = requests.get(url=url, params=params)\n",
    "    return response"
   ]
  },
  {
   "cell_type": "code",
   "execution_count": 25,
   "metadata": {
    "collapsed": false
   },
   "outputs": [
    {
     "data": {
      "text/plain": [
       "250"
      ]
     },
     "execution_count": 25,
     "metadata": {},
     "output_type": "execute_result"
    }
   ],
   "source": [
    "# sample_1 = unique_tickers[0:50]\n",
    "# sample_2 = unique_tickers[50:100]\n",
    "list_of_tickers = []\n",
    "for x in range(250):\n",
    "    tickers = unique_tickers[x*10: (x+1)*10]\n",
    "    list_of_tickers.append(tickers)\n",
    "len(list_of_tickers)"
   ]
  },
  {
   "cell_type": "code",
   "execution_count": 9,
   "metadata": {
    "collapsed": false,
    "scrolled": true
   },
   "outputs": [
    {
     "name": "stdout",
     "output_type": "stream",
     "text": [
      "0\n",
      "1\n",
      "2\n",
      "3\n",
      "4\n",
      "5\n",
      "6\n",
      "7\n",
      "8\n",
      "9\n",
      "10\n",
      "11\n",
      "12\n",
      "13\n",
      "14\n",
      "15\n",
      "16\n",
      "17\n",
      "18\n",
      "19\n",
      "20\n",
      "21\n",
      "22\n",
      "23\n",
      "24\n",
      "25\n",
      "26\n",
      "27\n",
      "28\n",
      "29\n",
      "30\n",
      "31\n",
      "32\n",
      "33\n",
      "34\n",
      "35\n",
      "36\n",
      "37\n",
      "38\n",
      "39\n",
      "40\n",
      "41\n",
      "42\n",
      "43\n",
      "44\n",
      "45\n",
      "46\n",
      "47\n",
      "48\n",
      "49\n",
      "50\n",
      "51\n",
      "52\n",
      "53\n",
      "54\n",
      "55\n",
      "56\n",
      "57\n",
      "58\n",
      "59\n",
      "60\n",
      "61\n",
      "62\n",
      "63\n",
      "64\n",
      "65\n",
      "66\n",
      "67\n",
      "68\n",
      "69\n",
      "70\n",
      "71\n",
      "72\n",
      "73\n",
      "74\n",
      "75\n",
      "76\n",
      "77\n",
      "78\n",
      "79\n",
      "80\n",
      "81\n",
      "82\n",
      "83\n",
      "84\n",
      "85\n",
      "86\n",
      "87\n",
      "88\n",
      "89\n",
      "90\n",
      "91\n",
      "92\n",
      "93\n",
      "94\n",
      "95\n",
      "96\n",
      "97\n",
      "98\n",
      "99\n",
      "100\n",
      "101\n",
      "102\n",
      "103\n",
      "104\n",
      "105\n",
      "106\n",
      "107\n",
      "108\n",
      "109\n",
      "110\n",
      "111\n",
      "112\n",
      "113\n",
      "114\n",
      "115\n",
      "116\n",
      "117\n",
      "118\n",
      "119\n",
      "120\n",
      "121\n",
      "122\n",
      "123\n",
      "124\n",
      "125\n",
      "126\n",
      "127\n",
      "128\n",
      "129\n",
      "130\n",
      "131\n",
      "132\n",
      "133\n",
      "134\n",
      "135\n",
      "136\n",
      "137\n",
      "138\n",
      "139\n",
      "140\n",
      "141\n",
      "142\n",
      "143\n",
      "144\n",
      "145\n",
      "146\n",
      "147\n",
      "148\n",
      "149\n",
      "150\n",
      "151\n",
      "152\n",
      "153\n",
      "154\n",
      "155\n",
      "156\n",
      "157\n",
      "158\n",
      "159\n",
      "160\n",
      "161\n",
      "162\n",
      "163\n",
      "164\n",
      "165\n",
      "166\n",
      "167\n",
      "168\n",
      "169\n",
      "170\n",
      "171\n",
      "172\n",
      "173\n",
      "174\n",
      "175\n",
      "176\n",
      "177\n",
      "178\n",
      "179\n",
      "180\n",
      "181\n",
      "182\n",
      "183\n",
      "184\n",
      "185\n",
      "186\n",
      "187\n",
      "188\n",
      "189\n",
      "190\n",
      "191\n",
      "192\n",
      "193\n",
      "194\n",
      "195\n",
      "196\n",
      "197\n",
      "198\n",
      "199\n",
      "200\n",
      "201\n",
      "202\n",
      "203\n",
      "204\n",
      "205\n",
      "206\n",
      "207\n",
      "208\n",
      "209\n",
      "210\n",
      "211\n",
      "212\n",
      "213\n",
      "214\n",
      "215\n",
      "216\n",
      "217\n",
      "218\n",
      "219\n",
      "220\n",
      "221\n",
      "222\n",
      "223\n",
      "224\n",
      "225\n",
      "226\n",
      "227\n",
      "228\n",
      "229\n",
      "230\n",
      "231\n",
      "232\n",
      "233\n",
      "234\n",
      "235\n",
      "236\n",
      "237\n",
      "238\n",
      "239\n",
      "240\n",
      "241\n",
      "242\n",
      "243\n",
      "244\n",
      "245\n",
      "246\n",
      "247\n",
      "248\n",
      "249\n"
     ]
    }
   ],
   "source": [
    "## EXPENSIVE - DO NOT RUN UNLESS YOU HAVE TO!!!\n",
    "\n",
    "#good_responses = {}\n",
    "#bad_responses = {}\n",
    "#for i, tickers in enumerate(list_of_tickers):\n",
    "#    print(i)\n",
    "#    response = look_up_company_by_tickers(tickers)\n",
    "#    if response.status_code == 200:\n",
    "#        good_responses[i] = response\n",
    "#    else:\n",
    "#        bad_responses[i] = response"
   ]
  },
  {
   "cell_type": "code",
   "execution_count": 12,
   "metadata": {
    "collapsed": false
   },
   "outputs": [
    {
     "data": {
      "text/plain": [
       "66"
      ]
     },
     "execution_count": 12,
     "metadata": {},
     "output_type": "execute_result"
    }
   ],
   "source": [
    "len(good_responses)"
   ]
  },
  {
   "cell_type": "code",
   "execution_count": 16,
   "metadata": {
    "collapsed": false
   },
   "outputs": [
    {
     "data": {
      "text/html": [
       "<div>\n",
       "<table border=\"1\" class=\"dataframe\">\n",
       "  <thead>\n",
       "    <tr style=\"text-align: right;\">\n",
       "      <th></th>\n",
       "      <th>cik</th>\n",
       "      <th>companyname</th>\n",
       "      <th>entityid</th>\n",
       "      <th>primaryexchange</th>\n",
       "      <th>primarysymbol</th>\n",
       "      <th>siccode</th>\n",
       "      <th>sicdescription</th>\n",
       "    </tr>\n",
       "  </thead>\n",
       "  <tbody>\n",
       "    <tr>\n",
       "      <th>554</th>\n",
       "      <td>0001082554</td>\n",
       "      <td>UNITED THERAPEUTICS CORP</td>\n",
       "      <td>5683</td>\n",
       "      <td>Nasdaq Global Market</td>\n",
       "      <td>UTHR</td>\n",
       "      <td>2834</td>\n",
       "      <td>Pharmaceutical Preparations</td>\n",
       "    </tr>\n",
       "    <tr>\n",
       "      <th>555</th>\n",
       "      <td>0001111335</td>\n",
       "      <td>VISTEON CORP</td>\n",
       "      <td>75297</td>\n",
       "      <td>NYSE</td>\n",
       "      <td>VC</td>\n",
       "      <td>3714</td>\n",
       "      <td>Motor Vehicle Parts and Accessories</td>\n",
       "    </tr>\n",
       "    <tr>\n",
       "      <th>556</th>\n",
       "      <td>0001129260</td>\n",
       "      <td>VOCERA COMMUNICATIONS, INC.</td>\n",
       "      <td>113414</td>\n",
       "      <td>NYSE</td>\n",
       "      <td>VCRA</td>\n",
       "      <td>3669</td>\n",
       "      <td>Communications Equipment, Not Elsewhere Classi...</td>\n",
       "    </tr>\n",
       "    <tr>\n",
       "      <th>557</th>\n",
       "      <td>0000839923</td>\n",
       "      <td>VODAFONE GROUP PUBLIC LTD CO</td>\n",
       "      <td>6799</td>\n",
       "      <td>Nasdaq Global Market</td>\n",
       "      <td>VOD</td>\n",
       "      <td>4812</td>\n",
       "      <td>Radiotelephone Communications</td>\n",
       "    </tr>\n",
       "    <tr>\n",
       "      <th>558</th>\n",
       "      <td>0001487952</td>\n",
       "      <td>VISHAY PRECISION GROUP, INC.</td>\n",
       "      <td>824763</td>\n",
       "      <td>NYSE</td>\n",
       "      <td>VPG</td>\n",
       "      <td>3670</td>\n",
       "      <td>Electronic Components And Accessories</td>\n",
       "    </tr>\n",
       "  </tbody>\n",
       "</table>\n",
       "</div>"
      ],
      "text/plain": [
       "            cik                   companyname  entityid       primaryexchange  \\\n",
       "554  0001082554      UNITED THERAPEUTICS CORP      5683  Nasdaq Global Market   \n",
       "555  0001111335                  VISTEON CORP     75297                  NYSE   \n",
       "556  0001129260   VOCERA COMMUNICATIONS, INC.    113414                  NYSE   \n",
       "557  0000839923  VODAFONE GROUP PUBLIC LTD CO      6799  Nasdaq Global Market   \n",
       "558  0001487952  VISHAY PRECISION GROUP, INC.    824763                  NYSE   \n",
       "\n",
       "    primarysymbol siccode                                     sicdescription  \n",
       "554          UTHR    2834                        Pharmaceutical Preparations  \n",
       "555            VC    3714                Motor Vehicle Parts and Accessories  \n",
       "556          VCRA    3669  Communications Equipment, Not Elsewhere Classi...  \n",
       "557           VOD    4812                      Radiotelephone Communications  \n",
       "558           VPG    3670              Electronic Components And Accessories  "
      ]
     },
     "execution_count": 16,
     "metadata": {},
     "output_type": "execute_result"
    }
   ],
   "source": [
    "cleaned_ciks = pd.DataFrame()\n",
    "for i, response in good_responses.items():\n",
    "    if response.status_code == 200:\n",
    "        for row in response.json()['result']['rows']:\n",
    "            fields = {}\n",
    "            for field in row['values']:\n",
    "                fields[field['field']] = field['value']\n",
    "            cleaned_ciks = pd.concat([cleaned_ciks, pd.DataFrame([fields])], ignore_index=True)\n",
    "cleaned_ciks.tail()  "
   ]
  },
  {
   "cell_type": "code",
   "execution_count": 17,
   "metadata": {
    "collapsed": false
   },
   "outputs": [],
   "source": [
    "cleaned_ciks.to_csv('clean_ciks_good.csv')"
   ]
  },
  {
   "cell_type": "code",
   "execution_count": 18,
   "metadata": {
    "collapsed": false
   },
   "outputs": [
    {
     "data": {
      "text/plain": [
       "dict_keys([2, 11, 19, 22, 34, 41, 44, 45, 46, 48, 49, 50, 52, 53, 56, 57, 58, 59, 60, 62, 63, 64, 65, 66, 67, 68, 69, 70, 71, 73, 75, 76, 78, 79, 80, 81, 82, 83, 84, 85, 88, 89, 90, 91, 92, 93, 94, 95, 97, 98, 99, 100, 101, 102, 104, 106, 108, 109, 111, 112, 113, 114, 115, 116, 117, 118, 119, 120, 121, 122, 123, 124, 125, 126, 127, 128, 129, 130, 131, 132, 133, 134, 136, 137, 138, 139, 140, 141, 142, 143, 144, 145, 146, 147, 148, 149, 150, 151, 152, 153, 154, 155, 156, 157, 158, 159, 160, 161, 162, 163, 164, 165, 166, 168, 169, 170, 171, 172, 173, 174, 175, 176, 177, 178, 179, 180, 181, 182, 183, 184, 185, 188, 189, 190, 191, 192, 193, 194, 196, 197, 198, 199, 201, 202, 203, 204, 205, 206, 207, 208, 209, 210, 213, 214, 215, 216, 218, 219, 220, 221, 222, 223, 224, 225, 226, 227, 228, 229, 230, 231, 233, 234, 236, 237, 238, 240, 241, 242, 243, 245, 246, 247, 248, 249])"
      ]
     },
     "execution_count": 18,
     "metadata": {},
     "output_type": "execute_result"
    }
   ],
   "source": [
    "bad_responses.keys()"
   ]
  },
  {
   "cell_type": "code",
   "execution_count": 26,
   "metadata": {
    "collapsed": false
   },
   "outputs": [
    {
     "data": {
      "text/plain": [
       "array(['ADEP', 'ADBE', 'ADTN', 'ADES', 'AEIS', 'AMD', '2311', '6857',\n",
       "       'ACM', 'AEGN'], dtype=object)"
      ]
     },
     "execution_count": 26,
     "metadata": {},
     "output_type": "execute_result"
    }
   ],
   "source": [
    "list_of_tickers[2]"
   ]
  },
  {
   "cell_type": "code",
   "execution_count": 44,
   "metadata": {
    "collapsed": false,
    "scrolled": true
   },
   "outputs": [
    {
     "name": "stdout",
     "output_type": "stream",
     "text": [
      "2\n",
      "11\n",
      "19\n",
      "22\n",
      "34\n",
      "41\n",
      "44\n",
      "45\n",
      "46\n",
      "48\n",
      "49\n",
      "50\n",
      "52\n",
      "53\n",
      "56\n",
      "57\n",
      "58\n",
      "59\n",
      "60\n",
      "62\n",
      "63\n",
      "64\n",
      "65\n",
      "66\n",
      "67\n",
      "68\n",
      "69\n",
      "70\n",
      "71\n",
      "73\n",
      "75\n",
      "76\n",
      "78\n",
      "79\n",
      "80\n",
      "81\n",
      "82\n",
      "83\n",
      "84\n",
      "85\n",
      "88\n",
      "89\n",
      "90\n",
      "91\n",
      "92\n",
      "93\n",
      "94\n",
      "95\n",
      "97\n",
      "98\n",
      "99\n",
      "100\n",
      "101\n",
      "102\n",
      "104\n",
      "106\n",
      "108\n",
      "109\n",
      "111\n",
      "112\n",
      "113\n",
      "114\n",
      "115\n",
      "116\n",
      "117\n",
      "118\n",
      "119\n",
      "120\n",
      "121\n",
      "122\n",
      "123\n",
      "124\n",
      "125\n",
      "126\n",
      "127\n",
      "128\n",
      "129\n",
      "130\n",
      "131\n",
      "132\n",
      "133\n",
      "134\n",
      "136\n",
      "137\n",
      "138\n",
      "139\n",
      "140\n",
      "141\n",
      "142\n",
      "143\n",
      "144\n",
      "145\n",
      "146\n",
      "147\n",
      "148\n",
      "149\n",
      "150\n",
      "151\n",
      "152\n",
      "153\n",
      "154\n",
      "155\n",
      "156\n",
      "157\n",
      "158\n",
      "159\n",
      "160\n",
      "161\n",
      "162\n",
      "163\n",
      "164\n",
      "165\n",
      "166\n",
      "168\n",
      "169\n",
      "170\n",
      "171\n",
      "172\n",
      "173\n",
      "174\n",
      "175\n",
      "176\n",
      "177\n",
      "178\n",
      "179\n",
      "180\n",
      "181\n",
      "182\n",
      "183\n",
      "184\n",
      "185\n",
      "188\n",
      "189\n",
      "190\n",
      "191\n",
      "192\n",
      "193\n",
      "194\n",
      "196\n",
      "197\n",
      "198\n",
      "199\n",
      "201\n",
      "202\n",
      "203\n",
      "204\n",
      "205\n",
      "206\n",
      "207\n",
      "208\n",
      "209\n",
      "210\n",
      "213\n",
      "214\n",
      "215\n",
      "216\n",
      "218\n",
      "219\n",
      "220\n",
      "221\n",
      "222\n",
      "223\n",
      "224\n",
      "225\n",
      "226\n",
      "227\n",
      "228\n",
      "229\n",
      "230\n",
      "231\n",
      "233\n",
      "234\n",
      "236\n",
      "237\n",
      "238\n",
      "240\n",
      "241\n",
      "242\n",
      "243\n",
      "245\n",
      "246\n",
      "247\n",
      "248\n",
      "249\n"
     ]
    }
   ],
   "source": [
    "bad_responses_retry_good = {}\n",
    "bad_responses_retry_bad = {}\n",
    "for i, response in bad_responses.items():\n",
    "    print(i)\n",
    "    tickers = list_of_tickers[i]\n",
    "    for ticker in tickers:\n",
    "        new_response = look_up_company_by_tickers([ticker])\n",
    "        if new_response.status_code == 200:\n",
    "            bad_responses_retry_good[ticker] = new_response\n",
    "        else:\n",
    "            bad_responses_retry_bad[ticker] = new_response"
   ]
  },
  {
   "cell_type": "code",
   "execution_count": 45,
   "metadata": {
    "collapsed": false
   },
   "outputs": [
    {
     "data": {
      "text/plain": [
       "1391"
      ]
     },
     "execution_count": 45,
     "metadata": {},
     "output_type": "execute_result"
    }
   ],
   "source": [
    "len(bad_responses_retry_good)"
   ]
  },
  {
   "cell_type": "code",
   "execution_count": 50,
   "metadata": {
    "collapsed": false
   },
   "outputs": [
    {
     "data": {
      "text/plain": [
       "449"
      ]
     },
     "execution_count": 50,
     "metadata": {},
     "output_type": "execute_result"
    }
   ],
   "source": [
    "len(bad_responses_retry_bad)"
   ]
  },
  {
   "cell_type": "code",
   "execution_count": 51,
   "metadata": {
    "collapsed": false
   },
   "outputs": [
    {
     "data": {
      "text/html": [
       "<div>\n",
       "<table border=\"1\" class=\"dataframe\">\n",
       "  <thead>\n",
       "    <tr style=\"text-align: right;\">\n",
       "      <th></th>\n",
       "      <th>cik</th>\n",
       "      <th>companyname</th>\n",
       "      <th>entityid</th>\n",
       "      <th>primaryexchange</th>\n",
       "      <th>primarysymbol</th>\n",
       "      <th>siccode</th>\n",
       "      <th>sicdescription</th>\n",
       "    </tr>\n",
       "  </thead>\n",
       "  <tbody>\n",
       "    <tr>\n",
       "      <th>1008</th>\n",
       "      <td>0000060667</td>\n",
       "      <td>LOWES COMPANIES INC</td>\n",
       "      <td>5395</td>\n",
       "      <td>NYSE</td>\n",
       "      <td>LOW</td>\n",
       "      <td>5211</td>\n",
       "      <td>Lumber and Other Building Materials Dealers</td>\n",
       "    </tr>\n",
       "    <tr>\n",
       "      <th>1009</th>\n",
       "      <td>0001624899</td>\n",
       "      <td>STERIS PLC</td>\n",
       "      <td>950898</td>\n",
       "      <td>NYSE</td>\n",
       "      <td>STE</td>\n",
       "      <td>3842</td>\n",
       "      <td>Orthopedic, Prosthetic, and Surgical Appliance...</td>\n",
       "    </tr>\n",
       "    <tr>\n",
       "      <th>1010</th>\n",
       "      <td>0000101984</td>\n",
       "      <td>UNIVERSAL ELECTRONICS INC</td>\n",
       "      <td>10978</td>\n",
       "      <td>Nasdaq Global Market</td>\n",
       "      <td>UEIC</td>\n",
       "      <td>3651</td>\n",
       "      <td>Household Audio and Video Equipment</td>\n",
       "    </tr>\n",
       "    <tr>\n",
       "      <th>1011</th>\n",
       "      <td>0000911971</td>\n",
       "      <td>TEEKAY CORP</td>\n",
       "      <td>5342</td>\n",
       "      <td>NYSE</td>\n",
       "      <td>TK</td>\n",
       "      <td>4412</td>\n",
       "      <td>Deep Sea Foreign Transportation of Freight</td>\n",
       "    </tr>\n",
       "    <tr>\n",
       "      <th>1012</th>\n",
       "      <td>0000797721</td>\n",
       "      <td>VIASAT INC</td>\n",
       "      <td>8817</td>\n",
       "      <td>Nasdaq Global Market</td>\n",
       "      <td>VSAT</td>\n",
       "      <td>3663</td>\n",
       "      <td>Radio and Television Broadcasting and Communic...</td>\n",
       "    </tr>\n",
       "  </tbody>\n",
       "</table>\n",
       "</div>"
      ],
      "text/plain": [
       "             cik                companyname  entityid       primaryexchange  \\\n",
       "1008  0000060667        LOWES COMPANIES INC      5395                  NYSE   \n",
       "1009  0001624899                 STERIS PLC    950898                  NYSE   \n",
       "1010  0000101984  UNIVERSAL ELECTRONICS INC     10978  Nasdaq Global Market   \n",
       "1011  0000911971                TEEKAY CORP      5342                  NYSE   \n",
       "1012  0000797721                 VIASAT INC      8817  Nasdaq Global Market   \n",
       "\n",
       "     primarysymbol siccode                                     sicdescription  \n",
       "1008           LOW    5211        Lumber and Other Building Materials Dealers  \n",
       "1009           STE    3842  Orthopedic, Prosthetic, and Surgical Appliance...  \n",
       "1010          UEIC    3651                Household Audio and Video Equipment  \n",
       "1011            TK    4412         Deep Sea Foreign Transportation of Freight  \n",
       "1012          VSAT    3663  Radio and Television Broadcasting and Communic...  "
      ]
     },
     "execution_count": 51,
     "metadata": {},
     "output_type": "execute_result"
    }
   ],
   "source": [
    "cleaned_ciks_2 = pd.DataFrame()\n",
    "for i, response in bad_responses_retry_good.items():\n",
    "    if response.status_code == 200:\n",
    "        for row in response.json()['result']['rows']:\n",
    "            fields = {}\n",
    "            for field in row['values']:\n",
    "                fields[field['field']] = field['value']\n",
    "            cleaned_ciks_2 = pd.concat([cleaned_ciks_2, pd.DataFrame([fields])], ignore_index=True)\n",
    "cleaned_ciks_2.tail()  "
   ]
  },
  {
   "cell_type": "code",
   "execution_count": 53,
   "metadata": {
    "collapsed": false
   },
   "outputs": [],
   "source": [
    "cleaned_ciks_2.to_csv('clean_ciks_good_2.csv')"
   ]
  },
  {
   "cell_type": "code",
   "execution_count": 54,
   "metadata": {
    "collapsed": false
   },
   "outputs": [
    {
     "data": {
      "text/plain": [
       "1013"
      ]
     },
     "execution_count": 54,
     "metadata": {},
     "output_type": "execute_result"
    }
   ],
   "source": [
    "len(cleaned_ciks_2)"
   ]
  },
  {
   "cell_type": "code",
   "execution_count": 55,
   "metadata": {
    "collapsed": false
   },
   "outputs": [
    {
     "data": {
      "text/plain": [
       "559"
      ]
     },
     "execution_count": 55,
     "metadata": {},
     "output_type": "execute_result"
    }
   ],
   "source": [
    "len(cleaned_ciks)"
   ]
  },
  {
   "cell_type": "code",
   "execution_count": 59,
   "metadata": {
    "collapsed": false
   },
   "outputs": [
    {
     "data": {
      "text/plain": [
       "dict_keys(['669', '6286', '6857', '6752', '500209', '6473', '7701', '3045', 'BC8', '175', '1114', '2311', '2371', '838', '6702', '2727', 'G1A', '1999', '7731', '6302', 'A017670', '1169', '6762', 'A060980', '7752', '601607', '6724', '4543', '5347', '2317', '9914', '6728', '7240', 'S51', '6902', 'TOM2', '2238', '659', '532667', '566', '6925', '2018', 'S92', 'A005930', 'A097230', 'FI-N', '3360', '7751', '3008', '200581', 'A003600', '2384', '8036', '2323', 'A010120', 'A005490', '7741', 'O1BC', '6268', '2412', '981', '6971', 'ELI1V', '6134', '148', 'HUSQ B', '2448', '8130', 'ODPV3', '552', 'A042670', '1504', '7201', '1402', 'O2D', '7735', '2474', 'EKTA B', '6141', '631', '1882', 'GGBR4', '941', '500049', '2201', 'Z74', 'F83', '2498', 'A035420', 'MMCCORP', '700', 'ASETEK', '507685', 'PS4', '500570', '532540', '2308', '6481', 'U96', '4307', '8', '6839', 'MTELEKOM', '6845', 'WRT1V', '2324', 'A032640', '267', '2204', '5947', '8299', '6504', '7762', '6954', '1133', '317', '6770', 'A011070', '2347', '6448', 'V03', '5334', '4902', '8086', '532712', '6758', '6465', 'PAH3', '2325', 'A006400', '2330', '7267', '992', '7248', 'A042660', 'POMO4', 'A010620', '2395', '1507', '3702', '4904', 'NDX1', '5631', '3231', 'VOLV B', '500182', '6201', 'BIONORO', 'RICH-N-0000', '5483', '7832', '5991', 'A066570', 'A011210', '6457', '4704', '9432', '2451', '5214', 'A011810', '6301', '1590', '002202', '500295', '500483', '3673', '3658', '6239', '500477', 'A161390', '6806', 'A034220', '2784', '7012', 'A030200', '6952', 'GETI B', '7262', 'QUAL3', 'A009150', '9697', '2413', '4716', '1072', '1893', '7278', '508869', '7013', '900909', '7242', '2362', '6869', '8035', '7459', '7205', '534816', '7222', '868', 'A003550', '6305', 'GCARSO A1', '6326', '600050', '5803', '6965', '6586', '3481', 'BS6', '7211', 'ALFA A', '7733', '6923', 'MEDICA B', '6412', '6273', '3899', '532977', '531209', '3632', '2352', 'SKF B', '215', '303', '6841', '6116', 'HEXA B', 'CIEL3', 'TREL B', '3561', 'AMX L', '179', 'ADVANC', '1211', '4684', '7716', '6222', '6176', 'OIBR4', 'ZIL2', '3044', '7203', '7272', '532755', 'NOVO B', '500002', '2105', 'A000150', '6502', '6121', '900925', '3037', '532532', 'INTUCH', 'BN4', '658', '3800', '6976', '2038', '5802', '200550', '9984', '8046', '5101', '500550', '2393', '7270', '6861', '6146', '6674', '6981', '6479', 'AXIATA', '3808', 'INCKEN', '7269', '762', '7202', 'CC3', '500093', 'BJCORP', 'TEL2 B', '489', '7011', '3659', '1099', '9684', '1101', '200625', '9921', '2454', 'J36', '7312', '500520', '7261', '532454', '6963', 'KU2', '000039', 'VIVT4', '2101', '8591', '7974', '6723', 'A000660', 'ATCO A', '9987', '532822', '2313', '2357', 'F99', '3339', '3474', '6103', 'A000270', '2337', '1296', '5371', 'A021240', '3116', '6503', '9433', '6967', '6506', '3682', '3105', '9045', '4938', 'A009540', '3622', 'A034730', '6244', '3034', '522', '200541', '392', '5108', 'A181710', '2432', '9766', '3765', '200725', '1605', '4689', 'NOK1V', '7259', '2301', '2354', 'A047810', '2385', '526299', '5110', '13', '6823', 'NRE1V', '4739', '6588', 'VOW3', '5801', '6113', '2382', '6767', '2356', 'S63', '532500', '696', '601766', 'WEGE3', 'ERIC B', '532281', '728', '500103', '4901', '363', '2379', '6701', '4768', 'TOTS3', '2303', 'M5Z', 'J37', '6594', 'A005380', '2344', '6370', 'VAC1V', '6645', '5191', 'ORIENT', '6417', '4062', '2409', '6361', '7276', '6501', '6753', '900947', '2333', 'TIMP3', '6581', '9719', 'DASA3', 'A018880', '6592', '3436', 'A012330', '3532', '6472', 'A001040', 'A012450', 'B2F', 'ELUX B', '7951', '2338', '7309', '2392', '1066', 'DRW3', 'A035720', '6754', '9437', '7282', '7003', '6460', '3189', '6995', '5333', '590057', 'A010140', 'CLS1', '242', '1888', '3576', 'A036570', 'COLO B', '4544', '500480', '532466', 'MEO1V', '2049', '425', '500493', '6471', '517334', 'A006260', '8069', '2327', '500086', '9613', 'SUPREMEIND'])"
      ]
     },
     "execution_count": 59,
     "metadata": {},
     "output_type": "execute_result"
    }
   ],
   "source": [
    "bad_responses_retry_bad.keys()"
   ]
  },
  {
   "cell_type": "code",
   "execution_count": 66,
   "metadata": {
    "collapsed": false
   },
   "outputs": [
    {
     "data": {
      "text/html": [
       "<div>\n",
       "<table border=\"1\" class=\"dataframe\">\n",
       "  <thead>\n",
       "    <tr style=\"text-align: right;\">\n",
       "      <th></th>\n",
       "      <th>bad_id</th>\n",
       "      <th>code</th>\n",
       "      <th>response_json</th>\n",
       "    </tr>\n",
       "  </thead>\n",
       "  <tbody>\n",
       "    <tr>\n",
       "      <th>444</th>\n",
       "      <td>8069</td>\n",
       "      <td>400</td>\n",
       "      <td>{'Message': 'Parameter 'primarysymbols' has in...</td>\n",
       "    </tr>\n",
       "    <tr>\n",
       "      <th>445</th>\n",
       "      <td>2327</td>\n",
       "      <td>400</td>\n",
       "      <td>{'Message': 'Parameter 'primarysymbols' has in...</td>\n",
       "    </tr>\n",
       "    <tr>\n",
       "      <th>446</th>\n",
       "      <td>500086</td>\n",
       "      <td>400</td>\n",
       "      <td>{'Message': 'Parameter 'primarysymbols' has in...</td>\n",
       "    </tr>\n",
       "    <tr>\n",
       "      <th>447</th>\n",
       "      <td>9613</td>\n",
       "      <td>400</td>\n",
       "      <td>{'Message': 'Parameter 'primarysymbols' has in...</td>\n",
       "    </tr>\n",
       "    <tr>\n",
       "      <th>448</th>\n",
       "      <td>SUPREMEIND</td>\n",
       "      <td>400</td>\n",
       "      <td>{'Message': 'Parameter 'primarysymbols' has in...</td>\n",
       "    </tr>\n",
       "  </tbody>\n",
       "</table>\n",
       "</div>"
      ],
      "text/plain": [
       "         bad_id  code                                      response_json\n",
       "444        8069   400  {'Message': 'Parameter 'primarysymbols' has in...\n",
       "445        2327   400  {'Message': 'Parameter 'primarysymbols' has in...\n",
       "446      500086   400  {'Message': 'Parameter 'primarysymbols' has in...\n",
       "447        9613   400  {'Message': 'Parameter 'primarysymbols' has in...\n",
       "448  SUPREMEIND   400  {'Message': 'Parameter 'primarysymbols' has in..."
      ]
     },
     "execution_count": 66,
     "metadata": {},
     "output_type": "execute_result"
    }
   ],
   "source": [
    "bad_responses = pd.DataFrame()\n",
    "for k, response in bad_responses_retry_bad.items():\n",
    "    fields = dict(\n",
    "        bad_id = k,\n",
    "        code = response.status_code,\n",
    "        response_json = response.json(),\n",
    "    )\n",
    "    bad_responses = pd.concat([bad_responses, pd.DataFrame([fields])], ignore_index=True)\n",
    "bad_responses.tail()"
   ]
  },
  {
   "cell_type": "code",
   "execution_count": 68,
   "metadata": {
    "collapsed": false
   },
   "outputs": [],
   "source": [
    "bad_responses.to_csv('bad_responses.csv')"
   ]
  },
  {
   "cell_type": "code",
   "execution_count": null,
   "metadata": {
    "collapsed": true
   },
   "outputs": [],
   "source": []
  }
 ],
 "metadata": {
  "kernelspec": {
   "display_name": "Python 3",
   "language": "python",
   "name": "python3"
  },
  "language_info": {
   "codemirror_mode": {
    "name": "ipython",
    "version": 3
   },
   "file_extension": ".py",
   "mimetype": "text/x-python",
   "name": "python",
   "nbconvert_exporter": "python",
   "pygments_lexer": "ipython3",
   "version": "3.4.4"
  }
 },
 "nbformat": 4,
 "nbformat_minor": 0
}
