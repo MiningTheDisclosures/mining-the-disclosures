{
 "cells": [
  {
   "cell_type": "code",
   "execution_count": 1,
   "metadata": {
    "collapsed": true
   },
   "outputs": [],
   "source": [
    "import pandas as pd\n",
    "import string\n",
    "import requests\n",
    "import os\n"
   ]
  },
  {
   "cell_type": "code",
   "execution_count": 2,
   "metadata": {
    "collapsed": false
   },
   "outputs": [
    {
     "data": {
      "text/html": [
       "<div>\n",
       "<table border=\"1\" class=\"dataframe\">\n",
       "  <thead>\n",
       "    <tr style=\"text-align: right;\">\n",
       "      <th></th>\n",
       "      <th>Company Name</th>\n",
       "      <th>Ticker Symbol</th>\n",
       "      <th>name</th>\n",
       "      <th>name_clean</th>\n",
       "      <th>exchange</th>\n",
       "      <th>ticker</th>\n",
       "    </tr>\n",
       "  </thead>\n",
       "  <tbody>\n",
       "    <tr>\n",
       "      <th>0</th>\n",
       "      <td>3D SYSTEMS CORP</td>\n",
       "      <td>NYSE:DDD</td>\n",
       "      <td>3D SYSTEMS CORP</td>\n",
       "      <td>3D SYSTEMS CORP</td>\n",
       "      <td>NYSE</td>\n",
       "      <td>DDD</td>\n",
       "    </tr>\n",
       "    <tr>\n",
       "      <th>1</th>\n",
       "      <td>3M Co.</td>\n",
       "      <td>NYSE:MMM</td>\n",
       "      <td>3M CO.</td>\n",
       "      <td>3M CO</td>\n",
       "      <td>NYSE</td>\n",
       "      <td>MMM</td>\n",
       "    </tr>\n",
       "    <tr>\n",
       "      <th>2</th>\n",
       "      <td>A10 Networks, Inc.</td>\n",
       "      <td>NYSE:ATEN</td>\n",
       "      <td>A10 NETWORKS, INC.</td>\n",
       "      <td>A10 NETWORKS INC</td>\n",
       "      <td>NYSE</td>\n",
       "      <td>ATEN</td>\n",
       "    </tr>\n",
       "    <tr>\n",
       "      <th>3</th>\n",
       "      <td>AAON INC</td>\n",
       "      <td>NasdaqGS:AAON</td>\n",
       "      <td>AAON INC</td>\n",
       "      <td>AAON INC</td>\n",
       "      <td>NasdaqGS</td>\n",
       "      <td>AAON</td>\n",
       "    </tr>\n",
       "    <tr>\n",
       "      <th>4</th>\n",
       "      <td>AAR CORP</td>\n",
       "      <td>NYSE:AIR</td>\n",
       "      <td>AAR CORP</td>\n",
       "      <td>AAR CORP</td>\n",
       "      <td>NYSE</td>\n",
       "      <td>AIR</td>\n",
       "    </tr>\n",
       "  </tbody>\n",
       "</table>\n",
       "</div>"
      ],
      "text/plain": [
       "         Company Name  Ticker Symbol                name        name_clean  \\\n",
       "0     3D SYSTEMS CORP       NYSE:DDD     3D SYSTEMS CORP   3D SYSTEMS CORP   \n",
       "1              3M Co.       NYSE:MMM              3M CO.             3M CO   \n",
       "2  A10 Networks, Inc.      NYSE:ATEN  A10 NETWORKS, INC.  A10 NETWORKS INC   \n",
       "3            AAON INC  NasdaqGS:AAON            AAON INC          AAON INC   \n",
       "4            AAR CORP       NYSE:AIR            AAR CORP          AAR CORP   \n",
       "\n",
       "   exchange ticker  \n",
       "0      NYSE    DDD  \n",
       "1      NYSE    MMM  \n",
       "2      NYSE   ATEN  \n",
       "3  NasdaqGS   AAON  \n",
       "4      NYSE    AIR  "
      ]
     },
     "execution_count": 2,
     "metadata": {},
     "output_type": "execute_result"
    }
   ],
   "source": [
    "file_name = '/Users/caged/Desktop/Mining the disclosures/RSN-MiningDisclosures15-Universe_2-4.csv'\n",
    "exclude = set(string.punctuation)\n",
    "def clean_names(sub):\n",
    "    sub['name'] = sub['Company Name'].str.upper()\n",
    "    sub['name_clean'] = sub.name.apply(lambda s: ''.join(ch for ch in s if ch not in exclude))\n",
    "    sub['exchange'] = sub['Ticker Symbol'].str.split(':').str[0]\n",
    "    sub['ticker'] = sub['Ticker Symbol'].str.split(':').str[1]\n",
    "    return sub\n",
    "tickers = pd.read_csv(file_name, usecols=['Company Name', 'Ticker Symbol'], dtype='str')\n",
    "tickers = clean_names(tickers)\n",
    "tickers = tickers.dropna()\n",
    "tickers.head()"
   ]
  },
  {
   "cell_type": "code",
   "execution_count": 3,
   "metadata": {
    "collapsed": false
   },
   "outputs": [
    {
     "data": {
      "text/plain": [
       "Company Name     2581\n",
       "Ticker Symbol    2581\n",
       "name             2581\n",
       "name_clean       2581\n",
       "exchange         2581\n",
       "ticker           2581\n",
       "dtype: int64"
      ]
     },
     "execution_count": 3,
     "metadata": {},
     "output_type": "execute_result"
    }
   ],
   "source": [
    "tickers.count()"
   ]
  },
  {
   "cell_type": "code",
   "execution_count": 4,
   "metadata": {
    "collapsed": false
   },
   "outputs": [
    {
     "data": {
      "text/plain": [
       "2519"
      ]
     },
     "execution_count": 4,
     "metadata": {},
     "output_type": "execute_result"
    }
   ],
   "source": [
    "unique_tickers = tickers.ticker.unique()\n",
    "len(unique_tickers)"
   ]
  },
  {
   "cell_type": "code",
   "execution_count": 5,
   "metadata": {
    "collapsed": false,
    "scrolled": false
   },
   "outputs": [],
   "source": [
    "def look_up_company_by_ticker(list_of_tickers):\n",
    "    url = \"http://edgaronline.api.mashery.com/v2/companies\"\n",
    "    params = {\n",
    "        'appkey': os.environ.get('EDGAR_KEY'),\n",
    "        'primarysymbols': ','.join(list_of_tickers),\n",
    "    }\n",
    "    response = requests.get(url=url, params=params)\n",
    "    return response"
   ]
  },
  {
   "cell_type": "code",
   "execution_count": 9,
   "metadata": {
    "collapsed": false
   },
   "outputs": [
    {
     "data": {
      "text/plain": [
       "250"
      ]
     },
     "execution_count": 9,
     "metadata": {},
     "output_type": "execute_result"
    }
   ],
   "source": [
    "# sample_1 = unique_tickers[0:50]\n",
    "# sample_2 = unique_tickers[50:100]\n",
    "list_of_samples = []\n",
    "for x in range(250):\n",
    "    sample = unique_tickers[x*10: (x+1)*10]\n",
    "    list_of_samples.append(sample)\n",
    "len(list_of_samples)"
   ]
  },
  {
   "cell_type": "code",
   "execution_count": 27,
   "metadata": {
    "collapsed": false
   },
   "outputs": [
    {
     "name": "stdout",
     "output_type": "stream",
     "text": [
      "0\n",
      "1\n",
      "2\n",
      "3\n",
      "4\n",
      "5\n",
      "6\n",
      "7\n",
      "8\n",
      "9\n",
      "10\n",
      "11\n",
      "12\n",
      "13\n",
      "14\n",
      "15\n",
      "16\n",
      "17\n",
      "18\n",
      "19\n",
      "20\n",
      "21\n",
      "22\n",
      "23\n",
      "24\n",
      "25\n",
      "26\n",
      "27\n",
      "28\n",
      "29\n",
      "30\n",
      "31\n",
      "32\n",
      "33\n",
      "34\n",
      "35\n",
      "36\n",
      "37\n",
      "38\n",
      "39\n",
      "40\n",
      "41\n",
      "42\n",
      "43\n",
      "44\n",
      "45\n",
      "46\n",
      "47\n",
      "48\n",
      "49\n",
      "50\n",
      "51\n",
      "52\n",
      "53\n",
      "54\n",
      "55\n",
      "56\n",
      "57\n",
      "58\n",
      "59\n",
      "60\n",
      "61\n",
      "62\n",
      "63\n",
      "64\n",
      "65\n",
      "66\n",
      "67\n",
      "68\n",
      "69\n",
      "70\n",
      "71\n",
      "72\n",
      "73\n",
      "74\n",
      "75\n",
      "76\n",
      "77\n",
      "78\n",
      "79\n",
      "80\n",
      "81\n",
      "82\n",
      "83\n",
      "84\n",
      "85\n",
      "86\n",
      "87\n",
      "88\n",
      "89\n",
      "90\n",
      "91\n",
      "92\n",
      "93\n",
      "94\n",
      "95\n",
      "96\n",
      "97\n",
      "98\n",
      "99\n",
      "100\n",
      "101\n",
      "102\n",
      "103\n",
      "104\n",
      "105\n",
      "106\n",
      "107\n",
      "108\n",
      "109\n",
      "110\n",
      "111\n",
      "112\n",
      "113\n",
      "114\n",
      "115\n",
      "116\n",
      "117\n",
      "118\n",
      "119\n",
      "120\n",
      "121\n",
      "122\n",
      "123\n",
      "124\n",
      "125\n",
      "126\n",
      "127\n",
      "128\n",
      "129\n",
      "130\n",
      "131\n",
      "132\n",
      "133\n",
      "134\n",
      "135\n",
      "136\n",
      "137\n",
      "138\n",
      "139\n",
      "140\n",
      "141\n",
      "142\n",
      "143\n",
      "144\n",
      "145\n",
      "146\n",
      "147\n",
      "148\n",
      "149\n",
      "150\n",
      "151\n",
      "152\n",
      "153\n",
      "154\n",
      "155\n",
      "156\n",
      "157\n",
      "158\n",
      "159\n",
      "160\n",
      "161\n",
      "162\n",
      "163\n",
      "164\n",
      "165\n",
      "166\n",
      "167\n",
      "168\n",
      "169\n",
      "170\n",
      "171\n",
      "172\n",
      "173\n",
      "174\n",
      "175\n",
      "176\n",
      "177\n",
      "178\n",
      "179\n",
      "180\n",
      "181\n",
      "182\n",
      "183\n",
      "184\n",
      "185\n",
      "186\n",
      "187\n",
      "188\n",
      "189\n",
      "190\n",
      "191\n",
      "192\n",
      "193\n",
      "194\n",
      "195\n",
      "196\n",
      "197\n",
      "198\n",
      "199\n",
      "200\n",
      "201\n",
      "202\n",
      "203\n",
      "204\n",
      "205\n",
      "206\n",
      "207\n",
      "208\n",
      "209\n",
      "210\n",
      "211\n",
      "212\n",
      "213\n",
      "214\n",
      "215\n",
      "216\n",
      "217\n",
      "218\n",
      "219\n",
      "220\n",
      "221\n",
      "222\n",
      "223\n",
      "224\n",
      "225\n",
      "226\n",
      "227\n",
      "228\n",
      "229\n",
      "230\n",
      "231\n",
      "232\n",
      "233\n",
      "234\n",
      "235\n",
      "236\n",
      "237\n",
      "238\n",
      "239\n",
      "240\n",
      "241\n",
      "242\n",
      "243\n",
      "244\n",
      "245\n",
      "246\n",
      "247\n",
      "248\n",
      "249\n"
     ]
    }
   ],
   "source": [
    "good_responses = []\n",
    "bad_responses = []\n",
    "for i, sample in enumerate(list_of_samples):\n",
    "    print(i)\n",
    "    response = look_up_company_by_ticker(sample)\n",
    "    if response.status_code == 200:\n",
    "        good_responses.append(response)\n",
    "    else:\n",
    "        bad_responses.append(response)"
   ]
  },
  {
   "cell_type": "code",
   "execution_count": 28,
   "metadata": {
    "collapsed": false
   },
   "outputs": [
    {
     "data": {
      "text/plain": [
       "66"
      ]
     },
     "execution_count": 28,
     "metadata": {},
     "output_type": "execute_result"
    }
   ],
   "source": [
    "len(good_responses)"
   ]
  },
  {
   "cell_type": "code",
   "execution_count": 29,
   "metadata": {
    "collapsed": false
   },
   "outputs": [
    {
     "data": {
      "text/plain": [
       "184"
      ]
     },
     "execution_count": 29,
     "metadata": {},
     "output_type": "execute_result"
    }
   ],
   "source": [
    "len(bad_responses)"
   ]
  },
  {
   "cell_type": "code",
   "execution_count": 31,
   "metadata": {
    "collapsed": false
   },
   "outputs": [
    {
     "data": {
      "text/plain": [
       "400"
      ]
     },
     "execution_count": 31,
     "metadata": {},
     "output_type": "execute_result"
    }
   ],
   "source": [
    "bad_responses[0].status_code"
   ]
  },
  {
   "cell_type": "code",
   "execution_count": 38,
   "metadata": {
    "collapsed": false
   },
   "outputs": [
    {
     "data": {
      "text/html": [
       "<div>\n",
       "<table border=\"1\" class=\"dataframe\">\n",
       "  <thead>\n",
       "    <tr style=\"text-align: right;\">\n",
       "      <th></th>\n",
       "      <th>cik</th>\n",
       "      <th>companyname</th>\n",
       "      <th>entityid</th>\n",
       "      <th>primaryexchange</th>\n",
       "      <th>primarysymbol</th>\n",
       "      <th>siccode</th>\n",
       "      <th>sicdescription</th>\n",
       "    </tr>\n",
       "  </thead>\n",
       "  <tbody>\n",
       "    <tr>\n",
       "      <th>554</th>\n",
       "      <td>0001555365</td>\n",
       "      <td>WHITEWAVE FOODS CO</td>\n",
       "      <td>887169</td>\n",
       "      <td>NYSE</td>\n",
       "      <td>WWAV</td>\n",
       "      <td>2020</td>\n",
       "      <td>Dairy Products</td>\n",
       "    </tr>\n",
       "    <tr>\n",
       "      <th>555</th>\n",
       "      <td>0000108312</td>\n",
       "      <td>WOODWARD, INC.</td>\n",
       "      <td>11583</td>\n",
       "      <td>Nasdaq Global Market</td>\n",
       "      <td>WWD</td>\n",
       "      <td>3620</td>\n",
       "      <td>Electrical Industrial Apparatus</td>\n",
       "    </tr>\n",
       "    <tr>\n",
       "      <th>556</th>\n",
       "      <td>0001091907</td>\n",
       "      <td>WORLD WRESTLING ENTERTAINMENTINC</td>\n",
       "      <td>7520</td>\n",
       "      <td>NYSE</td>\n",
       "      <td>WWE</td>\n",
       "      <td>7812</td>\n",
       "      <td>Motion Picture and Video Tape Production</td>\n",
       "    </tr>\n",
       "    <tr>\n",
       "      <th>557</th>\n",
       "      <td>0000110471</td>\n",
       "      <td>WOLVERINE WORLD WIDE INC /DE/</td>\n",
       "      <td>335</td>\n",
       "      <td>NYSE</td>\n",
       "      <td>WWW</td>\n",
       "      <td>3140</td>\n",
       "      <td>Footwear, Except Rubber</td>\n",
       "    </tr>\n",
       "    <tr>\n",
       "      <th>558</th>\n",
       "      <td>0000106535</td>\n",
       "      <td>WEYERHAEUSER CO</td>\n",
       "      <td>4423</td>\n",
       "      <td>NYSE</td>\n",
       "      <td>WY</td>\n",
       "      <td>6798</td>\n",
       "      <td>Real Estate Investment Trusts</td>\n",
       "    </tr>\n",
       "  </tbody>\n",
       "</table>\n",
       "</div>"
      ],
      "text/plain": [
       "            cik                       companyname  entityid  \\\n",
       "554  0001555365                WHITEWAVE FOODS CO    887169   \n",
       "555  0000108312                    WOODWARD, INC.     11583   \n",
       "556  0001091907  WORLD WRESTLING ENTERTAINMENTINC      7520   \n",
       "557  0000110471     WOLVERINE WORLD WIDE INC /DE/       335   \n",
       "558  0000106535                   WEYERHAEUSER CO      4423   \n",
       "\n",
       "          primaryexchange primarysymbol siccode  \\\n",
       "554                  NYSE          WWAV    2020   \n",
       "555  Nasdaq Global Market           WWD    3620   \n",
       "556                  NYSE           WWE    7812   \n",
       "557                  NYSE           WWW    3140   \n",
       "558                  NYSE            WY    6798   \n",
       "\n",
       "                               sicdescription  \n",
       "554                            Dairy Products  \n",
       "555           Electrical Industrial Apparatus  \n",
       "556  Motion Picture and Video Tape Production  \n",
       "557                   Footwear, Except Rubber  \n",
       "558             Real Estate Investment Trusts  "
      ]
     },
     "execution_count": 38,
     "metadata": {},
     "output_type": "execute_result"
    }
   ],
   "source": [
    "cleaned_ciks = pd.DataFrame()\n",
    "for response in good_responses:\n",
    "    if response.status_code == 200:\n",
    "        for row in response.json()['result']['rows']:\n",
    "            fields = {}\n",
    "            for field in row['values']:\n",
    "                fields[field['field']] = field['value']\n",
    "            cleaned_ciks = pd.concat([cleaned_ciks, pd.DataFrame([fields])], ignore_index=True)\n",
    "cleaned_ciks.tail()  "
   ]
  },
  {
   "cell_type": "code",
   "execution_count": 39,
   "metadata": {
    "collapsed": false
   },
   "outputs": [],
   "source": [
    "cleaned_ciks.to_csv('clean_ciks_partial.csv')"
   ]
  },
  {
   "cell_type": "code",
   "execution_count": null,
   "metadata": {
    "collapsed": true
   },
   "outputs": [],
   "source": []
  }
 ],
 "metadata": {
  "kernelspec": {
   "display_name": "Python 3",
   "language": "python",
   "name": "python3"
  },
  "language_info": {
   "codemirror_mode": {
    "name": "ipython",
    "version": 3
   },
   "file_extension": ".py",
   "mimetype": "text/x-python",
   "name": "python",
   "nbconvert_exporter": "python",
   "pygments_lexer": "ipython3",
   "version": "3.4.4"
  }
 },
 "nbformat": 4,
 "nbformat_minor": 0
}
