{
 "cells": [
  {
   "cell_type": "code",
   "execution_count": 71,
   "metadata": {},
   "outputs": [],
   "source": [
    "import os\n",
    "import json\n",
    "import pandas as pd\n",
    "\n",
    "PATH = 'data/edgar_results/'"
   ]
  },
  {
   "cell_type": "code",
   "execution_count": 81,
   "metadata": {},
   "outputs": [],
   "source": [
    "dfs = []\n",
    "for file in os.listdir(PATH):\n",
    "    if not file.endswith('.json'):\n",
    "        continue\n",
    "    data = json.loads(open(PATH + file).read())\n",
    "    if len(data['entries']) > 0:\n",
    "        non_zero_entries.append(data)\n",
    "        df = pd.DataFrame.from_dict(data['entries'])[['link', 'filing-date', 'size']]\n",
    "        df['filing_date'] = pd.to_datetime(df['filing-date'])\n",
    "        df['year'] = df.filing_date.dt.year\n",
    "        df['cik'] = data['feed']['cik']\n",
    "        df['conformed_name'] = data['feed']['conformed-name']\n",
    "        df = df.drop(['filing-date'], axis=1)\n",
    "        dfs.append(df)\n",
    "df = pd.concat(dfs).reset_index(drop=True)"
   ]
  },
  {
   "cell_type": "code",
   "execution_count": 82,
   "metadata": {},
   "outputs": [
    {
     "data": {
      "text/html": [
       "<div>\n",
       "<style scoped>\n",
       "    .dataframe tbody tr th:only-of-type {\n",
       "        vertical-align: middle;\n",
       "    }\n",
       "\n",
       "    .dataframe tbody tr th {\n",
       "        vertical-align: top;\n",
       "    }\n",
       "\n",
       "    .dataframe thead th {\n",
       "        text-align: right;\n",
       "    }\n",
       "</style>\n",
       "<table border=\"1\" class=\"dataframe\">\n",
       "  <thead>\n",
       "    <tr style=\"text-align: right;\">\n",
       "      <th></th>\n",
       "      <th>link</th>\n",
       "      <th>size</th>\n",
       "      <th>filing_date</th>\n",
       "      <th>year</th>\n",
       "      <th>cik</th>\n",
       "      <th>conformed_name</th>\n",
       "    </tr>\n",
       "  </thead>\n",
       "  <tbody>\n",
       "    <tr>\n",
       "      <td>6725</td>\n",
       "      <td>https://www.sec.gov/Archives/edgar/data/135544...</td>\n",
       "      <td>59 KB</td>\n",
       "      <td>2018-05-29</td>\n",
       "      <td>2018</td>\n",
       "      <td>0001355444</td>\n",
       "      <td>EMBRAER S.A.</td>\n",
       "    </tr>\n",
       "    <tr>\n",
       "      <td>6726</td>\n",
       "      <td>https://www.sec.gov/Archives/edgar/data/135544...</td>\n",
       "      <td>85 KB</td>\n",
       "      <td>2017-05-16</td>\n",
       "      <td>2017</td>\n",
       "      <td>0001355444</td>\n",
       "      <td>EMBRAER S.A.</td>\n",
       "    </tr>\n",
       "    <tr>\n",
       "      <td>6727</td>\n",
       "      <td>https://www.sec.gov/Archives/edgar/data/135544...</td>\n",
       "      <td>658 KB</td>\n",
       "      <td>2016-05-24</td>\n",
       "      <td>2016</td>\n",
       "      <td>0001355444</td>\n",
       "      <td>EMBRAER S.A.</td>\n",
       "    </tr>\n",
       "    <tr>\n",
       "      <td>6728</td>\n",
       "      <td>https://www.sec.gov/Archives/edgar/data/135544...</td>\n",
       "      <td>64 KB</td>\n",
       "      <td>2015-05-29</td>\n",
       "      <td>2015</td>\n",
       "      <td>0001355444</td>\n",
       "      <td>EMBRAER S.A.</td>\n",
       "    </tr>\n",
       "    <tr>\n",
       "      <td>6729</td>\n",
       "      <td>https://www.sec.gov/Archives/edgar/data/135544...</td>\n",
       "      <td>60 KB</td>\n",
       "      <td>2014-05-30</td>\n",
       "      <td>2014</td>\n",
       "      <td>0001355444</td>\n",
       "      <td>EMBRAER S.A.</td>\n",
       "    </tr>\n",
       "  </tbody>\n",
       "</table>\n",
       "</div>"
      ],
      "text/plain": [
       "                                                   link    size filing_date  \\\n",
       "6725  https://www.sec.gov/Archives/edgar/data/135544...   59 KB  2018-05-29   \n",
       "6726  https://www.sec.gov/Archives/edgar/data/135544...   85 KB  2017-05-16   \n",
       "6727  https://www.sec.gov/Archives/edgar/data/135544...  658 KB  2016-05-24   \n",
       "6728  https://www.sec.gov/Archives/edgar/data/135544...   64 KB  2015-05-29   \n",
       "6729  https://www.sec.gov/Archives/edgar/data/135544...   60 KB  2014-05-30   \n",
       "\n",
       "      year         cik conformed_name  \n",
       "6725  2018  0001355444   EMBRAER S.A.  \n",
       "6726  2017  0001355444   EMBRAER S.A.  \n",
       "6727  2016  0001355444   EMBRAER S.A.  \n",
       "6728  2015  0001355444   EMBRAER S.A.  \n",
       "6729  2014  0001355444   EMBRAER S.A.  "
      ]
     },
     "execution_count": 82,
     "metadata": {},
     "output_type": "execute_result"
    }
   ],
   "source": [
    "df.tail()"
   ]
  },
  {
   "cell_type": "code",
   "execution_count": 83,
   "metadata": {},
   "outputs": [
    {
     "data": {
      "text/plain": [
       "array([2019, 2018, 2017, 2016, 2015, 2014])"
      ]
     },
     "execution_count": 83,
     "metadata": {},
     "output_type": "execute_result"
    }
   ],
   "source": [
    "df.year.unique()"
   ]
  },
  {
   "cell_type": "code",
   "execution_count": 84,
   "metadata": {},
   "outputs": [],
   "source": [
    "for year in df.year.unique():\n",
    "    df[df.year == year].to_csv(f'summary_data/sd-filing-info-{year}.csv')"
   ]
  },
  {
   "cell_type": "code",
   "execution_count": null,
   "metadata": {},
   "outputs": [],
   "source": []
  }
 ],
 "metadata": {
  "kernelspec": {
   "display_name": "Python 3",
   "language": "python",
   "name": "python3"
  },
  "language_info": {
   "codemirror_mode": {
    "name": "ipython",
    "version": 3
   },
   "file_extension": ".py",
   "mimetype": "text/x-python",
   "name": "python",
   "nbconvert_exporter": "python",
   "pygments_lexer": "ipython3",
   "version": "3.7.3"
  }
 },
 "nbformat": 4,
 "nbformat_minor": 4
}
