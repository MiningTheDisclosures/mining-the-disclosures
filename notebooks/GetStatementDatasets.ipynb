{
 "cells": [
  {
   "cell_type": "markdown",
   "metadata": {},
   "source": [
    "Financial Statement Datasets from https://catalog.data.gov/dataset/financial-statement-data-sets"
   ]
  },
  {
   "cell_type": "code",
   "execution_count": 2,
   "metadata": {},
   "outputs": [],
   "source": [
    "import io\n",
    "import itertools\n",
    "import os\n",
    "import requests\n",
    "import zipfile\n",
    "\n",
    "from tqdm import tqdm"
   ]
  },
  {
   "cell_type": "code",
   "execution_count": 3,
   "metadata": {},
   "outputs": [],
   "source": [
    "years = ['2017', '2018', '2019']\n",
    "quarters = ['q1', 'q2', 'q3', 'q4']\n",
    "missing = ['2019q2', '2019q3', '2019q4']\n",
    "\n",
    "submission_dataset_base_url = 'https://www.sec.gov/files/dera/data/financial-statement-data-sets'"
   ]
  },
  {
   "cell_type": "code",
   "execution_count": 6,
   "metadata": {},
   "outputs": [
    {
     "name": "stderr",
     "output_type": "stream",
     "text": [
      "  0%|          | 0/3 [00:00<?, ?it/s]\n",
      "  0%|          | 0/4 [00:00<?, ?it/s]\u001b[A\n",
      " 25%|██▌       | 1/4 [00:12<00:36, 12.05s/it]\u001b[A\n",
      " 50%|█████     | 2/4 [00:20<00:22, 11.05s/it]\u001b[A\n",
      " 75%|███████▌  | 3/4 [00:28<00:10, 10.13s/it]\u001b[A\n",
      "100%|██████████| 4/4 [00:36<00:00,  9.10s/it]\u001b[A\n",
      " 33%|███▎      | 1/3 [00:36<01:12, 36.42s/it]\n",
      "  0%|          | 0/4 [00:00<?, ?it/s]\u001b[A\n",
      " 25%|██▌       | 1/4 [00:09<00:29,  9.82s/it]\u001b[A\n",
      " 50%|█████     | 2/4 [00:16<00:17,  8.95s/it]\u001b[A\n",
      " 75%|███████▌  | 3/4 [00:24<00:08,  8.55s/it]\u001b[A\n",
      "100%|██████████| 4/4 [00:33<00:00,  8.45s/it]\u001b[A\n",
      " 67%|██████▋   | 2/3 [01:10<00:35, 35.63s/it]\n",
      "  0%|          | 0/4 [00:00<?, ?it/s]\u001b[A\n",
      "100%|██████████| 4/4 [00:16<00:00,  4.00s/it]\u001b[A\n",
      "100%|██████████| 3/3 [01:26<00:00, 28.74s/it]\n"
     ]
    }
   ],
   "source": [
    "for year in tqdm(years):\n",
    "    for quarter in tqdm(quarters):\n",
    "        path = f'data/statements/{year}{quarter}'\n",
    "        if path in missing:\n",
    "            continue\n",
    "        if os.path.exists(path):\n",
    "            continue\n",
    "        url = f'{submission_dataset_base_url}/{year}{quarter}.zip'\n",
    "        r = requests.get(url, stream=True)\n",
    "        z = zipfile.ZipFile(io.BytesIO(r.content))\n",
    "        z.extractall(path=path)"
   ]
  },
  {
   "cell_type": "code",
   "execution_count": null,
   "metadata": {},
   "outputs": [],
   "source": []
  }
 ],
 "metadata": {
  "kernelspec": {
   "display_name": "Python 3",
   "language": "python",
   "name": "python3"
  },
  "language_info": {
   "codemirror_mode": {
    "name": "ipython",
    "version": 3
   },
   "file_extension": ".py",
   "mimetype": "text/x-python",
   "name": "python",
   "nbconvert_exporter": "python",
   "pygments_lexer": "ipython3",
   "version": "3.7.3"
  }
 },
 "nbformat": 4,
 "nbformat_minor": 4
}
