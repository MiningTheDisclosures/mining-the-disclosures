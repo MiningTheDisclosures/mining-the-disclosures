{
 "cells": [
  {
   "cell_type": "markdown",
   "metadata": {},
   "source": [
    "GET 2018 SD Filings for all CIKs we have"
   ]
  },
  {
   "cell_type": "code",
   "execution_count": 1,
   "metadata": {},
   "outputs": [],
   "source": [
    "import feedparser\n",
    "import requests\n",
    "import os\n",
    "import pandas as pd\n",
    "import json\n",
    "\n",
    "from random import randint\n",
    "from time import sleep\n",
    "from tqdm import tqdm"
   ]
  },
  {
   "cell_type": "code",
   "execution_count": 2,
   "metadata": {},
   "outputs": [
    {
     "data": {
      "text/html": [
       "<div>\n",
       "<style scoped>\n",
       "    .dataframe tbody tr th:only-of-type {\n",
       "        vertical-align: middle;\n",
       "    }\n",
       "\n",
       "    .dataframe tbody tr th {\n",
       "        vertical-align: top;\n",
       "    }\n",
       "\n",
       "    .dataframe thead th {\n",
       "        text-align: right;\n",
       "    }\n",
       "</style>\n",
       "<table border=\"1\" class=\"dataframe\">\n",
       "  <thead>\n",
       "    <tr style=\"text-align: right;\">\n",
       "      <th></th>\n",
       "      <th>cik</th>\n",
       "    </tr>\n",
       "  </thead>\n",
       "  <tbody>\n",
       "    <tr>\n",
       "      <td>7898</td>\n",
       "      <td>1485922</td>\n",
       "    </tr>\n",
       "    <tr>\n",
       "      <td>7899</td>\n",
       "      <td>1690511</td>\n",
       "    </tr>\n",
       "  </tbody>\n",
       "</table>\n",
       "</div>"
      ],
      "text/plain": [
       "          cik\n",
       "7898  1485922\n",
       "7899  1690511"
      ]
     },
     "execution_count": 2,
     "metadata": {},
     "output_type": "execute_result"
    }
   ],
   "source": [
    "cik_list = pd.read_csv('cik_list.csv')\n",
    "cik_list.tail(2)"
   ]
  },
  {
   "cell_type": "code",
   "execution_count": 3,
   "metadata": {},
   "outputs": [],
   "source": [
    "def wait_random_time():\n",
    "    # Average of 0.5s wait\n",
    "    sleep(randint(0, 100)/100)\n",
    "\n",
    "def get_edgar_feed_url(cik):\n",
    "    base_url = \"https://www.sec.gov/cgi-bin/browse-edgar\"\n",
    "    params = {\n",
    "        'action': 'getcompany',\n",
    "        'CIK': cik,\n",
    "        'type': 'SD',\n",
    "        'owner': 'exclude',\n",
    "        'start': 0,\n",
    "        'count': 40,\n",
    "        'output': 'atom',\n",
    "        'datea': f'20140101',\n",
    "    }\n",
    "    req = requests.Request('GET', base_url, params=params)\n",
    "    prepped = req.prepare()\n",
    "    feed_url = prepped.url\n",
    "    return feed_url\n",
    "\n",
    "def get_feed(cik):\n",
    "    url = get_edgar_feed_url(cik)\n",
    "    feed = feedparser.parse(url)\n",
    "    return feed"
   ]
  },
  {
   "cell_type": "code",
   "execution_count": 4,
   "metadata": {},
   "outputs": [
    {
     "name": "stderr",
     "output_type": "stream",
     "text": [
      "100%|██████████| 7900/7900 [2:03:21<00:00,  1.07it/s]   \n"
     ]
    }
   ],
   "source": [
    "for cik in tqdm(cik_list.cik.values):\n",
    "    out_file = f'data/edgar_results/{cik}.json'\n",
    "    if os.path.exists(out_file):\n",
    "        continue\n",
    "    wait_random_time()\n",
    "    feed = get_feed(cik)\n",
    "    json.dump(feed, open(out_file, 'w'))"
   ]
  },
  {
   "cell_type": "code",
   "execution_count": null,
   "metadata": {},
   "outputs": [],
   "source": []
  }
 ],
 "metadata": {
  "kernelspec": {
   "display_name": "Python 3",
   "language": "python",
   "name": "python3"
  },
  "language_info": {
   "codemirror_mode": {
    "name": "ipython",
    "version": 3
   },
   "file_extension": ".py",
   "mimetype": "text/x-python",
   "name": "python",
   "nbconvert_exporter": "python",
   "pygments_lexer": "ipython3",
   "version": "3.7.3"
  }
 },
 "nbformat": 4,
 "nbformat_minor": 4
}
