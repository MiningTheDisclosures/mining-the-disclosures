{
 "cells": [
  {
   "cell_type": "markdown",
   "metadata": {},
   "source": [
    "GET SD Filings for all CIKs we have"
   ]
  },
  {
   "cell_type": "code",
   "execution_count": 1,
   "metadata": {},
   "outputs": [],
   "source": [
    "import feedparser\n",
    "import requests\n",
    "import os\n",
    "import pandas as pd\n",
    "import json\n",
    "\n",
    "from random import randint\n",
    "from time import sleep\n",
    "from tqdm import tqdm"
   ]
  },
  {
   "cell_type": "code",
   "execution_count": 2,
   "metadata": {},
   "outputs": [
    {
     "data": {
      "text/html": [
       "<div>\n",
       "<style scoped>\n",
       "    .dataframe tbody tr th:only-of-type {\n",
       "        vertical-align: middle;\n",
       "    }\n",
       "\n",
       "    .dataframe tbody tr th {\n",
       "        vertical-align: top;\n",
       "    }\n",
       "\n",
       "    .dataframe thead th {\n",
       "        text-align: right;\n",
       "    }\n",
       "</style>\n",
       "<table border=\"1\" class=\"dataframe\">\n",
       "  <thead>\n",
       "    <tr style=\"text-align: right;\">\n",
       "      <th></th>\n",
       "      <th>cik</th>\n",
       "    </tr>\n",
       "  </thead>\n",
       "  <tbody>\n",
       "    <tr>\n",
       "      <td>7898</td>\n",
       "      <td>1485922</td>\n",
       "    </tr>\n",
       "    <tr>\n",
       "      <td>7899</td>\n",
       "      <td>1690511</td>\n",
       "    </tr>\n",
       "  </tbody>\n",
       "</table>\n",
       "</div>"
      ],
      "text/plain": [
       "          cik\n",
       "7898  1485922\n",
       "7899  1690511"
      ]
     },
     "execution_count": 2,
     "metadata": {},
     "output_type": "execute_result"
    }
   ],
   "source": [
    "cik_list = pd.read_csv('cik_list.csv')\n",
    "cik_list.tail(2)"
   ]
  },
  {
   "cell_type": "code",
   "execution_count": 4,
   "metadata": {},
   "outputs": [],
   "source": [
    "def wait_random_time():\n",
    "    # Average of 0.5s wait\n",
    "    sleep(randint(0, 100)/100)\n",
    "\n",
    "def get_edgar_feed_url(cik):\n",
    "    base_url = \"https://www.sec.gov/cgi-bin/browse-edgar\"\n",
    "    params = {\n",
    "        'action': 'getcompany',\n",
    "        'CIK': cik,\n",
    "        'type': 'SD',\n",
    "        'owner': 'exclude',\n",
    "        'start': 0,\n",
    "        'count': 40,\n",
    "        'output': 'atom',\n",
    "        'datea': f'20140101',\n",
    "    }\n",
    "    req = requests.Request('GET', base_url, params=params)\n",
    "    prepped = req.prepare()\n",
    "    feed_url = prepped.url\n",
    "    return feed_url\n",
    "\n",
    "def get_feed(cik):\n",
    "    url = get_edgar_feed_url(cik)\n",
    "    feed = feedparser.parse(url)\n",
    "    return feed"
   ]
  },
  {
   "cell_type": "code",
   "execution_count": 4,
   "metadata": {},
   "outputs": [
    {
     "name": "stderr",
     "output_type": "stream",
     "text": [
      "100%|██████████| 7900/7900 [2:03:21<00:00,  1.07it/s]   \n"
     ]
    }
   ],
   "source": [
    "for cik in tqdm(cik_list.cik.values):\n",
    "    out_file = f'data/edgar_results/{cik}.json'\n",
    "    if os.path.exists(out_file):\n",
    "        continue\n",
    "    wait_random_time()\n",
    "    feed = get_feed(cik)\n",
    "    json.dump(feed, open(out_file, 'w'))"
   ]
  },
  {
   "cell_type": "markdown",
   "metadata": {},
   "source": [
    "GET pages for each SD filing"
   ]
  },
  {
   "cell_type": "code",
   "execution_count": 2,
   "metadata": {},
   "outputs": [
    {
     "data": {
      "text/html": [
       "<div>\n",
       "<style scoped>\n",
       "    .dataframe tbody tr th:only-of-type {\n",
       "        vertical-align: middle;\n",
       "    }\n",
       "\n",
       "    .dataframe tbody tr th {\n",
       "        vertical-align: top;\n",
       "    }\n",
       "\n",
       "    .dataframe thead th {\n",
       "        text-align: right;\n",
       "    }\n",
       "</style>\n",
       "<table border=\"1\" class=\"dataframe\">\n",
       "  <thead>\n",
       "    <tr style=\"text-align: right;\">\n",
       "      <th></th>\n",
       "      <th>link</th>\n",
       "      <th>size</th>\n",
       "      <th>accession_number</th>\n",
       "      <th>filing_date</th>\n",
       "      <th>year</th>\n",
       "      <th>cik</th>\n",
       "      <th>conformed_name</th>\n",
       "    </tr>\n",
       "  </thead>\n",
       "  <tbody>\n",
       "    <tr>\n",
       "      <td>0</td>\n",
       "      <td>https://www.sec.gov/Archives/edgar/data/147473...</td>\n",
       "      <td>45 KB</td>\n",
       "      <td>0001437749-19-011154</td>\n",
       "      <td>2019-05-31</td>\n",
       "      <td>2019</td>\n",
       "      <td>1474735</td>\n",
       "      <td>GENERAC HOLDINGS INC.</td>\n",
       "    </tr>\n",
       "    <tr>\n",
       "      <td>1</td>\n",
       "      <td>https://www.sec.gov/Archives/edgar/data/147473...</td>\n",
       "      <td>39 KB</td>\n",
       "      <td>0001437749-18-010977</td>\n",
       "      <td>2018-05-31</td>\n",
       "      <td>2018</td>\n",
       "      <td>1474735</td>\n",
       "      <td>GENERAC HOLDINGS INC.</td>\n",
       "    </tr>\n",
       "    <tr>\n",
       "      <td>2</td>\n",
       "      <td>https://www.sec.gov/Archives/edgar/data/147473...</td>\n",
       "      <td>48 KB</td>\n",
       "      <td>0001437749-17-010176</td>\n",
       "      <td>2017-05-26</td>\n",
       "      <td>2017</td>\n",
       "      <td>1474735</td>\n",
       "      <td>GENERAC HOLDINGS INC.</td>\n",
       "    </tr>\n",
       "    <tr>\n",
       "      <td>3</td>\n",
       "      <td>https://www.sec.gov/Archives/edgar/data/147473...</td>\n",
       "      <td>47 KB</td>\n",
       "      <td>0001437749-16-033079</td>\n",
       "      <td>2016-05-31</td>\n",
       "      <td>2016</td>\n",
       "      <td>1474735</td>\n",
       "      <td>GENERAC HOLDINGS INC.</td>\n",
       "    </tr>\n",
       "    <tr>\n",
       "      <td>4</td>\n",
       "      <td>https://www.sec.gov/Archives/edgar/data/147473...</td>\n",
       "      <td>46 KB</td>\n",
       "      <td>0001437749-15-011220</td>\n",
       "      <td>2015-05-28</td>\n",
       "      <td>2015</td>\n",
       "      <td>1474735</td>\n",
       "      <td>GENERAC HOLDINGS INC.</td>\n",
       "    </tr>\n",
       "  </tbody>\n",
       "</table>\n",
       "</div>"
      ],
      "text/plain": [
       "                                                link   size  \\\n",
       "0  https://www.sec.gov/Archives/edgar/data/147473...  45 KB   \n",
       "1  https://www.sec.gov/Archives/edgar/data/147473...  39 KB   \n",
       "2  https://www.sec.gov/Archives/edgar/data/147473...  48 KB   \n",
       "3  https://www.sec.gov/Archives/edgar/data/147473...  47 KB   \n",
       "4  https://www.sec.gov/Archives/edgar/data/147473...  46 KB   \n",
       "\n",
       "       accession_number filing_date  year      cik         conformed_name  \n",
       "0  0001437749-19-011154  2019-05-31  2019  1474735  GENERAC HOLDINGS INC.  \n",
       "1  0001437749-18-010977  2018-05-31  2018  1474735  GENERAC HOLDINGS INC.  \n",
       "2  0001437749-17-010176  2017-05-26  2017  1474735  GENERAC HOLDINGS INC.  \n",
       "3  0001437749-16-033079  2016-05-31  2016  1474735  GENERAC HOLDINGS INC.  \n",
       "4  0001437749-15-011220  2015-05-28  2015  1474735  GENERAC HOLDINGS INC.  "
      ]
     },
     "execution_count": 2,
     "metadata": {},
     "output_type": "execute_result"
    }
   ],
   "source": [
    "df = pd.read_csv('summary_data/sd-filing-info-all.csv', index_col=0)\n",
    "df.head()"
   ]
  },
  {
   "cell_type": "code",
   "execution_count": 5,
   "metadata": {},
   "outputs": [
    {
     "name": "stderr",
     "output_type": "stream",
     "text": [
      "100%|██████████| 6730/6730 [1:35:35<00:00,  1.17it/s]  \n"
     ]
    }
   ],
   "source": [
    "for _, row in tqdm(df.iterrows(), total=len(df)):\n",
    "    out_file = f'data/edgar_pages/{row.accession_number}.html'\n",
    "    if os.path.exists(out_file):\n",
    "        continue\n",
    "    wait_random_time()\n",
    "    r = requests.get(row.link)\n",
    "    if r.status_code == 200:\n",
    "        with open(out_file, 'w') as f:\n",
    "            f.write(r.text)\n",
    "    else:\n",
    "        print(f'{row.accession_number} gave error {r.status_code}')"
   ]
  },
  {
   "cell_type": "code",
   "execution_count": null,
   "metadata": {},
   "outputs": [],
   "source": []
  }
 ],
 "metadata": {
  "kernelspec": {
   "display_name": "Python 3",
   "language": "python",
   "name": "python3"
  },
  "language_info": {
   "codemirror_mode": {
    "name": "ipython",
    "version": 3
   },
   "file_extension": ".py",
   "mimetype": "text/x-python",
   "name": "python",
   "nbconvert_exporter": "python",
   "pygments_lexer": "ipython3",
   "version": "3.7.3"
  }
 },
 "nbformat": 4,
 "nbformat_minor": 4
}
