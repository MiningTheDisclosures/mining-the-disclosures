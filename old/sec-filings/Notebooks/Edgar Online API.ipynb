{
 "cells": [
  {
   "cell_type": "markdown",
   "metadata": {},
   "source": [
    "### Not to be confused with getting data from edgar\n",
    "\n",
    "edgar is the main sec system - https://www.sec.gov/edgar/aboutedgar.htm\n",
    "edgar-online is an api provided by a seperate company http://developer.edgar-online.com (I think!)"
   ]
  },
  {
   "cell_type": "code",
   "execution_count": 9,
   "metadata": {
    "collapsed": true
   },
   "outputs": [],
   "source": [
    "import requests\n",
    "import os"
   ]
  },
  {
   "cell_type": "code",
   "execution_count": 16,
   "metadata": {
    "collapsed": false
   },
   "outputs": [],
   "source": [
    "def get_company_json(ciks):\n",
    "    url = \"http://edgaronline.api.mashery.com/v2/companies\"\n",
    "    params = {\n",
    "        'ciks': ciks,\n",
    "        'appkey': os.environ.get('EDGAR_KEY'),\n",
    "    }\n",
    "    response = requests.get(url=url, params=params)\n",
    "    return response"
   ]
  },
  {
   "cell_type": "code",
   "execution_count": 17,
   "metadata": {
    "collapsed": false
   },
   "outputs": [],
   "source": [
    "apple_ciks = '0000320193'\n",
    "apple_response = get_company_json(apple_ciks)"
   ]
  },
  {
   "cell_type": "code",
   "execution_count": 20,
   "metadata": {
    "collapsed": false
   },
   "outputs": [
    {
     "data": {
      "text/plain": [
       "{'result': {'rows': [{'rownum': 1,\n",
       "    'values': [{'field': 'cik', 'value': '0000320193'},\n",
       "     {'field': 'companyname', 'value': 'APPLE INC'},\n",
       "     {'field': 'entityid', 'value': 2035},\n",
       "     {'field': 'primaryexchange', 'value': 'Nasdaq Global Market'},\n",
       "     {'field': 'primarysymbol', 'value': 'AAPL'},\n",
       "     {'field': 'siccode', 'value': '3571'},\n",
       "     {'field': 'sicdescription', 'value': 'Electronic Computers'}]}],\n",
       "  'totalrows': 1}}"
      ]
     },
     "execution_count": 20,
     "metadata": {},
     "output_type": "execute_result"
    }
   ],
   "source": [
    "apple_response.json()"
   ]
  },
  {
   "cell_type": "code",
   "execution_count": 24,
   "metadata": {
    "collapsed": true
   },
   "outputs": [],
   "source": [
    "def look_up_company_by_ticker(list_of_tickers):\n",
    "    url = \"http://edgaronline.api.mashery.com/v2/companies\"\n",
    "    params = {\n",
    "        'appkey': os.environ.get('EDGAR_KEY'),\n",
    "        'primarysymbols': ','.join(list_of_tickers),\n",
    "    }\n",
    "    response = requests.get(url=url, params=params)\n",
    "    return response"
   ]
  },
  {
   "cell_type": "code",
   "execution_count": 25,
   "metadata": {
    "collapsed": true
   },
   "outputs": [],
   "source": [
    "list_of_tickers = ['DDD', 'MMM', 'ATEN']"
   ]
  },
  {
   "cell_type": "code",
   "execution_count": 26,
   "metadata": {
    "collapsed": false
   },
   "outputs": [
    {
     "data": {
      "text/plain": [
       "200"
      ]
     },
     "execution_count": 26,
     "metadata": {},
     "output_type": "execute_result"
    }
   ],
   "source": [
    "response = look_up_company_by_ticker(list_of_tickers)\n",
    "response.status_code"
   ]
  },
  {
   "cell_type": "code",
   "execution_count": 27,
   "metadata": {
    "collapsed": false
   },
   "outputs": [
    {
     "data": {
      "text/plain": [
       "{'result': {'rows': [{'rownum': 1,\n",
       "    'values': [{'field': 'cik', 'value': '0001580808'},\n",
       "     {'field': 'companyname', 'value': 'A10 NETWORKS, INC.'},\n",
       "     {'field': 'entityid', 'value': 910463},\n",
       "     {'field': 'primaryexchange', 'value': 'NYSE'},\n",
       "     {'field': 'primarysymbol', 'value': 'ATEN'},\n",
       "     {'field': 'siccode', 'value': '3576'},\n",
       "     {'field': 'sicdescription',\n",
       "      'value': 'Computer Communications Equipment'}]},\n",
       "   {'rownum': 2,\n",
       "    'values': [{'field': 'cik', 'value': '0000910638'},\n",
       "     {'field': 'companyname', 'value': '3D SYSTEMS CORP'},\n",
       "     {'field': 'entityid', 'value': 5580},\n",
       "     {'field': 'primaryexchange', 'value': 'NYSE'},\n",
       "     {'field': 'primarysymbol', 'value': 'DDD'},\n",
       "     {'field': 'siccode', 'value': '7372'},\n",
       "     {'field': 'sicdescription', 'value': 'Prepackaged Software'}]},\n",
       "   {'rownum': 3,\n",
       "    'values': [{'field': 'cik', 'value': '0000066740'},\n",
       "     {'field': 'companyname', 'value': '3M CO'},\n",
       "     {'field': 'entityid', 'value': 5248},\n",
       "     {'field': 'primaryexchange', 'value': 'NYSE'},\n",
       "     {'field': 'primarysymbol', 'value': 'MMM'},\n",
       "     {'field': 'siccode', 'value': '3841'},\n",
       "     {'field': 'sicdescription',\n",
       "      'value': 'Surgical and Medical Instruments and Apparatus'}]}],\n",
       "  'totalrows': 3}}"
      ]
     },
     "execution_count": 27,
     "metadata": {},
     "output_type": "execute_result"
    }
   ],
   "source": [
    "response.json()"
   ]
  },
  {
   "cell_type": "code",
   "execution_count": null,
   "metadata": {
    "collapsed": true
   },
   "outputs": [],
   "source": []
  }
 ],
 "metadata": {
  "kernelspec": {
   "display_name": "Python 3",
   "language": "python",
   "name": "python3"
  },
  "language_info": {
   "codemirror_mode": {
    "name": "ipython",
    "version": 3
   },
   "file_extension": ".py",
   "mimetype": "text/x-python",
   "name": "python",
   "nbconvert_exporter": "python",
   "pygments_lexer": "ipython3",
   "version": "3.4.4"
  }
 },
 "nbformat": 4,
 "nbformat_minor": 0
}
