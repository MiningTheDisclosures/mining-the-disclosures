{
 "cells": [
  {
   "cell_type": "code",
   "execution_count": 63,
   "metadata": {
    "collapsed": true
   },
   "outputs": [],
   "source": [
    "import pandas as pd\n",
    "import os\n",
    "from bs4 import BeautifulSoup\n"
   ]
  },
  {
   "cell_type": "code",
   "execution_count": 2,
   "metadata": {
    "collapsed": false
   },
   "outputs": [
    {
     "data": {
      "text/html": [
       "<div>\n",
       "<table border=\"1\" class=\"dataframe\">\n",
       "  <thead>\n",
       "    <tr style=\"text-align: right;\">\n",
       "      <th></th>\n",
       "      <th>orig_id</th>\n",
       "      <th>description</th>\n",
       "      <th>new_id</th>\n",
       "    </tr>\n",
       "  </thead>\n",
       "  <tbody>\n",
       "    <tr>\n",
       "      <th>0</th>\n",
       "      <td>1b</td>\n",
       "      <td>Specifically note that suppliers may continue ...</td>\n",
       "      <td>MA1_1A_2</td>\n",
       "    </tr>\n",
       "    <tr>\n",
       "      <th>1</th>\n",
       "      <td>3C</td>\n",
       "      <td>Indicate which 3TG minerals are used</td>\n",
       "      <td>MA2_3_3</td>\n",
       "    </tr>\n",
       "    <tr>\n",
       "      <th>2</th>\n",
       "      <td>7A</td>\n",
       "      <td>Sort countries of origin by mineral, product, ...</td>\n",
       "      <td>MA2_6_1</td>\n",
       "    </tr>\n",
       "    <tr>\n",
       "      <th>3</th>\n",
       "      <td>14A</td>\n",
       "      <td>Conducted Independent Private Sector Audit</td>\n",
       "      <td>MA4_13_1</td>\n",
       "    </tr>\n",
       "    <tr>\n",
       "      <th>4</th>\n",
       "      <td>19B</td>\n",
       "      <td>Source from an in-region initiative not just i...</td>\n",
       "      <td>MA5_18_2</td>\n",
       "    </tr>\n",
       "  </tbody>\n",
       "</table>\n",
       "</div>"
      ],
      "text/plain": [
       "  orig_id                                        description    new_id\n",
       "0      1b  Specifically note that suppliers may continue ...  MA1_1A_2\n",
       "1      3C               Indicate which 3TG minerals are used   MA2_3_3\n",
       "2      7A  Sort countries of origin by mineral, product, ...   MA2_6_1\n",
       "3     14A        Conducted Independent Private Sector Audit   MA4_13_1\n",
       "4     19B  Source from an in-region initiative not just i...  MA5_18_2"
      ]
     },
     "execution_count": 2,
     "metadata": {},
     "output_type": "execute_result"
    }
   ],
   "source": [
    "promising = pd.read_csv('/Users/caged/Dropbox/RSN Mining/promising indicators.csv')\n",
    "promising.head()"
   ]
  },
  {
   "cell_type": "code",
   "execution_count": 115,
   "metadata": {
    "collapsed": false
   },
   "outputs": [
    {
     "data": {
      "text/html": [
       "<div>\n",
       "<table border=\"1\" class=\"dataframe\">\n",
       "  <thead>\n",
       "    <tr style=\"text-align: right;\">\n",
       "      <th></th>\n",
       "      <th>label</th>\n",
       "      <th>cik</th>\n",
       "      <th>primarysymbol</th>\n",
       "      <th>dir_name</th>\n",
       "      <th>dir_path</th>\n",
       "    </tr>\n",
       "  </thead>\n",
       "  <tbody>\n",
       "    <tr>\n",
       "      <th>0</th>\n",
       "      <td>1</td>\n",
       "      <td>66740</td>\n",
       "      <td>MMM</td>\n",
       "      <td>MMM -- 66740</td>\n",
       "      <td>supporting_docs_2015/MMM -- 66740</td>\n",
       "    </tr>\n",
       "    <tr>\n",
       "      <th>1</th>\n",
       "      <td>1</td>\n",
       "      <td>937966</td>\n",
       "      <td>ASML</td>\n",
       "      <td>ASML -- 937966</td>\n",
       "      <td>supporting_docs_2015/ASML -- 937966</td>\n",
       "    </tr>\n",
       "    <tr>\n",
       "      <th>2</th>\n",
       "      <td>0</td>\n",
       "      <td>1800</td>\n",
       "      <td>ABT</td>\n",
       "      <td>ABT -- 1800</td>\n",
       "      <td>supporting_docs_2015/ABT -- 1800</td>\n",
       "    </tr>\n",
       "    <tr>\n",
       "      <th>3</th>\n",
       "      <td>0</td>\n",
       "      <td>1144215</td>\n",
       "      <td>AYI</td>\n",
       "      <td>AYI -- 1144215</td>\n",
       "      <td>supporting_docs_2015/AYI -- 1144215</td>\n",
       "    </tr>\n",
       "    <tr>\n",
       "      <th>4</th>\n",
       "      <td>1</td>\n",
       "      <td>886125</td>\n",
       "      <td>ALU</td>\n",
       "      <td>ALU -- 886125</td>\n",
       "      <td>supporting_docs_2015/ALU -- 886125</td>\n",
       "    </tr>\n",
       "  </tbody>\n",
       "</table>\n",
       "</div>"
      ],
      "text/plain": [
       "  label      cik primarysymbol        dir_name  \\\n",
       "0     1    66740           MMM    MMM -- 66740   \n",
       "1     1   937966          ASML  ASML -- 937966   \n",
       "2     0     1800           ABT     ABT -- 1800   \n",
       "3     0  1144215           AYI  AYI -- 1144215   \n",
       "4     1   886125           ALU   ALU -- 886125   \n",
       "\n",
       "                              dir_path  \n",
       "0    supporting_docs_2015/MMM -- 66740  \n",
       "1  supporting_docs_2015/ASML -- 937966  \n",
       "2     supporting_docs_2015/ABT -- 1800  \n",
       "3  supporting_docs_2015/AYI -- 1144215  \n",
       "4   supporting_docs_2015/ALU -- 886125  "
      ]
     },
     "execution_count": 115,
     "metadata": {},
     "output_type": "execute_result"
    }
   ],
   "source": [
    "ind_ma1 = pd.read_csv('/Users/caged/Dropbox/RSN Mining/indicator_data_matched_with_cik_data.csv', dtype='str', usecols=['MA1_1A_2', 'cik', 'primarysymbol'])\n",
    "ind_ma1 = ind_ma1.rename(columns={'MA1_1A_2': 'label'})\n",
    "ind_ma1['dir_name'] = ind_ma1.apply(lambda row: ' '.join([row.primarysymbol, '--', row.cik]), axis=1)\n",
    "ind_ma1['dir_path'] = ind_ma1.dir_name.apply(lambda x: os.path.join('supporting_docs_2015', x))\n",
    "ind_ma1 = ind_ma1.dropna()\n",
    "ind_ma1.head()"
   ]
  },
  {
   "cell_type": "code",
   "execution_count": 116,
   "metadata": {
    "collapsed": false
   },
   "outputs": [
    {
     "name": "stdout",
     "output_type": "stream",
     "text": [
      "supporting_docs_2015/MMM -- 66740/0001104659-15-042396.txt\n",
      "supporting_docs_2015/MMM -- 66740/a15-12384_1ex1d01.htm\n",
      "supporting_docs_2015/MMM -- 66740/a15-12384_1sd.htm\n"
     ]
    }
   ],
   "source": [
    "# How to walk a folder\n",
    "row_1 = ind_ma1.ix[0]\n",
    "for file_name in os.listdir(row_1.dir_path):\n",
    "    file_path = os.path.join(row_1.dir_path, file_name)\n",
    "    print(file_path)"
   ]
  },
  {
   "cell_type": "code",
   "execution_count": 117,
   "metadata": {
    "collapsed": false
   },
   "outputs": [
    {
     "data": {
      "text/html": [
       "<div>\n",
       "<table border=\"1\" class=\"dataframe\">\n",
       "  <thead>\n",
       "    <tr style=\"text-align: right;\">\n",
       "      <th></th>\n",
       "      <th>req_company_name</th>\n",
       "      <th>req_cik</th>\n",
       "      <th>req_url</th>\n",
       "      <th>ret_cik</th>\n",
       "      <th>ret_company_name</th>\n",
       "      <th>ret_description</th>\n",
       "      <th>ret_filing_date</th>\n",
       "      <th>ret_sec_accession_number</th>\n",
       "      <th>ret_title</th>\n",
       "      <th>ret_url</th>\n",
       "    </tr>\n",
       "  </thead>\n",
       "  <tbody>\n",
       "    <tr>\n",
       "      <th>2</th>\n",
       "      <td>AARON'S INC</td>\n",
       "      <td>706688</td>\n",
       "      <td>http://www.sec.gov/Archives/edgar/data/706688/...</td>\n",
       "      <td>0000706688</td>\n",
       "      <td>AARON'S INC</td>\n",
       "      <td>sdconflictminerals2014.htm</td>\n",
       "      <td>2015-05-22 12:06:05</td>\n",
       "      <td>0000706688-15-000148</td>\n",
       "      <td>SD_CONFLICT_MINERALS_2014</td>\n",
       "      <td>https://www.sec.gov/Archives/edgar/data/706688...</td>\n",
       "    </tr>\n",
       "    <tr>\n",
       "      <th>3</th>\n",
       "      <td>AARON'S INC</td>\n",
       "      <td>706688</td>\n",
       "      <td>http://www.sec.gov/Archives/edgar/data/706688/...</td>\n",
       "      <td>0000706688</td>\n",
       "      <td>AARON'S INC</td>\n",
       "      <td>0000706688-15-000148.txt</td>\n",
       "      <td>2015-05-22 12:06:05</td>\n",
       "      <td>0000706688-15-000148</td>\n",
       "      <td>Complete submission text file</td>\n",
       "      <td>https://www.sec.gov/Archives/edgar/data/706688...</td>\n",
       "    </tr>\n",
       "    <tr>\n",
       "      <th>7</th>\n",
       "      <td>AAON INC</td>\n",
       "      <td>824142</td>\n",
       "      <td>http://www.sec.gov/Archives/edgar/data/824142/...</td>\n",
       "      <td>0000824142</td>\n",
       "      <td>AAON INC</td>\n",
       "      <td>a2014formsd.htm</td>\n",
       "      <td>2015-05-29 11:36:18</td>\n",
       "      <td>0000824142-15-000071</td>\n",
       "      <td>SD</td>\n",
       "      <td>https://www.sec.gov/Archives/edgar/data/824142...</td>\n",
       "    </tr>\n",
       "    <tr>\n",
       "      <th>8</th>\n",
       "      <td>AAON INC</td>\n",
       "      <td>824142</td>\n",
       "      <td>http://www.sec.gov/Archives/edgar/data/824142/...</td>\n",
       "      <td>0000824142</td>\n",
       "      <td>AAON INC</td>\n",
       "      <td>exhibit101.htm</td>\n",
       "      <td>2015-05-29 11:36:18</td>\n",
       "      <td>0000824142-15-000071</td>\n",
       "      <td>EXHIBIT 1.01</td>\n",
       "      <td>https://www.sec.gov/Archives/edgar/data/824142...</td>\n",
       "    </tr>\n",
       "    <tr>\n",
       "      <th>9</th>\n",
       "      <td>AAON INC</td>\n",
       "      <td>824142</td>\n",
       "      <td>http://www.sec.gov/Archives/edgar/data/824142/...</td>\n",
       "      <td>0000824142</td>\n",
       "      <td>AAON INC</td>\n",
       "      <td>0000824142-15-000071.txt</td>\n",
       "      <td>2015-05-29 11:36:18</td>\n",
       "      <td>0000824142-15-000071</td>\n",
       "      <td>Complete submission text file</td>\n",
       "      <td>https://www.sec.gov/Archives/edgar/data/824142...</td>\n",
       "    </tr>\n",
       "  </tbody>\n",
       "</table>\n",
       "</div>"
      ],
      "text/plain": [
       "  req_company_name req_cik                                            req_url  \\\n",
       "2      AARON'S INC  706688  http://www.sec.gov/Archives/edgar/data/706688/...   \n",
       "3      AARON'S INC  706688  http://www.sec.gov/Archives/edgar/data/706688/...   \n",
       "7         AAON INC  824142  http://www.sec.gov/Archives/edgar/data/824142/...   \n",
       "8         AAON INC  824142  http://www.sec.gov/Archives/edgar/data/824142/...   \n",
       "9         AAON INC  824142  http://www.sec.gov/Archives/edgar/data/824142/...   \n",
       "\n",
       "      ret_cik ret_company_name             ret_description  \\\n",
       "2  0000706688      AARON'S INC  sdconflictminerals2014.htm   \n",
       "3  0000706688      AARON'S INC    0000706688-15-000148.txt   \n",
       "7  0000824142         AAON INC             a2014formsd.htm   \n",
       "8  0000824142         AAON INC              exhibit101.htm   \n",
       "9  0000824142         AAON INC    0000824142-15-000071.txt   \n",
       "\n",
       "      ret_filing_date ret_sec_accession_number                      ret_title  \\\n",
       "2 2015-05-22 12:06:05     0000706688-15-000148      SD_CONFLICT_MINERALS_2014   \n",
       "3 2015-05-22 12:06:05     0000706688-15-000148  Complete submission text file   \n",
       "7 2015-05-29 11:36:18     0000824142-15-000071                             SD   \n",
       "8 2015-05-29 11:36:18     0000824142-15-000071                   EXHIBIT 1.01   \n",
       "9 2015-05-29 11:36:18     0000824142-15-000071  Complete submission text file   \n",
       "\n",
       "                                             ret_url  \n",
       "2  https://www.sec.gov/Archives/edgar/data/706688...  \n",
       "3  https://www.sec.gov/Archives/edgar/data/706688...  \n",
       "7  https://www.sec.gov/Archives/edgar/data/824142...  \n",
       "8  https://www.sec.gov/Archives/edgar/data/824142...  \n",
       "9  https://www.sec.gov/Archives/edgar/data/824142...  "
      ]
     },
     "execution_count": 117,
     "metadata": {},
     "output_type": "execute_result"
    }
   ],
   "source": [
    "dd = pd.read_csv('disclosure_docs_list.csv', dtype='str')\n",
    "dd = dd.drop('Unnamed: 0', axis=1)\n",
    "dd = dd.rename(columns={'req_cik': 'req_company_name', 'req_company_name': 'req_cik'})\n",
    "dd.ret_filing_date = pd.to_datetime(dd.ret_filing_date)\n",
    "dd_2015 = dd[dd.ret_filing_date.dt.year == 2015]\n",
    "dd_2015.head()"
   ]
  },
  {
   "cell_type": "code",
   "execution_count": 119,
   "metadata": {
    "collapsed": false
   },
   "outputs": [
    {
     "data": {
      "text/html": [
       "<div>\n",
       "<table border=\"1\" class=\"dataframe\">\n",
       "  <thead>\n",
       "    <tr style=\"text-align: right;\">\n",
       "      <th></th>\n",
       "      <th>req_company_name</th>\n",
       "      <th>req_cik</th>\n",
       "      <th>req_url</th>\n",
       "      <th>ret_cik</th>\n",
       "      <th>ret_company_name</th>\n",
       "      <th>ret_description</th>\n",
       "      <th>ret_filing_date</th>\n",
       "      <th>ret_sec_accession_number</th>\n",
       "      <th>ret_title</th>\n",
       "      <th>ret_url</th>\n",
       "    </tr>\n",
       "  </thead>\n",
       "  <tbody>\n",
       "    <tr>\n",
       "      <th>50</th>\n",
       "      <td>3M CO</td>\n",
       "      <td>66740</td>\n",
       "      <td>http://www.sec.gov/Archives/edgar/data/66740/0...</td>\n",
       "      <td>0000066740</td>\n",
       "      <td>3M CO</td>\n",
       "      <td>0001104659-15-042396.txt</td>\n",
       "      <td>2015-06-01 15:06:30</td>\n",
       "      <td>0001104659-15-042396</td>\n",
       "      <td>Complete submission text file</td>\n",
       "      <td>https://www.sec.gov/Archives/edgar/data/66740/...</td>\n",
       "    </tr>\n",
       "  </tbody>\n",
       "</table>\n",
       "</div>"
      ],
      "text/plain": [
       "   req_company_name req_cik  \\\n",
       "50            3M CO   66740   \n",
       "\n",
       "                                              req_url     ret_cik  \\\n",
       "50  http://www.sec.gov/Archives/edgar/data/66740/0...  0000066740   \n",
       "\n",
       "   ret_company_name           ret_description     ret_filing_date  \\\n",
       "50            3M CO  0001104659-15-042396.txt 2015-06-01 15:06:30   \n",
       "\n",
       "   ret_sec_accession_number                      ret_title  \\\n",
       "50     0001104659-15-042396  Complete submission text file   \n",
       "\n",
       "                                              ret_url  \n",
       "50  https://www.sec.gov/Archives/edgar/data/66740/...  "
      ]
     },
     "execution_count": 119,
     "metadata": {},
     "output_type": "execute_result"
    }
   ],
   "source": [
    "row_1 = ind_ma1.ix[0]\n",
    "# Get just the text file\n",
    "dd_2015[(dd_2015.req_cik == row_1.cik) & (dd_2015.ret_title == 'Complete submission text file')]"
   ]
  },
  {
   "cell_type": "code",
   "execution_count": 134,
   "metadata": {
    "collapsed": false
   },
   "outputs": [],
   "source": [
    "text_file_paths = []\n",
    "list_of_labels = []\n",
    "for i, row in ind_ma1.iterrows():\n",
    "    results = dd_2015[(dd_2015.req_cik == row.cik) & (dd_2015.ret_title == 'Complete submission text file')].reset_index()\n",
    "    if len(results) == 1:\n",
    "        dir_path = row.dir_path\n",
    "        text_file_name = results['ret_description'][0]\n",
    "        text_file_paths.append(os.path.join(dir_path, text_file_name))\n",
    "        list_of_labels.append(int(row.label))"
   ]
  },
  {
   "cell_type": "code",
   "execution_count": 135,
   "metadata": {
    "collapsed": false
   },
   "outputs": [],
   "source": [
    "list_of_text_docs = []\n",
    "for file_path in text_file_paths:\n",
    "    with open(file_path, 'r') as f:\n",
    "        text = f.read()\n",
    "    soup = BeautifulSoup(text)\n",
    "    documents = soup.findAll('document')\n",
    "    text_docs = ''\n",
    "    for doc in documents:\n",
    "        text_docs = ''.join([text_docs, doc.get_text()])\n",
    "    list_of_text_docs.append(text_docs)"
   ]
  },
  {
   "cell_type": "code",
   "execution_count": 136,
   "metadata": {
    "collapsed": true
   },
   "outputs": [],
   "source": [
    "x = 75\n",
    "train_data = list_of_text_docs[0:x]\n",
    "train_labels = list_of_labels[0:x]\n",
    "test_data = list_of_text_docs[x:]\n",
    "test_labels = list_of_labels[x:]"
   ]
  },
  {
   "cell_type": "code",
   "execution_count": 137,
   "metadata": {
    "collapsed": true
   },
   "outputs": [],
   "source": [
    "from sklearn.feature_extraction.text import CountVectorizer\n",
    "from sklearn.feature_extraction.text import TfidfTransformer\n",
    "from sklearn.svm import LinearSVC"
   ]
  },
  {
   "cell_type": "code",
   "execution_count": 138,
   "metadata": {
    "collapsed": false
   },
   "outputs": [
    {
     "data": {
      "text/plain": [
       "(75, 14760)"
      ]
     },
     "execution_count": 138,
     "metadata": {},
     "output_type": "execute_result"
    }
   ],
   "source": [
    "\n",
    "count_vect = CountVectorizer()\n",
    "X_train_counts = count_vect.fit_transform(train_data)\n",
    "X_train_counts.shape"
   ]
  },
  {
   "cell_type": "code",
   "execution_count": 139,
   "metadata": {
    "collapsed": false
   },
   "outputs": [],
   "source": [
    "\n",
    "tfidf_transformer = TfidfTransformer()\n",
    "X_train_tfidf = tfidf_transformer.fit_transform(X_train_counts)"
   ]
  },
  {
   "cell_type": "code",
   "execution_count": 140,
   "metadata": {
    "collapsed": true
   },
   "outputs": [],
   "source": [
    "\n",
    "clf = LinearSVC().fit(X_train_tfidf, train_labels)"
   ]
  },
  {
   "cell_type": "code",
   "execution_count": 141,
   "metadata": {
    "collapsed": false
   },
   "outputs": [
    {
     "data": {
      "text/plain": [
       "array([0, 0, 0, 0, 0, 0, 0, 0, 0, 0, 0, 0, 0, 0, 0, 0, 0, 0, 0, 0, 0, 0, 0,\n",
       "       0, 0, 0, 0, 0, 0, 0, 0, 0, 0, 0, 0, 0, 0, 0, 0, 0, 0, 0, 0, 0, 0])"
      ]
     },
     "execution_count": 141,
     "metadata": {},
     "output_type": "execute_result"
    }
   ],
   "source": [
    "X_new_counts = count_vect.transform(test_data)\n",
    "X_new_tfidf = tfidf_transformer.transform(X_new_counts)\n",
    "predicted = clf.predict(X_new_tfidf)\n",
    "predicted"
   ]
  },
  {
   "cell_type": "code",
   "execution_count": 145,
   "metadata": {
    "collapsed": false
   },
   "outputs": [
    {
     "name": "stdout",
     "output_type": "stream",
     "text": [
      "14\n",
      "8\n"
     ]
    }
   ],
   "source": [
    "print(sum(train_labels))\n",
    "print(sum(test_labels))"
   ]
  },
  {
   "cell_type": "markdown",
   "metadata": {},
   "source": [
    "## Sandpit"
   ]
  },
  {
   "cell_type": "code",
   "execution_count": 46,
   "metadata": {
    "collapsed": false
   },
   "outputs": [
    {
     "name": "stdout",
     "output_type": "stream",
     "text": [
      "http://investors.3m.com/financials/sec-filings/default.aspx\n"
     ]
    }
   ],
   "source": [
    "from nltk.tokenize import RegexpTokenizer, SpaceTokenizer\n",
    "from nltk.corpus import stopwords\n",
    "\n",
    "# Pull out any urls\n",
    "word_tokenizer = SpaceTokenizer()\n",
    "simple_tokens = word_tokenizer.tokenize(documents[0].get_text())\n",
    "for token in simple_tokens:\n",
    "    if token.startswith('http'):\n",
    "        print(token)"
   ]
  },
  {
   "cell_type": "code",
   "execution_count": 47,
   "metadata": {
    "collapsed": false
   },
   "outputs": [],
   "source": [
    "# Don't need to do this (I think)\n",
    "tokenizer = RegexpTokenizer(r'\\w+')\n",
    "def tkize(doc_text):\n",
    "    tokens = tokenizer.tokenize(text_docs)\n",
    "    tokens = [tk.lower() for tk in tokens]\n",
    "    return tokens\n",
    "\n",
    "words_list = []\n",
    "for doc in documents:\n",
    "    doc_text = doc.get_text()\n",
    "    tks = tkize(doc_text)\n",
    "    words = [w for w in tks if not w in stopwords.words(\"english\")]\n",
    "    words_list.append(words)\n",
    "len(words_list)"
   ]
  }
 ],
 "metadata": {
  "kernelspec": {
   "display_name": "Python 3",
   "language": "python",
   "name": "python3"
  },
  "language_info": {
   "codemirror_mode": {
    "name": "ipython",
    "version": 3
   },
   "file_extension": ".py",
   "mimetype": "text/x-python",
   "name": "python",
   "nbconvert_exporter": "python",
   "pygments_lexer": "ipython3",
   "version": "3.4.4"
  }
 },
 "nbformat": 4,
 "nbformat_minor": 0
}
