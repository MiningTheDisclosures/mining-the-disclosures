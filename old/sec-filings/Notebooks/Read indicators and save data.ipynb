{
 "cells": [
  {
   "cell_type": "code",
   "execution_count": 3,
   "metadata": {
    "collapsed": true
   },
   "outputs": [],
   "source": [
    "import pandas as pd\n",
    "import numpy as np\n",
    "from os import makedirs\n",
    "from os.path import join\n",
    "import requests\n",
    "import shutil"
   ]
  },
  {
   "cell_type": "code",
   "execution_count": 4,
   "metadata": {
    "collapsed": false
   },
   "outputs": [
    {
     "data": {
      "text/html": [
       "<div>\n",
       "<table border=\"1\" class=\"dataframe\">\n",
       "  <thead>\n",
       "    <tr style=\"text-align: right;\">\n",
       "      <th></th>\n",
       "      <th>cik</th>\n",
       "      <th>companyname</th>\n",
       "      <th>entityid</th>\n",
       "      <th>primaryexchange</th>\n",
       "      <th>primarysymbol</th>\n",
       "      <th>siccode</th>\n",
       "      <th>sicdescription</th>\n",
       "      <th>feed_url</th>\n",
       "      <th>SD_url_2014</th>\n",
       "      <th>SD_url_2015</th>\n",
       "      <th>SD_url_2016</th>\n",
       "      <th>feed_retrieved_date</th>\n",
       "    </tr>\n",
       "  </thead>\n",
       "  <tbody>\n",
       "    <tr>\n",
       "      <th>0</th>\n",
       "      <td>706688</td>\n",
       "      <td>AARON'S INC</td>\n",
       "      <td>2480</td>\n",
       "      <td>NYSE</td>\n",
       "      <td>AAN</td>\n",
       "      <td>7359</td>\n",
       "      <td>Equipment Rental and Leasing, Not Elsewhere Cl...</td>\n",
       "      <td>https://www.sec.gov/cgi-bin/browse-edgar?owner...</td>\n",
       "      <td>http://www.sec.gov/Archives/edgar/data/706688/...</td>\n",
       "      <td>http://www.sec.gov/Archives/edgar/data/706688/...</td>\n",
       "      <td>NaN</td>\n",
       "      <td>2016-04-30</td>\n",
       "    </tr>\n",
       "    <tr>\n",
       "      <th>1</th>\n",
       "      <td>824142</td>\n",
       "      <td>AAON INC</td>\n",
       "      <td>938</td>\n",
       "      <td>Nasdaq Global Market</td>\n",
       "      <td>AAON</td>\n",
       "      <td>3585</td>\n",
       "      <td>Air-Conditioning and Warm Air Heating Equipmen...</td>\n",
       "      <td>https://www.sec.gov/cgi-bin/browse-edgar?owner...</td>\n",
       "      <td>http://www.sec.gov/Archives/edgar/data/824142/...</td>\n",
       "      <td>http://www.sec.gov/Archives/edgar/data/824142/...</td>\n",
       "      <td>NaN</td>\n",
       "      <td>2016-04-30</td>\n",
       "    </tr>\n",
       "    <tr>\n",
       "      <th>2</th>\n",
       "      <td>881890</td>\n",
       "      <td>ABAXIS INC</td>\n",
       "      <td>11929</td>\n",
       "      <td>Nasdaq Global Market</td>\n",
       "      <td>ABAX</td>\n",
       "      <td>3829</td>\n",
       "      <td>Measuring and Controlling Devices, Not Elsewhe...</td>\n",
       "      <td>https://www.sec.gov/cgi-bin/browse-edgar?owner...</td>\n",
       "      <td>http://www.sec.gov/Archives/edgar/data/881890/...</td>\n",
       "      <td>http://www.sec.gov/Archives/edgar/data/881890/...</td>\n",
       "      <td>NaN</td>\n",
       "      <td>2016-04-30</td>\n",
       "    </tr>\n",
       "    <tr>\n",
       "      <th>3</th>\n",
       "      <td>1551152</td>\n",
       "      <td>ABBVIE INC.</td>\n",
       "      <td>883230</td>\n",
       "      <td>NYSE</td>\n",
       "      <td>ABBV</td>\n",
       "      <td>2834</td>\n",
       "      <td>Pharmaceutical Preparations</td>\n",
       "      <td>https://www.sec.gov/cgi-bin/browse-edgar?owner...</td>\n",
       "      <td>http://www.sec.gov/Archives/edgar/data/1551152...</td>\n",
       "      <td>http://www.sec.gov/Archives/edgar/data/1551152...</td>\n",
       "      <td>NaN</td>\n",
       "      <td>2016-04-30</td>\n",
       "    </tr>\n",
       "    <tr>\n",
       "      <th>4</th>\n",
       "      <td>1800</td>\n",
       "      <td>ABBOTT LABORATORIES</td>\n",
       "      <td>5054</td>\n",
       "      <td>NYSE</td>\n",
       "      <td>ABT</td>\n",
       "      <td>2834</td>\n",
       "      <td>Pharmaceutical Preparations</td>\n",
       "      <td>https://www.sec.gov/cgi-bin/browse-edgar?owner...</td>\n",
       "      <td>http://www.sec.gov/Archives/edgar/data/1800/00...</td>\n",
       "      <td>http://www.sec.gov/Archives/edgar/data/1800/00...</td>\n",
       "      <td>NaN</td>\n",
       "      <td>2016-04-30</td>\n",
       "    </tr>\n",
       "  </tbody>\n",
       "</table>\n",
       "</div>"
      ],
      "text/plain": [
       "       cik          companyname entityid       primaryexchange primarysymbol  \\\n",
       "0   706688          AARON'S INC     2480                  NYSE           AAN   \n",
       "1   824142             AAON INC      938  Nasdaq Global Market          AAON   \n",
       "2   881890           ABAXIS INC    11929  Nasdaq Global Market          ABAX   \n",
       "3  1551152          ABBVIE INC.   883230                  NYSE          ABBV   \n",
       "4     1800  ABBOTT LABORATORIES     5054                  NYSE           ABT   \n",
       "\n",
       "  siccode                                     sicdescription  \\\n",
       "0    7359  Equipment Rental and Leasing, Not Elsewhere Cl...   \n",
       "1    3585  Air-Conditioning and Warm Air Heating Equipmen...   \n",
       "2    3829  Measuring and Controlling Devices, Not Elsewhe...   \n",
       "3    2834                        Pharmaceutical Preparations   \n",
       "4    2834                        Pharmaceutical Preparations   \n",
       "\n",
       "                                            feed_url  \\\n",
       "0  https://www.sec.gov/cgi-bin/browse-edgar?owner...   \n",
       "1  https://www.sec.gov/cgi-bin/browse-edgar?owner...   \n",
       "2  https://www.sec.gov/cgi-bin/browse-edgar?owner...   \n",
       "3  https://www.sec.gov/cgi-bin/browse-edgar?owner...   \n",
       "4  https://www.sec.gov/cgi-bin/browse-edgar?owner...   \n",
       "\n",
       "                                         SD_url_2014  \\\n",
       "0  http://www.sec.gov/Archives/edgar/data/706688/...   \n",
       "1  http://www.sec.gov/Archives/edgar/data/824142/...   \n",
       "2  http://www.sec.gov/Archives/edgar/data/881890/...   \n",
       "3  http://www.sec.gov/Archives/edgar/data/1551152...   \n",
       "4  http://www.sec.gov/Archives/edgar/data/1800/00...   \n",
       "\n",
       "                                         SD_url_2015 SD_url_2016  \\\n",
       "0  http://www.sec.gov/Archives/edgar/data/706688/...         NaN   \n",
       "1  http://www.sec.gov/Archives/edgar/data/824142/...         NaN   \n",
       "2  http://www.sec.gov/Archives/edgar/data/881890/...         NaN   \n",
       "3  http://www.sec.gov/Archives/edgar/data/1551152...         NaN   \n",
       "4  http://www.sec.gov/Archives/edgar/data/1800/00...         NaN   \n",
       "\n",
       "  feed_retrieved_date  \n",
       "0          2016-04-30  \n",
       "1          2016-04-30  \n",
       "2          2016-04-30  \n",
       "3          2016-04-30  \n",
       "4          2016-04-30  "
      ]
     },
     "execution_count": 4,
     "metadata": {},
     "output_type": "execute_result"
    }
   ],
   "source": [
    "all_cik_codes = pd.read_csv('cik_codes_with_feed_urls.csv', dtype='str')\n",
    "all_cik_codes = all_cik_codes.drop('id', axis=1)\n",
    "all_cik_codes.head()"
   ]
  },
  {
   "cell_type": "code",
   "execution_count": 5,
   "metadata": {
    "collapsed": false
   },
   "outputs": [
    {
     "name": "stdout",
     "output_type": "stream",
     "text": [
      "155\n"
     ]
    },
    {
     "data": {
      "text/html": [
       "<div>\n",
       "<table border=\"1\" class=\"dataframe\">\n",
       "  <thead>\n",
       "    <tr style=\"text-align: right;\">\n",
       "      <th></th>\n",
       "      <th>UID</th>\n",
       "      <th>CompanyName</th>\n",
       "      <th>MTD14_Pilot</th>\n",
       "      <th>Industry</th>\n",
       "      <th>Sector</th>\n",
       "      <th>Peer Group</th>\n",
       "      <th>2015_filing</th>\n",
       "      <th>2014_filing</th>\n",
       "      <th>MA1_1A_1</th>\n",
       "      <th>MA1_1A_2</th>\n",
       "      <th>...</th>\n",
       "      <th>MA5_19_3</th>\n",
       "      <th>MA5_19_4</th>\n",
       "      <th>MA5_19_5</th>\n",
       "      <th>MA5_19_2</th>\n",
       "      <th>MA5_19_1</th>\n",
       "      <th>MA5_20_1</th>\n",
       "      <th>MA5_20_2</th>\n",
       "      <th>name_upper</th>\n",
       "      <th>name_clean</th>\n",
       "      <th>extracted_cik_2015</th>\n",
       "    </tr>\n",
       "  </thead>\n",
       "  <tbody>\n",
       "    <tr>\n",
       "      <th>95</th>\n",
       "      <td>116</td>\n",
       "      <td>3M Co.</td>\n",
       "      <td>1</td>\n",
       "      <td>Industrial Conglomerates</td>\n",
       "      <td>Industrials</td>\n",
       "      <td>Industrial Conglomerates</td>\n",
       "      <td>http://www.sec.gov/Archives/edgar/data/66740/0...</td>\n",
       "      <td>http://www.sec.gov/Archives/edgar/data/66740/0...</td>\n",
       "      <td>1</td>\n",
       "      <td>1</td>\n",
       "      <td>...</td>\n",
       "      <td>NaN</td>\n",
       "      <td>NaN</td>\n",
       "      <td>NaN</td>\n",
       "      <td>1</td>\n",
       "      <td>NaN</td>\n",
       "      <td>0</td>\n",
       "      <td>NaN</td>\n",
       "      <td>3M CO.</td>\n",
       "      <td>3M CO</td>\n",
       "      <td>66740</td>\n",
       "    </tr>\n",
       "    <tr>\n",
       "      <th>86</th>\n",
       "      <td>105</td>\n",
       "      <td>ABB LTD</td>\n",
       "      <td>1</td>\n",
       "      <td>Electrical Equipment</td>\n",
       "      <td>Industrials</td>\n",
       "      <td>Electrical Equipment</td>\n",
       "      <td>http://www.sec.gov/Archives/edgar/data/1091587...</td>\n",
       "      <td>http://www.sec.gov/Archives/edgar/data/1091587...</td>\n",
       "      <td>1</td>\n",
       "      <td>1</td>\n",
       "      <td>...</td>\n",
       "      <td>NaN</td>\n",
       "      <td>NaN</td>\n",
       "      <td>NaN</td>\n",
       "      <td>1</td>\n",
       "      <td>NaN</td>\n",
       "      <td>0</td>\n",
       "      <td>0</td>\n",
       "      <td>ABB LTD</td>\n",
       "      <td>ABB LTD</td>\n",
       "      <td>1091587</td>\n",
       "    </tr>\n",
       "    <tr>\n",
       "      <th>130</th>\n",
       "      <td>157</td>\n",
       "      <td>ASML Holding NV</td>\n",
       "      <td>NaN</td>\n",
       "      <td>Semiconductors and Semiconductor Equipment</td>\n",
       "      <td>Information Technology</td>\n",
       "      <td>Semiconductors and Semiconductor Equipment</td>\n",
       "      <td>http://www.sec.gov/Archives/edgar/data/937966/...</td>\n",
       "      <td>http://www.sec.gov/Archives/edgar/data/937966/...</td>\n",
       "      <td>1</td>\n",
       "      <td>1</td>\n",
       "      <td>...</td>\n",
       "      <td>NaN</td>\n",
       "      <td>NaN</td>\n",
       "      <td>NaN</td>\n",
       "      <td>1</td>\n",
       "      <td>1</td>\n",
       "      <td>0</td>\n",
       "      <td>NaN</td>\n",
       "      <td>ASML HOLDING NV</td>\n",
       "      <td>ASML HOLDING NV</td>\n",
       "      <td>937966</td>\n",
       "    </tr>\n",
       "    <tr>\n",
       "      <th>67</th>\n",
       "      <td>82</td>\n",
       "      <td>Abbott Laboratories</td>\n",
       "      <td>1</td>\n",
       "      <td>Healthcare Equipment and Supplies</td>\n",
       "      <td>Healthcare</td>\n",
       "      <td>Healthcare Equipment and Supplies</td>\n",
       "      <td>http://www.sec.gov/Archives/edgar/data/1800/00...</td>\n",
       "      <td>http://www.sec.gov/Archives/edgar/data/1800/00...</td>\n",
       "      <td>0</td>\n",
       "      <td>0</td>\n",
       "      <td>...</td>\n",
       "      <td>NaN</td>\n",
       "      <td>NaN</td>\n",
       "      <td>NaN</td>\n",
       "      <td>1</td>\n",
       "      <td>NaN</td>\n",
       "      <td>0</td>\n",
       "      <td>NaN</td>\n",
       "      <td>ABBOTT LABORATORIES</td>\n",
       "      <td>ABBOTT LABORATORIES</td>\n",
       "      <td>1800</td>\n",
       "    </tr>\n",
       "    <tr>\n",
       "      <th>93</th>\n",
       "      <td>112</td>\n",
       "      <td>Acuity Brands, Inc.</td>\n",
       "      <td>NaN</td>\n",
       "      <td>Electrical Equipment</td>\n",
       "      <td>Industrials</td>\n",
       "      <td>Electrical Equipment</td>\n",
       "      <td>http://www.sec.gov/Archives/edgar/data/1144215...</td>\n",
       "      <td>http://www.sec.gov/Archives/edgar/data/1144215...</td>\n",
       "      <td>0</td>\n",
       "      <td>0</td>\n",
       "      <td>...</td>\n",
       "      <td>NaN</td>\n",
       "      <td>NaN</td>\n",
       "      <td>NaN</td>\n",
       "      <td>NaN</td>\n",
       "      <td>NaN</td>\n",
       "      <td>NaN</td>\n",
       "      <td>NaN</td>\n",
       "      <td>ACUITY BRANDS, INC.</td>\n",
       "      <td>ACUITY BRANDS INC</td>\n",
       "      <td>1144215</td>\n",
       "    </tr>\n",
       "  </tbody>\n",
       "</table>\n",
       "<p>5 rows × 90 columns</p>\n",
       "</div>"
      ],
      "text/plain": [
       "     UID          CompanyName MTD14_Pilot  \\\n",
       "95   116               3M Co.           1   \n",
       "86   105              ABB LTD           1   \n",
       "130  157      ASML Holding NV         NaN   \n",
       "67    82  Abbott Laboratories           1   \n",
       "93   112  Acuity Brands, Inc.         NaN   \n",
       "\n",
       "                                       Industry                  Sector  \\\n",
       "95                     Industrial Conglomerates             Industrials   \n",
       "86                         Electrical Equipment             Industrials   \n",
       "130  Semiconductors and Semiconductor Equipment  Information Technology   \n",
       "67            Healthcare Equipment and Supplies              Healthcare   \n",
       "93                         Electrical Equipment             Industrials   \n",
       "\n",
       "                                     Peer Group  \\\n",
       "95                     Industrial Conglomerates   \n",
       "86                         Electrical Equipment   \n",
       "130  Semiconductors and Semiconductor Equipment   \n",
       "67            Healthcare Equipment and Supplies   \n",
       "93                         Electrical Equipment   \n",
       "\n",
       "                                           2015_filing  \\\n",
       "95   http://www.sec.gov/Archives/edgar/data/66740/0...   \n",
       "86   http://www.sec.gov/Archives/edgar/data/1091587...   \n",
       "130  http://www.sec.gov/Archives/edgar/data/937966/...   \n",
       "67   http://www.sec.gov/Archives/edgar/data/1800/00...   \n",
       "93   http://www.sec.gov/Archives/edgar/data/1144215...   \n",
       "\n",
       "                                           2014_filing MA1_1A_1 MA1_1A_2  \\\n",
       "95   http://www.sec.gov/Archives/edgar/data/66740/0...        1        1   \n",
       "86   http://www.sec.gov/Archives/edgar/data/1091587...        1        1   \n",
       "130  http://www.sec.gov/Archives/edgar/data/937966/...        1        1   \n",
       "67   http://www.sec.gov/Archives/edgar/data/1800/00...        0        0   \n",
       "93   http://www.sec.gov/Archives/edgar/data/1144215...        0        0   \n",
       "\n",
       "           ...         MA5_19_3 MA5_19_4 MA5_19_5 MA5_19_2 MA5_19_1 MA5_20_1  \\\n",
       "95         ...              NaN      NaN      NaN        1      NaN        0   \n",
       "86         ...              NaN      NaN      NaN        1      NaN        0   \n",
       "130        ...              NaN      NaN      NaN        1        1        0   \n",
       "67         ...              NaN      NaN      NaN        1      NaN        0   \n",
       "93         ...              NaN      NaN      NaN      NaN      NaN      NaN   \n",
       "\n",
       "    MA5_20_2           name_upper           name_clean extracted_cik_2015  \n",
       "95       NaN               3M CO.                3M CO              66740  \n",
       "86         0              ABB LTD              ABB LTD            1091587  \n",
       "130      NaN      ASML HOLDING NV      ASML HOLDING NV             937966  \n",
       "67       NaN  ABBOTT LABORATORIES  ABBOTT LABORATORIES               1800  \n",
       "93       NaN  ACUITY BRANDS, INC.    ACUITY BRANDS INC            1144215  \n",
       "\n",
       "[5 rows x 90 columns]"
      ]
     },
     "execution_count": 5,
     "metadata": {},
     "output_type": "execute_result"
    }
   ],
   "source": [
    "import string\n",
    "exclude = set(string.punctuation)\n",
    "def clean_names(sub):\n",
    "    sub['name_upper'] = sub['CompanyName'].str.upper()\n",
    "    sub['name_clean'] = sub.name_upper.apply(lambda s: ''.join(ch for ch in s if ch not in exclude))\n",
    "    return sub\n",
    "\n",
    "def extract_cik_from_filing_url(url):\n",
    "    try:\n",
    "        return url.split('www.sec.gov/Archives/edgar/data/')[1].split('/')[0]\n",
    "    except:\n",
    "        print(url)\n",
    "\n",
    "\n",
    "rsn_2015_scores = pd.read_csv('/Users/caged/Dropbox/RSN Mining/RSN 2015 Scores - MachineReadable.csv', dtype='str')\n",
    "rsn_2015_scores = rsn_2015_scores.sort_values(by='CompanyName')\n",
    "rsn_2015_scores = clean_names(rsn_2015_scores)\n",
    "# I did some checking to make sure this was reasonable\n",
    "rsn_2015_scores['extracted_cik_2015'] = rsn_2015_scores['2015_filing'].apply(extract_cik_from_filing_url)\n",
    "print(len(rsn_2015_scores))\n",
    "rsn_2015_scores.head()"
   ]
  },
  {
   "cell_type": "code",
   "execution_count": 6,
   "metadata": {
    "collapsed": false
   },
   "outputs": [
    {
     "data": {
      "text/plain": [
       "'http://www.sec.gov/Archives/edgar/data/53669/000005366915000022/0000053669-15-000022-index.htm'"
      ]
     },
     "execution_count": 6,
     "metadata": {},
     "output_type": "execute_result"
    }
   ],
   "source": [
    "rsn_2015_scores['2015_filing'][0]"
   ]
  },
  {
   "cell_type": "code",
   "execution_count": 8,
   "metadata": {
    "collapsed": false
   },
   "outputs": [
    {
     "data": {
      "text/plain": [
       "'http://www.sec.gov/Archives/edgar/data/706688/000070668814000029/0000706688-14-000029-index.htm'"
      ]
     },
     "execution_count": 8,
     "metadata": {},
     "output_type": "execute_result"
    }
   ],
   "source": [
    "all_cik_codes.SD_url_2014[0]"
   ]
  },
  {
   "cell_type": "code",
   "execution_count": null,
   "metadata": {
    "collapsed": false
   },
   "outputs": [],
   "source": [
    "names_match = rsn_2015_scores.merge(all_cik_codes, left_on='extracted_cik_2015', right_on='cik', how='left')\n",
    "print(len(names_match))\n",
    "names_match.head()"
   ]
  },
  {
   "cell_type": "code",
   "execution_count": null,
   "metadata": {
    "collapsed": true
   },
   "outputs": [],
   "source": [
    "names"
   ]
  },
  {
   "cell_type": "code",
   "execution_count": null,
   "metadata": {
    "collapsed": false
   },
   "outputs": [],
   "source": [
    "print('No simple match: ', sum(pd.isnull(names_match.siccode)))\n",
    "print('Simple match: ', sum(~pd.isnull(names_match.siccode)))"
   ]
  },
  {
   "cell_type": "markdown",
   "metadata": {},
   "source": [
    "### There are 29 companies that don't match\n"
   ]
  },
  {
   "cell_type": "code",
   "execution_count": null,
   "metadata": {
    "collapsed": false
   },
   "outputs": [],
   "source": [
    "match = names_match[~pd.isnull(names_match.feed_url)]\n",
    "no_match = names_match[pd.isnull(names_match.feed_url)]\n",
    "no_match.head()"
   ]
  },
  {
   "cell_type": "markdown",
   "metadata": {},
   "source": [
    "## Now lets get the actual docs"
   ]
  },
  {
   "cell_type": "code",
   "execution_count": null,
   "metadata": {
    "collapsed": false
   },
   "outputs": [],
   "source": [
    "disclosure_docs = pd.read_csv('disclosure_docs_list.csv', dtype='str')\n",
    "disclosure_docs = disclosure_docs.drop('Unnamed: 0', axis=1)\n",
    "disclosure_docs = disclosure_docs.rename(columns={'req_cik': 'req_company_name', 'req_company_name': 'req_cik'})\n",
    "disclosure_docs.ret_filing_date = pd.to_datetime(disclosure_docs.ret_filing_date)\n",
    "disclosure_docs.head()"
   ]
  },
  {
   "cell_type": "code",
   "execution_count": null,
   "metadata": {
    "collapsed": false
   },
   "outputs": [],
   "source": [
    "disclosure_docs_2015 = disclosure_docs[disclosure_docs.ret_filing_date.dt.year == 2015]\n",
    "disclosure_docs_2015.head()"
   ]
  },
  {
   "cell_type": "code",
   "execution_count": null,
   "metadata": {
    "collapsed": false
   },
   "outputs": [],
   "source": [
    "match.head()"
   ]
  },
  {
   "cell_type": "code",
   "execution_count": null,
   "metadata": {
    "collapsed": false,
    "scrolled": true
   },
   "outputs": [],
   "source": [
    "match.to_csv('/Users/caged/Dropbox/RSN Mining/indicator_data_matched_with_cik_data.csv')"
   ]
  },
  {
   "cell_type": "code",
   "execution_count": null,
   "metadata": {
    "collapsed": false
   },
   "outputs": [],
   "source": [
    "## EXPENSIVE\n",
    "\n",
    "# Save all the data for the matched rows\n",
    "for i, company in match.iterrows():\n",
    "    print(i)\n",
    "    cik = company.cik\n",
    "    dir_name = ' '.join([company.primarysymbol, '--', cik])\n",
    "    dir_path = join('supporting_docs_2015', dir_name)\n",
    "    makedirs(dir_path)\n",
    "    relevant_docs = disclosure_docs_2015[disclosure_docs_2015.req_cik == cik]\n",
    "    for j, doc in relevant_docs.iterrows():\n",
    "        file_path = join(dir_path, doc.ret_description)\n",
    "        r = requests.get(doc.ret_url, stream=True)\n",
    "        if r.status_code == 200:\n",
    "            with open(file_path, 'wb') as f:\n",
    "                r.raw.decode_content = True\n",
    "                shutil.copyfileobj(r.raw, f) "
   ]
  },
  {
   "cell_type": "markdown",
   "metadata": {},
   "source": [
    "## We have now downloaded all the SEC disclosures for the companies in `indicator_data_matched_with_cik_data.csv`\n",
    "\n",
    "```\n",
    "    cik = company.cik\n",
    "    dir_name = ' '.join([company.primarysymbol, '--', cik])\n",
    "    dir_path = join('supporting_docs_2015', dir_name)\n",
    "    relevant_docs = disclosure_docs_2015[disclosure_docs_2015.req_cik == cik]\n",
    "    for j, doc in relevant_docs.iterrows():\n",
    "        file_path = join(dir_path, doc.ret_description)\n",
    "```"
   ]
  },
  {
   "cell_type": "code",
   "execution_count": null,
   "metadata": {
    "collapsed": true
   },
   "outputs": [],
   "source": []
  },
  {
   "cell_type": "code",
   "execution_count": null,
   "metadata": {
    "collapsed": true
   },
   "outputs": [],
   "source": []
  },
  {
   "cell_type": "code",
   "execution_count": null,
   "metadata": {
    "collapsed": true
   },
   "outputs": [],
   "source": []
  }
 ],
 "metadata": {
  "kernelspec": {
   "display_name": "Python 3",
   "language": "python",
   "name": "python3"
  },
  "language_info": {
   "codemirror_mode": {
    "name": "ipython",
    "version": 3
   },
   "file_extension": ".py",
   "mimetype": "text/x-python",
   "name": "python",
   "nbconvert_exporter": "python",
   "pygments_lexer": "ipython3",
   "version": "3.4.4"
  }
 },
 "nbformat": 4,
 "nbformat_minor": 0
}
